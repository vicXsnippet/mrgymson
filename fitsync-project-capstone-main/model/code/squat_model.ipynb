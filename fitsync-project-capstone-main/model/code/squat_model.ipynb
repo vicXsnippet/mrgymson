{
  "nbformat": 4,
  "nbformat_minor": 0,
  "metadata": {
    "colab": {
      "provenance": []
    },
    "kernelspec": {
      "name": "python3",
      "display_name": "Python 3"
    },
    "language_info": {
      "name": "python"
    }
  },
  "cells": [
    {
      "cell_type": "code",
      "source": [
        "# from google.colab import drive\n",
        "# drive.mount('/content/drive')"
      ],
      "metadata": {
        "colab": {
          "base_uri": "https://localhost:8080/"
        },
        "id": "Fuq6CIrfSrbq",
        "outputId": "1e922abe-6fd7-4740-a1b9-5fd36a515d96"
      },
      "execution_count": null,
      "outputs": [
        {
          "output_type": "stream",
          "name": "stdout",
          "text": [
            "Drive already mounted at /content/drive; to attempt to forcibly remount, call drive.mount(\"/content/drive\", force_remount=True).\n"
          ]
        }
      ]
    },
    {
      "cell_type": "code",
      "source": [
        "# %cd /content/drive/MyDrive/dataset/klasifikasi_squat/model4"
      ],
      "metadata": {
        "colab": {
          "base_uri": "https://localhost:8080/"
        },
        "id": "GKf38QknTG6Y",
        "outputId": "69021509-45d1-42eb-cfdb-048a8706485e"
      },
      "execution_count": null,
      "outputs": [
        {
          "output_type": "stream",
          "name": "stdout",
          "text": [
            "/content/drive/MyDrive/dataset/klasifikasi_squat/model4\n"
          ]
        }
      ]
    },
    {
      "cell_type": "code",
      "source": [
        "# ls"
      ],
      "metadata": {
        "colab": {
          "base_uri": "https://localhost:8080/"
        },
        "id": "uGKPq241Ta1F",
        "outputId": "62498a42-e58f-4de2-d02b-6b6fdc845f12"
      },
      "execution_count": null,
      "outputs": [
        {
          "output_type": "stream",
          "name": "stdout",
          "text": [
            "\u001b[0m\u001b[01;34mexamples\u001b[0m/                     landmark_squat_train_data.csv  squat_labels.txt  weights.best.hdf5\n",
            "landmark_squat_test_data.csv  movenet_thunder.tflite         squat.tflite\n"
          ]
        }
      ]
    },
    {
      "cell_type": "code",
      "execution_count": null,
      "metadata": {
        "id": "YNsH6b59kQkn"
      },
      "outputs": [],
      "source": [
        "!pip install -q opencv-python"
      ]
    },
    {
      "cell_type": "code",
      "source": [
        "import csv\n",
        "import cv2\n",
        "import itertools\n",
        "import numpy as np\n",
        "import pandas as pd\n",
        "import os\n",
        "import sys\n",
        "import tempfile\n",
        "import tqdm\n",
        "\n",
        "from matplotlib import pyplot as plt\n",
        "from matplotlib.collections import LineCollection\n",
        "\n",
        "import tensorflow as tf\n",
        "import tensorflow_hub as hub\n",
        "from tensorflow import keras\n",
        "\n",
        "from sklearn.model_selection import train_test_split\n",
        "from sklearn.metrics import accuracy_score, classification_report, confusion_matrix"
      ],
      "metadata": {
        "id": "04Hn1NWakvEq"
      },
      "execution_count": null,
      "outputs": []
    },
    {
      "cell_type": "code",
      "source": [
        "# Download model from TF Hub and check out inference code from GitHub\n",
        "!wget -q -O movenet_thunder.tflite https://tfhub.dev/google/lite-model/movenet/singlepose/thunder/tflite/float16/4?lite-format=tflite\n",
        "!git clone https://github.com/tensorflow/examples.git\n",
        "pose_sample_rpi_path = os.path.join(os.getcwd(), 'examples/lite/examples/pose_estimation/raspberry_pi')\n",
        "sys.path.append(pose_sample_rpi_path)\n",
        "\n",
        "# Load MoveNet Thunder model\n",
        "import utils\n",
        "from data import BodyPart\n",
        "from ml import Movenet\n",
        "movenet = Movenet('movenet_thunder')\n",
        "\n",
        "# Define function to run pose estimation using MoveNet Thunder.\n",
        "# You'll apply MoveNet's cropping algorithm and run inference multiple times on\n",
        "# the input image to improve pose estimation accuracy.\n",
        "def detect(input_tensor, inference_count=3):\n",
        "  image_height, image_width, channel = input_tensor.shape\n",
        "\n",
        "  # Detect pose using the full input image\n",
        "  movenet.detect(input_tensor.numpy(), reset_crop_region=True)\n",
        "\n",
        "  # Repeatedly using previous detection result to identify the region of\n",
        "  # interest and only croping that region to improve detection accuracy\n",
        "  for _ in range(inference_count - 1):\n",
        "    person = movenet.detect(input_tensor.numpy(),\n",
        "                            reset_crop_region=False)\n",
        "\n",
        "  return person"
      ],
      "metadata": {
        "colab": {
          "base_uri": "https://localhost:8080/"
        },
        "id": "SsLNb5GWkxI_",
        "outputId": "293f390f-8fc8-4438-e505-884ddbd1b441"
      },
      "execution_count": null,
      "outputs": [
        {
          "output_type": "stream",
          "name": "stdout",
          "text": [
            "fatal: destination path 'examples' already exists and is not an empty directory.\n"
          ]
        }
      ]
    },
    {
      "cell_type": "code",
      "source": [
        "# def draw_prediction_on_image(\n",
        "#     image, person, crop_region=None, close_figure=True,\n",
        "#     keep_input_size=False):\n",
        "#   # Draw the detection result on top of the image.\n",
        "#   image_np = utils.visualize(image, [person])\n",
        "\n",
        "#   # Plot the image with detection results.\n",
        "#   height, width, channel = image.shape\n",
        "#   aspect_ratio = float(width) / height\n",
        "#   fig, ax = plt.subplots(figsize=(12 * aspect_ratio, 12))\n",
        "#   im = ax.imshow(image_np)\n",
        "\n",
        "#   if close_figure:\n",
        "#     plt.close(fig)\n",
        "\n",
        "#   if not keep_input_size:\n",
        "#     image_np = utils.keep_aspect_ratio_resizer(image_np, (512, 512))\n",
        "\n",
        "#   return image_np"
      ],
      "metadata": {
        "id": "Lr89PuHAURXh"
      },
      "execution_count": null,
      "outputs": []
    },
    {
      "cell_type": "code",
      "source": [
        "# class MoveNetPreprocessor(object):\n",
        "#   def __init__(self,\n",
        "#                images_in_folder,\n",
        "#                images_out_folder,\n",
        "#                csvs_out_path):\n",
        "\n",
        "#     self._images_in_folder = images_in_folder\n",
        "#     self._images_out_folder = images_out_folder\n",
        "#     self._csvs_out_path = csvs_out_path\n",
        "#     self._messages = []\n",
        "\n",
        "#     # Create a temp dir to store the pose CSVs per class\n",
        "#     self._csvs_out_folder_per_class = tempfile.mkdtemp()\n",
        "\n",
        "#     # Get list of pose classes and print image statistics\n",
        "#     self._pose_class_names = sorted(\n",
        "#         [n for n in os.listdir(self._images_in_folder) if not n.startswith('.')]\n",
        "#         )\n",
        "\n",
        "#   def process(self, per_pose_class_limit=None, detection_threshold=0.1):\n",
        "#     # Loop through the classes and preprocess its images\n",
        "#     for pose_class_name in self._pose_class_names:\n",
        "#       print('Preprocessing', pose_class_name, file=sys.stderr)\n",
        "\n",
        "#       # Paths for the pose class.\n",
        "#       images_in_folder = os.path.join(self._images_in_folder, pose_class_name)\n",
        "#       images_out_folder = os.path.join(self._images_out_folder, pose_class_name)\n",
        "#       csv_out_path = os.path.join(self._csvs_out_folder_per_class,\n",
        "#                                   pose_class_name + '.csv')\n",
        "#       if not os.path.exists(images_out_folder):\n",
        "#         os.makedirs(images_out_folder)\n",
        "\n",
        "#       # Detect landmarks in each image and write it to a CSV file\n",
        "#       with open(csv_out_path, 'w') as csv_out_file:\n",
        "#         csv_out_writer = csv.writer(csv_out_file,\n",
        "#                                     delimiter=',',\n",
        "#                                     quoting=csv.QUOTE_MINIMAL)\n",
        "#         # Get list of images\n",
        "#         image_names = sorted(\n",
        "#             [n for n in os.listdir(images_in_folder) if not n.startswith('.')])\n",
        "#         if per_pose_class_limit is not None:\n",
        "#           image_names = image_names[:per_pose_class_limit]\n",
        "\n",
        "#         valid_image_count = 0\n",
        "\n",
        "#         # Detect pose landmarks from each image\n",
        "#         for image_name in tqdm.tqdm(image_names):\n",
        "#           image_path = os.path.join(images_in_folder, image_name)\n",
        "\n",
        "#           try:\n",
        "#             image = tf.io.read_file(image_path)\n",
        "#             image = tf.io.decode_jpeg(image)\n",
        "#           except:\n",
        "#             self._messages.append('Skipped ' + image_path + '. Invalid image.')\n",
        "#             continue\n",
        "#           else:\n",
        "#             image = tf.io.read_file(image_path)\n",
        "#             image = tf.io.decode_jpeg(image)\n",
        "#             image_height, image_width, channel = image.shape\n",
        "\n",
        "#           # Skip images that isn't RGB because Movenet requires RGB images\n",
        "#           if channel != 3:\n",
        "#             self._messages.append('Skipped ' + image_path +\n",
        "#                                   '. Image isn\\'t in RGB format.')\n",
        "#             continue\n",
        "#           person = detect(image)\n",
        "\n",
        "#           # Save landmarks if all landmarks were detected\n",
        "#           min_landmark_score = min(\n",
        "#               [keypoint.score for keypoint in person.keypoints])\n",
        "#           should_keep_image = min_landmark_score >= detection_threshold\n",
        "#           if not should_keep_image:\n",
        "#             self._messages.append('Skipped ' + image_path +\n",
        "#                                   '. No pose was confidentlly detected.')\n",
        "#             continue\n",
        "\n",
        "#           valid_image_count += 1\n",
        "\n",
        "#           # Draw the prediction result on top of the image for debugging later\n",
        "#           output_overlay = draw_prediction_on_image(\n",
        "#               image.numpy().astype(np.uint8), person,\n",
        "#               close_figure=True, keep_input_size=True)\n",
        "\n",
        "#           # Write detection result into an image file\n",
        "#           output_frame = cv2.cvtColor(output_overlay, cv2.COLOR_RGB2BGR)\n",
        "#           cv2.imwrite(os.path.join(images_out_folder, image_name), output_frame)\n",
        "\n",
        "#           # Get landmarks and scale it to the same size as the input image\n",
        "#           pose_landmarks = np.array(\n",
        "#               [[keypoint.coordinate.x, keypoint.coordinate.y, keypoint.score]\n",
        "#                 for keypoint in person.keypoints],\n",
        "#               dtype=np.float32)\n",
        "\n",
        "#           # Write the landmark coordinates to its per-class CSV file\n",
        "#           coordinates = pose_landmarks.flatten().astype(str).tolist()\n",
        "#           csv_out_writer.writerow([image_name] + coordinates)\n",
        "\n",
        "#         if not valid_image_count:\n",
        "#           raise RuntimeError(\n",
        "#               'No valid images found for the \"{}\" class.'\n",
        "#               .format(pose_class_name))\n",
        "\n",
        "#     # Print the error message collected during preprocessing.\n",
        "#     print('\\n'.join(self._messages))\n",
        "\n",
        "#     # Combine all per-class CSVs into a single output file\n",
        "#     all_landmarks_df = self._all_landmarks_as_dataframe()\n",
        "#     all_landmarks_df.to_csv(self._csvs_out_path, index=False)\n",
        "\n",
        "#   def class_names(self):\n",
        "#     \"\"\"List of classes found in the training dataset.\"\"\"\n",
        "#     return self._pose_class_names\n",
        "\n",
        "#   def _all_landmarks_as_dataframe(self):\n",
        "#     \"\"\"Merge all per-class CSVs into a single dataframe.\"\"\"\n",
        "#     total_df = None\n",
        "#     for class_index, class_name in enumerate(self._pose_class_names):\n",
        "#       csv_out_path = os.path.join(self._csvs_out_folder_per_class,\n",
        "#                                   class_name + '.csv')\n",
        "#       per_class_df = pd.read_csv(csv_out_path, header=None)\n",
        "\n",
        "#       # Add the labels\n",
        "#       per_class_df['class_no'] = [class_index]*len(per_class_df)\n",
        "#       per_class_df['class_name'] = [class_name]*len(per_class_df)\n",
        "\n",
        "#       # Append the folder name to the filename column (first column)\n",
        "#       per_class_df[per_class_df.columns[0]] = (os.path.join(class_name, '')\n",
        "#         + per_class_df[per_class_df.columns[0]].astype(str))\n",
        "\n",
        "#       if total_df is None:\n",
        "#         # For the first class, assign its data to the total dataframe\n",
        "#         total_df = per_class_df\n",
        "#       else:\n",
        "#         # Concatenate each class's data into the total dataframe\n",
        "#         total_df = pd.concat([total_df, per_class_df], axis=0)\n",
        "\n",
        "#     list_name = [[bodypart.name + '_x', bodypart.name + '_y',\n",
        "#                   bodypart.name + '_score'] for bodypart in BodyPart]\n",
        "#     header_name = []\n",
        "#     for columns_name in list_name:\n",
        "#       header_name += columns_name\n",
        "#     header_name = ['file_name'] + header_name\n",
        "#     header_map = {total_df.columns[i]: header_name[i]\n",
        "#                   for i in range(len(header_name))}\n",
        "\n",
        "#     total_df.rename(header_map, axis=1, inplace=True)\n",
        "\n",
        "#     return total_df"
      ],
      "metadata": {
        "id": "6ioAZOEhUVFh"
      },
      "execution_count": null,
      "outputs": []
    },
    {
      "cell_type": "code",
      "source": [
        "# class MovenetLayer(tf.keras.layers.Layer):\n",
        "#     def __init__(self, model_path, **kwargs):\n",
        "#         super(MovenetLayer, self).__init__(**kwargs)\n",
        "#         self.model_path = model_path\n",
        "#         self.interpreter = tf.lite.Interpreter(model_path=self.model_path)\n",
        "#         self.interpreter.allocate_tensors()\n",
        "#         self.input_details = self.interpreter.get_input_details()\n",
        "#         self.output_details = self.interpreter.get_output_details()\n",
        "\n",
        "#     def call(self, inputs):\n",
        "#         # Resize and normalize inputs\n",
        "#         resized_inputs = tf.image.resize(inputs, (256, 256))\n",
        "#         input_tensor = tf.cast(resized_inputs, dtype=tf.uint8)  # Convert to UINT8\n",
        "#         input_tensor = (tf.cast(input_tensor, dtype=tf.float32) - 127.5) / 127.5  # Normalize to [-1, 1]\n",
        "#         input_tensor = tf.expand_dims(input_tensor, axis=0)  # Add batch dimension\n",
        "\n",
        "#         # Convert to numpy array within the tf.py_function\n",
        "#         keypoints = tf.py_function(self.get_keypoints, [input_tensor], tf.float32)\n",
        "#         keypoints.set_shape([1, 17, 3])  # Set the shape explicitly to [batch_size, num_keypoints, 3]\n",
        "#         return keypoints\n",
        "\n",
        "#     @tf.function\n",
        "#     def get_keypoints(self, input_tensor):\n",
        "#         input_tensor_uint8 = np.uint8(input_tensor_numpy)  # Convert to UINT8\n",
        "#         input_tensor = tf.cast(tf.expand_dims(image, axis=0), dtype=tf.uint8)\n",
        "\n",
        "#         # Set tensor input for interpreter (expecting UINT8)\n",
        "#         self.interpreter.set_tensor(self.input_details[0]['index'], input_tensor_uint8)\n",
        "#         self.interpreter.invoke()\n",
        "\n",
        "#         # Get output keypoints from interpreter\n",
        "#         keypoints_with_scores = self.interpreter.get_tensor(self.output_details[0]['index'])\n",
        "#         return keypoints_with_scores  # Return keypoints with scores\n"
      ],
      "metadata": {
        "id": "cbXJXqKMrem2"
      },
      "execution_count": null,
      "outputs": []
    },
    {
      "cell_type": "markdown",
      "source": [
        "#Load CSVs preprocessed ke TRAIN dan TEST dataset."
      ],
      "metadata": {
        "id": "7aGkMcxWxAXm"
      }
    },
    {
      "cell_type": "code",
      "source": [
        "csvs_out_test_path = 'landmark_squat_test_data.csv'\n",
        "csvs_out_train_path = 'landmark_squat_train_data.csv'\n",
        "\n",
        "\n",
        "def load_pose_landmarks(csv_path):\n",
        "  # Load the CSV file\n",
        "  dataframe = pd.read_csv(csv_path)\n",
        "  df_to_process = dataframe.copy()\n",
        "\n",
        "  # Drop the file_name columns as you don't need it during training.\n",
        "  df_to_process.drop(columns=['file_name'], inplace=True)\n",
        "\n",
        "  # Extract the list of class names\n",
        "  classes = df_to_process.pop('class_name').unique()\n",
        "\n",
        "  # Extract the labels\n",
        "  y = df_to_process.pop('class_no')\n",
        "\n",
        "  # Convert the input features and labels into the correct format for training.\n",
        "  X = df_to_process.astype('float64')\n",
        "\n",
        "  return X, y, classes, dataframe"
      ],
      "metadata": {
        "id": "C6NH3WC0xBY5"
      },
      "execution_count": null,
      "outputs": []
    },
    {
      "cell_type": "code",
      "source": [
        "# csvs_out_test_path = 'landmark_squat_test_data.csv'\n",
        "# csvs_out_train_path = 'landmark_squat_train_data.csv'\n",
        "\n",
        "\n",
        "# def load_pose_landmarks(csv_path):\n",
        "#   # Load the CSV file\n",
        "#   dataframe = pd.read_csv(csv_path)\n",
        "#   df_to_process = dataframe.copy()\n",
        "\n",
        "#   # Drop the file_name columns as you don't need it during training.\n",
        "#   df_to_process.drop(columns=['file_name'], inplace=True)\n",
        "\n",
        "#   # Extract the list of class names\n",
        "#   classes = df_to_process.pop('class_name').unique()\n",
        "\n",
        "#   # Extract the labels\n",
        "#   y = df_to_process.pop('class_no')\n",
        "\n",
        "#   # Convert the input features and labels into the correct format for training.\n",
        "#   X = df_to_process.astype('float64')\n",
        "#   y = keras.utils.to_categorical(y)\n",
        "\n",
        "#   return X, y, classes, dataframe"
      ],
      "metadata": {
        "id": "hKRlvuyfGhU_"
      },
      "execution_count": null,
      "outputs": []
    },
    {
      "cell_type": "code",
      "source": [
        "# Load the train data\n",
        "X, y, class_names, _ = load_pose_landmarks(csvs_out_train_path)\n",
        "\n",
        "# Split training data (X, y) into (X_train, y_train) and (X_val, y_val)\n",
        "X_train, X_val, y_train, y_val = train_test_split(X, y,\n",
        "                                                  test_size=0.15)"
      ],
      "metadata": {
        "id": "5rKrvZZ_xN8x"
      },
      "execution_count": null,
      "outputs": []
    },
    {
      "cell_type": "code",
      "source": [
        "# Load the test data\n",
        "X_test, y_test, _, df_test = load_pose_landmarks(csvs_out_test_path)"
      ],
      "metadata": {
        "id": "fbUSYA0cxSXQ"
      },
      "execution_count": null,
      "outputs": []
    },
    {
      "cell_type": "markdown",
      "source": [
        "###Define functions to convert the pose landmarks to a pose embedding (a.k.a. feature vector) for pose classification"
      ],
      "metadata": {
        "id": "LezOFn0I3Xwb"
      }
    },
    {
      "cell_type": "code",
      "source": [
        "def get_center_point(landmarks, left_bodypart, right_bodypart):\n",
        "  left = tf.gather(landmarks, left_bodypart.value, axis=1)\n",
        "  right = tf.gather(landmarks, right_bodypart.value, axis=1)\n",
        "  center = left * 0.5 + right * 0.5\n",
        "  return center\n",
        "\n",
        "\n",
        "def get_pose_size(landmarks, torso_size_multiplier=2.5):\n",
        "  # Hips center\n",
        "  hips_center = get_center_point(landmarks, BodyPart.LEFT_HIP,\n",
        "                                 BodyPart.RIGHT_HIP)\n",
        "\n",
        "  # Shoulders center\n",
        "  shoulders_center = get_center_point(landmarks, BodyPart.LEFT_SHOULDER,\n",
        "                                      BodyPart.RIGHT_SHOULDER)\n",
        "\n",
        "  # Torso size as the minimum body size\n",
        "  torso_size = tf.linalg.norm(shoulders_center - hips_center)\n",
        "\n",
        "  # Pose center\n",
        "  pose_center_new = get_center_point(landmarks, BodyPart.LEFT_HIP,\n",
        "                                     BodyPart.RIGHT_HIP)\n",
        "  pose_center_new = tf.expand_dims(pose_center_new, axis=1)\n",
        "  # Broadcast the pose center to the same size as the landmark vector to\n",
        "  # perform substraction\n",
        "  pose_center_new = tf.broadcast_to(pose_center_new,\n",
        "                                    [tf.size(landmarks) // (17*2), 17, 2])\n",
        "\n",
        "  # Dist to pose center\n",
        "  d = tf.gather(landmarks - pose_center_new, 0, axis=0,\n",
        "                name=\"dist_to_pose_center\")\n",
        "  # Max dist to pose center\n",
        "  max_dist = tf.reduce_max(tf.linalg.norm(d, axis=0))\n",
        "\n",
        "  # Normalize scale\n",
        "  pose_size = tf.maximum(torso_size * torso_size_multiplier, max_dist)\n",
        "\n",
        "  return pose_size\n",
        "\n",
        "\n",
        "def normalize_pose_landmarks(landmarks):\n",
        "  # Move landmarks so that the pose center becomes (0,0)\n",
        "  pose_center = get_center_point(landmarks, BodyPart.LEFT_HIP,\n",
        "                                 BodyPart.RIGHT_HIP)\n",
        "  pose_center = tf.expand_dims(pose_center, axis=1)\n",
        "  # Broadcast the pose center to the same size as the landmark vector to perform\n",
        "  # substraction\n",
        "  pose_center = tf.broadcast_to(pose_center,\n",
        "                                [tf.size(landmarks) // (17*2), 17, 2])\n",
        "  landmarks = landmarks - pose_center\n",
        "\n",
        "  # Scale the landmarks to a constant pose size\n",
        "  pose_size = get_pose_size(landmarks)\n",
        "  landmarks /= pose_size\n",
        "\n",
        "  return landmarks\n",
        "\n",
        "\n",
        "def landmarks_to_embedding(landmarks_and_scores):\n",
        "  # Reshape the flat input into a matrix with shape=(17, 3)\n",
        "  reshaped_inputs = keras.layers.Reshape((17, 3))(landmarks_and_scores)\n",
        "\n",
        "  # Normalize landmarks 2D\n",
        "  landmarks = normalize_pose_landmarks(reshaped_inputs[:, :, :2])\n",
        "\n",
        "  # Flatten the normalized landmark coordinates into a vector\n",
        "  embedding = keras.layers.Flatten()(landmarks)\n",
        "\n",
        "  return embedding"
      ],
      "metadata": {
        "id": "L0z82aew3U7L"
      },
      "execution_count": null,
      "outputs": []
    },
    {
      "cell_type": "markdown",
      "source": [
        "# Define the model"
      ],
      "metadata": {
        "id": "9lie1mjk3o_R"
      }
    },
    {
      "cell_type": "code",
      "source": [
        "# Define the model\n",
        "inputs = tf.keras.Input(shape=(51))\n",
        "embedding = landmarks_to_embedding(inputs)\n",
        "\n",
        "layer = keras.layers.Dense(128, activation=tf.nn.relu6)(embedding)\n",
        "layer = keras.layers.Dropout(0.5)(layer)\n",
        "layer = keras.layers.Dense(64, activation=tf.nn.relu6)(layer)\n",
        "layer = keras.layers.Dropout(0.5)(layer)\n",
        "layer = keras.layers.Dense(32, activation=tf.nn.relu6)(layer)\n",
        "layer = keras.layers.Dropout(0.5)(layer)\n",
        "outputs = keras.layers.Dense(1, activation=\"sigmoid\")(layer)\n",
        "\n",
        "model = keras.Model(inputs, outputs)\n",
        "model.summary()"
      ],
      "metadata": {
        "id": "5fgcOiQ43nYF",
        "colab": {
          "base_uri": "https://localhost:8080/"
        },
        "outputId": "926860e6-212c-4a9f-9a4f-bdb8ce31fd8a"
      },
      "execution_count": null,
      "outputs": [
        {
          "output_type": "stream",
          "name": "stdout",
          "text": [
            "Model: \"model\"\n",
            "__________________________________________________________________________________________________\n",
            " Layer (type)                Output Shape                 Param #   Connected to                  \n",
            "==================================================================================================\n",
            " input_1 (InputLayer)        [(None, 51)]                 0         []                            \n",
            "                                                                                                  \n",
            " reshape (Reshape)           (None, 17, 3)                0         ['input_1[0][0]']             \n",
            "                                                                                                  \n",
            " tf.__operators__.getitem (  (None, 17, 2)                0         ['reshape[0][0]']             \n",
            " SlicingOpLambda)                                                                                 \n",
            "                                                                                                  \n",
            " tf.compat.v1.gather (TFOpL  (None, 2)                    0         ['tf.__operators__.getitem[0][\n",
            " ambda)                                                             0]']                          \n",
            "                                                                                                  \n",
            " tf.compat.v1.gather_1 (TFO  (None, 2)                    0         ['tf.__operators__.getitem[0][\n",
            " pLambda)                                                           0]']                          \n",
            "                                                                                                  \n",
            " tf.math.multiply (TFOpLamb  (None, 2)                    0         ['tf.compat.v1.gather[0][0]'] \n",
            " da)                                                                                              \n",
            "                                                                                                  \n",
            " tf.math.multiply_1 (TFOpLa  (None, 2)                    0         ['tf.compat.v1.gather_1[0][0]'\n",
            " mbda)                                                              ]                             \n",
            "                                                                                                  \n",
            " tf.__operators__.add (TFOp  (None, 2)                    0         ['tf.math.multiply[0][0]',    \n",
            " Lambda)                                                             'tf.math.multiply_1[0][0]']  \n",
            "                                                                                                  \n",
            " tf.compat.v1.size (TFOpLam  ()                           0         ['tf.__operators__.getitem[0][\n",
            " bda)                                                               0]']                          \n",
            "                                                                                                  \n",
            " tf.expand_dims (TFOpLambda  (None, 1, 2)                 0         ['tf.__operators__.add[0][0]']\n",
            " )                                                                                                \n",
            "                                                                                                  \n",
            " tf.compat.v1.floor_div (TF  ()                           0         ['tf.compat.v1.size[0][0]']   \n",
            " OpLambda)                                                                                        \n",
            "                                                                                                  \n",
            " tf.broadcast_to (TFOpLambd  (None, 17, 2)                0         ['tf.expand_dims[0][0]',      \n",
            " a)                                                                  'tf.compat.v1.floor_div[0][0]\n",
            "                                                                    ']                            \n",
            "                                                                                                  \n",
            " tf.math.subtract (TFOpLamb  (None, 17, 2)                0         ['tf.__operators__.getitem[0][\n",
            " da)                                                                0]',                          \n",
            "                                                                     'tf.broadcast_to[0][0]']     \n",
            "                                                                                                  \n",
            " tf.compat.v1.gather_6 (TFO  (None, 2)                    0         ['tf.math.subtract[0][0]']    \n",
            " pLambda)                                                                                         \n",
            "                                                                                                  \n",
            " tf.compat.v1.gather_7 (TFO  (None, 2)                    0         ['tf.math.subtract[0][0]']    \n",
            " pLambda)                                                                                         \n",
            "                                                                                                  \n",
            " tf.math.multiply_6 (TFOpLa  (None, 2)                    0         ['tf.compat.v1.gather_6[0][0]'\n",
            " mbda)                                                              ]                             \n",
            "                                                                                                  \n",
            " tf.math.multiply_7 (TFOpLa  (None, 2)                    0         ['tf.compat.v1.gather_7[0][0]'\n",
            " mbda)                                                              ]                             \n",
            "                                                                                                  \n",
            " tf.__operators__.add_3 (TF  (None, 2)                    0         ['tf.math.multiply_6[0][0]',  \n",
            " OpLambda)                                                           'tf.math.multiply_7[0][0]']  \n",
            "                                                                                                  \n",
            " tf.compat.v1.size_1 (TFOpL  ()                           0         ['tf.math.subtract[0][0]']    \n",
            " ambda)                                                                                           \n",
            "                                                                                                  \n",
            " tf.compat.v1.gather_4 (TFO  (None, 2)                    0         ['tf.math.subtract[0][0]']    \n",
            " pLambda)                                                                                         \n",
            "                                                                                                  \n",
            " tf.compat.v1.gather_5 (TFO  (None, 2)                    0         ['tf.math.subtract[0][0]']    \n",
            " pLambda)                                                                                         \n",
            "                                                                                                  \n",
            " tf.compat.v1.gather_2 (TFO  (None, 2)                    0         ['tf.math.subtract[0][0]']    \n",
            " pLambda)                                                                                         \n",
            "                                                                                                  \n",
            " tf.compat.v1.gather_3 (TFO  (None, 2)                    0         ['tf.math.subtract[0][0]']    \n",
            " pLambda)                                                                                         \n",
            "                                                                                                  \n",
            " tf.expand_dims_1 (TFOpLamb  (None, 1, 2)                 0         ['tf.__operators__.add_3[0][0]\n",
            " da)                                                                ']                            \n",
            "                                                                                                  \n",
            " tf.compat.v1.floor_div_1 (  ()                           0         ['tf.compat.v1.size_1[0][0]'] \n",
            " TFOpLambda)                                                                                      \n",
            "                                                                                                  \n",
            " tf.math.multiply_4 (TFOpLa  (None, 2)                    0         ['tf.compat.v1.gather_4[0][0]'\n",
            " mbda)                                                              ]                             \n",
            "                                                                                                  \n",
            " tf.math.multiply_5 (TFOpLa  (None, 2)                    0         ['tf.compat.v1.gather_5[0][0]'\n",
            " mbda)                                                              ]                             \n",
            "                                                                                                  \n",
            " tf.math.multiply_2 (TFOpLa  (None, 2)                    0         ['tf.compat.v1.gather_2[0][0]'\n",
            " mbda)                                                              ]                             \n",
            "                                                                                                  \n",
            " tf.math.multiply_3 (TFOpLa  (None, 2)                    0         ['tf.compat.v1.gather_3[0][0]'\n",
            " mbda)                                                              ]                             \n",
            "                                                                                                  \n",
            " tf.broadcast_to_1 (TFOpLam  (None, 17, 2)                0         ['tf.expand_dims_1[0][0]',    \n",
            " bda)                                                                'tf.compat.v1.floor_div_1[0][\n",
            "                                                                    0]']                          \n",
            "                                                                                                  \n",
            " tf.__operators__.add_2 (TF  (None, 2)                    0         ['tf.math.multiply_4[0][0]',  \n",
            " OpLambda)                                                           'tf.math.multiply_5[0][0]']  \n",
            "                                                                                                  \n",
            " tf.__operators__.add_1 (TF  (None, 2)                    0         ['tf.math.multiply_2[0][0]',  \n",
            " OpLambda)                                                           'tf.math.multiply_3[0][0]']  \n",
            "                                                                                                  \n",
            " tf.math.subtract_2 (TFOpLa  (None, 17, 2)                0         ['tf.math.subtract[0][0]',    \n",
            " mbda)                                                               'tf.broadcast_to_1[0][0]']   \n",
            "                                                                                                  \n",
            " tf.math.subtract_1 (TFOpLa  (None, 2)                    0         ['tf.__operators__.add_2[0][0]\n",
            " mbda)                                                              ',                            \n",
            "                                                                     'tf.__operators__.add_1[0][0]\n",
            "                                                                    ']                            \n",
            "                                                                                                  \n",
            " tf.compat.v1.gather_8 (TFO  (17, 2)                      0         ['tf.math.subtract_2[0][0]']  \n",
            " pLambda)                                                                                         \n",
            "                                                                                                  \n",
            " tf.compat.v1.norm (TFOpLam  ()                           0         ['tf.math.subtract_1[0][0]']  \n",
            " bda)                                                                                             \n",
            "                                                                                                  \n",
            " tf.compat.v1.norm_1 (TFOpL  (2,)                         0         ['tf.compat.v1.gather_8[0][0]'\n",
            " ambda)                                                             ]                             \n",
            "                                                                                                  \n",
            " tf.math.multiply_8 (TFOpLa  ()                           0         ['tf.compat.v1.norm[0][0]']   \n",
            " mbda)                                                                                            \n",
            "                                                                                                  \n",
            " tf.math.reduce_max (TFOpLa  ()                           0         ['tf.compat.v1.norm_1[0][0]'] \n",
            " mbda)                                                                                            \n",
            "                                                                                                  \n",
            " tf.math.maximum (TFOpLambd  ()                           0         ['tf.math.multiply_8[0][0]',  \n",
            " a)                                                                  'tf.math.reduce_max[0][0]']  \n",
            "                                                                                                  \n",
            " tf.math.truediv (TFOpLambd  (None, 17, 2)                0         ['tf.math.subtract[0][0]',    \n",
            " a)                                                                  'tf.math.maximum[0][0]']     \n",
            "                                                                                                  \n",
            " flatten (Flatten)           (None, 34)                   0         ['tf.math.truediv[0][0]']     \n",
            "                                                                                                  \n",
            " dense (Dense)               (None, 128)                  4480      ['flatten[0][0]']             \n",
            "                                                                                                  \n",
            " dropout (Dropout)           (None, 128)                  0         ['dense[0][0]']               \n",
            "                                                                                                  \n",
            " dense_1 (Dense)             (None, 64)                   8256      ['dropout[0][0]']             \n",
            "                                                                                                  \n",
            " dropout_1 (Dropout)         (None, 64)                   0         ['dense_1[0][0]']             \n",
            "                                                                                                  \n",
            " dense_2 (Dense)             (None, 32)                   2080      ['dropout_1[0][0]']           \n",
            "                                                                                                  \n",
            " dropout_2 (Dropout)         (None, 32)                   0         ['dense_2[0][0]']             \n",
            "                                                                                                  \n",
            " dense_3 (Dense)             (None, 1)                    33        ['dropout_2[0][0]']           \n",
            "                                                                                                  \n",
            "==================================================================================================\n",
            "Total params: 14849 (58.00 KB)\n",
            "Trainable params: 14849 (58.00 KB)\n",
            "Non-trainable params: 0 (0.00 Byte)\n",
            "__________________________________________________________________________________________________\n"
          ]
        }
      ]
    },
    {
      "cell_type": "code",
      "source": [
        "model.compile(\n",
        "    optimizer='adam',\n",
        "    loss='binary_crossentropy',\n",
        "    metrics=['accuracy']\n",
        ")\n",
        "\n",
        "# Add a checkpoint callback to store the checkpoint that has the highest\n",
        "# validation accuracy.\n",
        "checkpoint_path = \"weights.best.hdf5\"\n",
        "checkpoint = keras.callbacks.ModelCheckpoint(checkpoint_path,\n",
        "                             monitor='val_accuracy',\n",
        "                             verbose=1,\n",
        "                             save_best_only=True,\n",
        "                             mode='max')\n",
        "earlystopping = keras.callbacks.EarlyStopping(monitor='val_accuracy',\n",
        "                                              patience=10)\n",
        "\n",
        "# Start training\n",
        "history = model.fit(X_train, y_train,\n",
        "                    epochs=200,\n",
        "                    batch_size=32,\n",
        "                    validation_data=(X_val, y_val),\n",
        "                    callbacks=[checkpoint, earlystopping])"
      ],
      "metadata": {
        "id": "ITDbV28Y3sSP",
        "colab": {
          "base_uri": "https://localhost:8080/"
        },
        "outputId": "1a0f3673-8609-48cf-d311-ee058ed4c60a"
      },
      "execution_count": null,
      "outputs": [
        {
          "output_type": "stream",
          "name": "stdout",
          "text": [
            "Epoch 1/200\n",
            "19/24 [======================>.......] - ETA: 0s - loss: 0.6881 - accuracy: 0.5477\n",
            "Epoch 1: val_accuracy improved from -inf to 0.91603, saving model to weights.best.hdf5\n"
          ]
        },
        {
          "output_type": "stream",
          "name": "stderr",
          "text": [
            "/usr/local/lib/python3.10/dist-packages/keras/src/engine/training.py:3103: UserWarning: You are saving your model as an HDF5 file via `model.save()`. This file format is considered legacy. We recommend using instead the native Keras format, e.g. `model.save('my_model.keras')`.\n",
            "  saving_api.save_model(\n"
          ]
        },
        {
          "output_type": "stream",
          "name": "stdout",
          "text": [
            "\b\b\b\b\b\b\b\b\b\b\b\b\b\b\b\b\b\b\b\b\b\b\b\b\b\b\b\b\b\b\b\b\b\b\b\b\b\b\b\b\b\b\b\b\b\b\b\b\b\b\b\b\b\b\b\b\b\b\b\b\b\b\b\b\b\b\b\b\b\b\b\b\b\b\b\b\b\b\b\b\b\b\r24/24 [==============================] - 4s 53ms/step - loss: 0.6861 - accuracy: 0.5575 - val_loss: 0.6617 - val_accuracy: 0.9160\n",
            "Epoch 2/200\n",
            "12/24 [==============>...............] - ETA: 0s - loss: 0.6575 - accuracy: 0.7500\n",
            "Epoch 2: val_accuracy improved from 0.91603 to 0.95420, saving model to weights.best.hdf5\n",
            "24/24 [==============================] - 0s 9ms/step - loss: 0.6395 - accuracy: 0.7848 - val_loss: 0.5711 - val_accuracy: 0.9542\n",
            "Epoch 3/200\n",
            "16/24 [===================>..........] - ETA: 0s - loss: 0.5629 - accuracy: 0.8574\n",
            "Epoch 3: val_accuracy improved from 0.95420 to 0.99237, saving model to weights.best.hdf5\n",
            "24/24 [==============================] - 0s 8ms/step - loss: 0.5437 - accuracy: 0.8579 - val_loss: 0.3901 - val_accuracy: 0.9924\n",
            "Epoch 4/200\n",
            "20/24 [========================>.....] - ETA: 0s - loss: 0.3813 - accuracy: 0.9375\n",
            "Epoch 4: val_accuracy did not improve from 0.99237\n",
            "24/24 [==============================] - 0s 5ms/step - loss: 0.3703 - accuracy: 0.9432 - val_loss: 0.1914 - val_accuracy: 0.9924\n",
            "Epoch 5/200\n",
            "18/24 [=====================>........] - ETA: 0s - loss: 0.2288 - accuracy: 0.9444\n",
            "Epoch 5: val_accuracy did not improve from 0.99237\n",
            "24/24 [==============================] - 0s 5ms/step - loss: 0.2233 - accuracy: 0.9459 - val_loss: 0.1054 - val_accuracy: 0.9924\n",
            "Epoch 6/200\n",
            "20/24 [========================>.....] - ETA: 0s - loss: 0.1603 - accuracy: 0.9609\n",
            "Epoch 6: val_accuracy did not improve from 0.99237\n",
            "24/24 [==============================] - 0s 5ms/step - loss: 0.1564 - accuracy: 0.9621 - val_loss: 0.0585 - val_accuracy: 0.9924\n",
            "Epoch 7/200\n",
            "20/24 [========================>.....] - ETA: 0s - loss: 0.1093 - accuracy: 0.9812\n",
            "Epoch 7: val_accuracy did not improve from 0.99237\n",
            "24/24 [==============================] - 0s 4ms/step - loss: 0.1062 - accuracy: 0.9824 - val_loss: 0.0490 - val_accuracy: 0.9847\n",
            "Epoch 8/200\n",
            "14/24 [================>.............] - ETA: 0s - loss: 0.0742 - accuracy: 0.9866\n",
            "Epoch 8: val_accuracy improved from 0.99237 to 1.00000, saving model to weights.best.hdf5\n",
            "24/24 [==============================] - 0s 8ms/step - loss: 0.1012 - accuracy: 0.9811 - val_loss: 0.0241 - val_accuracy: 1.0000\n",
            "Epoch 9/200\n",
            "14/24 [================>.............] - ETA: 0s - loss: 0.1091 - accuracy: 0.9754\n",
            "Epoch 9: val_accuracy did not improve from 1.00000\n",
            "24/24 [==============================] - 0s 6ms/step - loss: 0.0900 - accuracy: 0.9838 - val_loss: 0.0280 - val_accuracy: 0.9924\n",
            "Epoch 10/200\n",
            "15/24 [=================>............] - ETA: 0s - loss: 0.0808 - accuracy: 0.9812\n",
            "Epoch 10: val_accuracy did not improve from 1.00000\n",
            "24/24 [==============================] - 0s 6ms/step - loss: 0.1015 - accuracy: 0.9811 - val_loss: 0.0179 - val_accuracy: 1.0000\n",
            "Epoch 11/200\n",
            "21/24 [=========================>....] - ETA: 0s - loss: 0.0933 - accuracy: 0.9792\n",
            "Epoch 11: val_accuracy did not improve from 1.00000\n",
            "24/24 [==============================] - 0s 5ms/step - loss: 0.0940 - accuracy: 0.9783 - val_loss: 0.0251 - val_accuracy: 1.0000\n",
            "Epoch 12/200\n",
            "19/24 [======================>.......] - ETA: 0s - loss: 0.0592 - accuracy: 0.9934\n",
            "Epoch 12: val_accuracy did not improve from 1.00000\n",
            "24/24 [==============================] - 0s 5ms/step - loss: 0.0702 - accuracy: 0.9905 - val_loss: 0.0197 - val_accuracy: 1.0000\n",
            "Epoch 13/200\n",
            "18/24 [=====================>........] - ETA: 0s - loss: 0.0903 - accuracy: 0.9844\n",
            "Epoch 13: val_accuracy did not improve from 1.00000\n",
            "24/24 [==============================] - 0s 5ms/step - loss: 0.0829 - accuracy: 0.9865 - val_loss: 0.0148 - val_accuracy: 1.0000\n",
            "Epoch 14/200\n",
            "16/24 [===================>..........] - ETA: 0s - loss: 0.0714 - accuracy: 0.9863\n",
            "Epoch 14: val_accuracy did not improve from 1.00000\n",
            "24/24 [==============================] - 0s 8ms/step - loss: 0.0621 - accuracy: 0.9892 - val_loss: 0.0184 - val_accuracy: 1.0000\n",
            "Epoch 15/200\n",
            "19/24 [======================>.......] - ETA: 0s - loss: 0.0585 - accuracy: 0.9918\n",
            "Epoch 15: val_accuracy did not improve from 1.00000\n",
            "24/24 [==============================] - 0s 5ms/step - loss: 0.0573 - accuracy: 0.9905 - val_loss: 0.0128 - val_accuracy: 1.0000\n",
            "Epoch 16/200\n",
            "19/24 [======================>.......] - ETA: 0s - loss: 0.0697 - accuracy: 0.9901\n",
            "Epoch 16: val_accuracy did not improve from 1.00000\n",
            "24/24 [==============================] - 0s 5ms/step - loss: 0.0616 - accuracy: 0.9919 - val_loss: 0.0153 - val_accuracy: 1.0000\n",
            "Epoch 17/200\n",
            "23/24 [===========================>..] - ETA: 0s - loss: 0.0537 - accuracy: 0.9891\n",
            "Epoch 17: val_accuracy did not improve from 1.00000\n",
            "24/24 [==============================] - 0s 7ms/step - loss: 0.0569 - accuracy: 0.9878 - val_loss: 0.0092 - val_accuracy: 1.0000\n",
            "Epoch 18/200\n",
            "16/24 [===================>..........] - ETA: 0s - loss: 0.0617 - accuracy: 0.9883\n",
            "Epoch 18: val_accuracy did not improve from 1.00000\n",
            "24/24 [==============================] - 0s 5ms/step - loss: 0.0660 - accuracy: 0.9865 - val_loss: 0.0093 - val_accuracy: 1.0000\n"
          ]
        }
      ]
    },
    {
      "cell_type": "code",
      "source": [
        "# Plot the learning curves\n",
        "def plot_learning_curve(history):\n",
        "    plt.figure(figsize=(12, 4))\n",
        "\n",
        "    # Plot training & validation accuracy values\n",
        "    plt.subplot(1, 2, 1)\n",
        "    plt.plot(history.history['accuracy'])\n",
        "    plt.plot(history.history['val_accuracy'])\n",
        "    plt.title('Model Accuracy')\n",
        "    plt.xlabel('Epoch')\n",
        "    plt.ylabel('Accuracy')\n",
        "    plt.legend(['Train', 'Validation'], loc='lower right')\n",
        "\n",
        "    # Plot training & validation loss values\n",
        "    plt.subplot(1, 2, 2)\n",
        "    plt.plot(history.history['loss'])\n",
        "    plt.plot(history.history['val_loss'])\n",
        "    plt.title('Model Loss')\n",
        "    plt.xlabel('Epoch')\n",
        "    plt.ylabel('Loss')\n",
        "    plt.legend(['Train', 'Validation'], loc='upper right')\n",
        "\n",
        "    plt.show()\n",
        "\n",
        "# Plot the learning curves\n",
        "plot_learning_curve(history)"
      ],
      "metadata": {
        "id": "j08a9MF-Gf_i",
        "colab": {
          "base_uri": "https://localhost:8080/",
          "height": 410
        },
        "outputId": "4a0965eb-6226-4f64-e49e-0b09956825f5"
      },
      "execution_count": null,
      "outputs": [
        {
          "output_type": "display_data",
          "data": {
            "text/plain": [
              "<Figure size 1200x400 with 2 Axes>"
            ],
            "image/png": "[encoded data removed]"
          },
          "metadata": {}
        }
      ]
    },
    {
      "cell_type": "code",
      "source": [
        "# Evaluate the model using the TEST dataset\n",
        "loss, accuracy = model.evaluate(X_test, y_test)"
      ],
      "metadata": {
        "id": "Pu5aM-kX3x0U",
        "colab": {
          "base_uri": "https://localhost:8080/"
        },
        "outputId": "46cbd7fe-8a99-463d-ba6c-8cec982628f8"
      },
      "execution_count": null,
      "outputs": [
        {
          "output_type": "stream",
          "name": "stdout",
          "text": [
            "7/7 [==============================] - 0s 4ms/step - loss: 0.0650 - accuracy: 0.9906\n"
          ]
        }
      ]
    },
    {
      "cell_type": "code",
      "source": [
        "# # Plot confusion matrix\n",
        "# def plot_confusion_matrix(cm, classes,\n",
        "#                           normalize=False,\n",
        "#                           title='Confusion matrix',\n",
        "#                           cmap=plt.cm.Blues):\n",
        "#     \"\"\"Plots the confusion matrix.\"\"\"\n",
        "#     if normalize:\n",
        "#         cm = cm.astype('float') / cm.sum(axis=1)[:, np.newaxis]\n",
        "#         print(\"Normalized confusion matrix\")\n",
        "#     else:\n",
        "#         print('Confusion matrix, without normalization')\n",
        "\n",
        "#     plt.imshow(cm, interpolation='nearest', cmap=cmap)\n",
        "#     plt.title(title)\n",
        "#     plt.colorbar()\n",
        "#     tick_marks = np.arange(len(classes))\n",
        "#     plt.xticks(tick_marks, classes, rotation=45)\n",
        "#     plt.yticks(tick_marks, classes)\n",
        "\n",
        "#     fmt = '.2f' if normalize else 'd'\n",
        "#     thresh = cm.max() / 2.\n",
        "#     for i, j in itertools.product(range(cm.shape[0]), range(cm.shape[1])):\n",
        "#         plt.text(j, i, format(cm[i, j], fmt),\n",
        "#                  horizontalalignment=\"center\",\n",
        "#                  color=\"white\" if cm[i, j] > thresh else \"black\")\n",
        "\n",
        "#     plt.ylabel('True label')\n",
        "#     plt.xlabel('Predicted label')\n",
        "#     plt.tight_layout()\n",
        "\n",
        "# # Plot non-normalized confusion matrix\n",
        "# plt.figure()\n",
        "# plot_confusion_matrix(cm, classes=class_names, title='Confusion Matrix of Pose Classification Model')\n",
        "\n",
        "# # Print classification report\n",
        "# print('\\nClassification Report:\\n', classification_report(y_test, y_pred_label, target_names=class_names))"
      ],
      "metadata": {
        "id": "xT75C1n6HJk9"
      },
      "execution_count": null,
      "outputs": []
    },
    {
      "cell_type": "code",
      "source": [
        "# def plot_confusion_matrix(cm, classes,\n",
        "#                           normalize=False,\n",
        "#                           title='Confusion matrix',\n",
        "#                           cmap=plt.cm.Blues):\n",
        "#   \"\"\"Plots the confusion matrix.\"\"\"\n",
        "#   if normalize:\n",
        "#     cm = cm.astype('float') / cm.sum(axis=1)[:, np.newaxis]\n",
        "#     print(\"Normalized confusion matrix\")\n",
        "#   else:\n",
        "#     print('Confusion matrix, without normalization')\n",
        "\n",
        "#   plt.imshow(cm, interpolation='nearest', cmap=cmap)\n",
        "#   plt.title(title)\n",
        "#   plt.colorbar()\n",
        "#   tick_marks = np.arange(len(classes))\n",
        "#   plt.xticks(tick_marks, classes, rotation=55)\n",
        "#   plt.yticks(tick_marks, classes)\n",
        "#   fmt = '.2f' if normalize else 'd'\n",
        "#   thresh = cm.max() / 2.\n",
        "#   for i, j in itertools.product(range(cm.shape[0]), range(cm.shape[1])):\n",
        "#     plt.text(j, i, format(cm[i, j], fmt),\n",
        "#               horizontalalignment=\"center\",\n",
        "#               color=\"white\" if cm[i, j] > thresh else \"black\")\n",
        "\n",
        "#   plt.ylabel('True label')\n",
        "#   plt.xlabel('Predicted label')\n",
        "#   plt.tight_layout()\n",
        "\n",
        "# # Classify pose in the TEST dataset using the trained model\n",
        "# y_pred = model.predict(X_test)\n",
        "\n",
        "# # Convert the prediction result to class name\n",
        "# y_pred_label = [class_names[i] for i in np.argmax(y_pred, axis=1)]\n",
        "# y_true_label = [class_names[i] for i in np.argmax(y_test, axis=1)]\n",
        "\n",
        "# # Plot the confusion matrix\n",
        "# cm = confusion_matrix(np.argmax(y_test, axis=1), np.argmax(y_pred, axis=1))\n",
        "# plot_confusion_matrix(cm,\n",
        "#                       class_names,\n",
        "#                       title ='Confusion Matrix of Pose Classification Model')\n",
        "\n",
        "# # Print the classification report\n",
        "# print('\\nClassification Report:\\n', classification_report(y_true_label,\n",
        "#                                                           y_pred_label))"
      ],
      "metadata": {
        "id": "7MKvoA-HK6xr"
      },
      "execution_count": null,
      "outputs": []
    },
    {
      "cell_type": "markdown",
      "source": [
        "#Convert the pose classification model to TensorFlow Lite"
      ],
      "metadata": {
        "id": "tSigfYLZzqHO"
      }
    },
    {
      "cell_type": "code",
      "source": [
        "converter = tf.lite.TFLiteConverter.from_keras_model(model)\n",
        "converter.optimizations = [tf.lite.Optimize.DEFAULT]\n",
        "tflite_model = converter.convert()\n",
        "\n",
        "print('Model size: %dKB' % (len(tflite_model) / 1024))\n",
        "\n",
        "with open('squat.tflite', 'wb') as f:\n",
        "  f.write(tflite_model)"
      ],
      "metadata": {
        "id": "FDl0T5bfzhn2",
        "colab": {
          "base_uri": "https://localhost:8080/"
        },
        "outputId": "d93a74c2-bfeb-463d-a0b4-81f00c4f6dda"
      },
      "execution_count": null,
      "outputs": [
        {
          "output_type": "stream",
          "name": "stdout",
          "text": [
            "Model size: 28KB\n"
          ]
        }
      ]
    },
    {
      "cell_type": "code",
      "source": [
        "with open('squat_labels.txt', 'w') as f:\n",
        "  f.write('\\n'.join(class_names))"
      ],
      "metadata": {
        "id": "26ueBxg2zsfX"
      },
      "execution_count": null,
      "outputs": []
    },
    {
      "cell_type": "code",
      "source": [
        "# def evaluate_model(interpreter, X, y_true):\n",
        "#   \"\"\"Evaluates the given TFLite model and return its accuracy.\"\"\"\n",
        "#   input_index = interpreter.get_input_details()[0][\"index\"]\n",
        "#   output_index = interpreter.get_output_details()[0][\"index\"]\n",
        "\n",
        "#   # Run predictions on all given poses.\n",
        "#   y_pred = []\n",
        "#   for i in range(len(y_true)):\n",
        "#     # Pre-processing: add batch dimension and convert to float32 to match with\n",
        "#     # the model's input data format.\n",
        "#     test_image = X[i: i + 1].astype('float32')\n",
        "#     interpreter.set_tensor(input_index, test_image)\n",
        "\n",
        "#     # Run inference.\n",
        "#     interpreter.invoke()\n",
        "\n",
        "#     # Post-processing: remove batch dimension and find the class with highest\n",
        "#     # probability.\n",
        "#     output = interpreter.tensor(output_index)\n",
        "#     predicted_label = np.argmax(output()[0])\n",
        "#     y_pred.append(predicted_label)\n",
        "\n",
        "#   # Compare prediction results with ground truth labels to calculate accuracy.\n",
        "#   y_pred = keras.utils.to_categorical(y_pred)\n",
        "#   return accuracy_score(y_true, y_pred)\n",
        "\n",
        "# # Evaluate the accuracy of the converted TFLite model\n",
        "# classifier_interpreter = tf.lite.Interpreter(model_content=tflite_model)\n",
        "# classifier_interpreter.allocate_tensors()\n",
        "# print('Accuracy of TFLite model: %s' %\n",
        "#       evaluate_model(classifier_interpreter, X_test, y_test))"
      ],
      "metadata": {
        "id": "HC7FmZtnz4uX",
        "colab": {
          "base_uri": "https://localhost:8080/"
        },
        "outputId": "26eab542-7e6e-4e53-fc45-852a7518ef1e"
      },
      "execution_count": null,
      "outputs": [
        {
          "output_type": "stream",
          "name": "stdout",
          "text": [
            "Accuracy of TFLite model: 0.45754716981132076\n"
          ]
        }
      ]
    },
    {
      "cell_type": "markdown",
      "source": [
        "###Install TensorFlow Lite Metadata Writer"
      ],
      "metadata": {
        "id": "uXNWTZh3d5XA"
      }
    },
    {
      "cell_type": "code",
      "source": [
        "!pip install tflite-support"
      ],
      "metadata": {
        "colab": {
          "base_uri": "https://localhost:8080/"
        },
        "id": "ARHulq0jd65H",
        "outputId": "f173527b-94d6-45eb-9b5f-ee1cdbcb391b"
      },
      "execution_count": null,
      "outputs": [
        {
          "output_type": "stream",
          "name": "stdout",
          "text": [
            "Requirement already satisfied: tflite-support in /usr/local/lib/python3.10/dist-packages (0.4.4)\n",
            "Requirement already satisfied: absl-py>=0.7.0 in /usr/local/lib/python3.10/dist-packages (from tflite-support) (1.4.0)\n",
            "Requirement already satisfied: numpy>=1.20.0 in /usr/local/lib/python3.10/dist-packages (from tflite-support) (1.25.2)\n",
            "Requirement already satisfied: flatbuffers>=2.0 in /usr/local/lib/python3.10/dist-packages (from tflite-support) (24.3.25)\n",
            "Requirement already satisfied: protobuf<4,>=3.18.0 in /usr/local/lib/python3.10/dist-packages (from tflite-support) (3.20.3)\n",
            "Requirement already satisfied: sounddevice>=0.4.4 in /usr/local/lib/python3.10/dist-packages (from tflite-support) (0.4.7)\n",
            "Requirement already satisfied: pybind11>=2.6.0 in /usr/local/lib/python3.10/dist-packages (from tflite-support) (2.12.0)\n",
            "Requirement already satisfied: CFFI>=1.0 in /usr/local/lib/python3.10/dist-packages (from sounddevice>=0.4.4->tflite-support) (1.16.0)\n",
            "Requirement already satisfied: pycparser in /usr/local/lib/python3.10/dist-packages (from CFFI>=1.0->sounddevice>=0.4.4->tflite-support) (2.22)\n"
          ]
        }
      ]
    },
    {
      "cell_type": "code",
      "source": [
        "import os\n",
        "import numpy as np\n",
        "from tflite_support.metadata_writers import writer_utils\n",
        "from tflite_support.metadata_writers import image_classifier\n",
        "from tflite_support.metadata_writers import metadata_info"
      ],
      "metadata": {
        "id": "Z004ddZXeoRN"
      },
      "execution_count": null,
      "outputs": []
    },
    {
      "cell_type": "code",
      "source": [
        "# Define paths for the TFLite model and the metadata output\n",
        "model_path = 'squat.tflite'\n",
        "model_with_metadata_path = 'squat_with_metadata.tflite'\n",
        "label_file = 'squat_labels.txt'\n",
        "\n",
        "# Create the ImageClassifierWriter\n",
        "writer = image_classifier.MetadataWriter.create_for_inference(\n",
        "    writer_utils.load_file(model_path),\n",
        "    input_norm_mean=[127.5],\n",
        "    input_norm_std=[127.5],\n",
        "    label_file_paths=[label_file]\n",
        ")\n",
        "\n",
        "# Populate the metadata buffer\n",
        "metadata_buf = writer.populate()\n",
        "\n",
        "# Save the metadata to the model\n",
        "# First save the original model bytes\n",
        "with open(model_with_metadata_path, 'wb') as f:\n",
        "    f.write(writer_utils.load_file(model_path))\n",
        "\n",
        "# Then attach the metadata to the model\n",
        "# Using writer_utils to update the model file\n",
        "model_with_metadata = writer_utils.load_file(model_with_metadata_path)\n",
        "with open(model_with_metadata_path, 'wb') as f:\n",
        "    f.write(model_with_metadata + metadata_buf)\n",
        "\n",
        "print(\"Metadata added to the model\")"
      ],
      "metadata": {
        "colab": {
          "base_uri": "https://localhost:8080/"
        },
        "id": "dt638Aa4d8uP",
        "outputId": "a7a0eced-66ff-4bb4-9cf9-d5461454a1f6"
      },
      "execution_count": null,
      "outputs": [
        {
          "output_type": "stream",
          "name": "stdout",
          "text": [
            "Metadata added to the model\n"
          ]
        }
      ]
    },
    {
      "cell_type": "code",
      "source": [],
      "metadata": {
        "id": "6QMcIDf97sMp"
      },
      "execution_count": null,
      "outputs": []
    }
  ]
}