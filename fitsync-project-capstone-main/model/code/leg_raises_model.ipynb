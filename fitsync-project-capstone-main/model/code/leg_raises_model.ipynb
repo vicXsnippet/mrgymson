{
  "nbformat": 4,
  "nbformat_minor": 0,
  "metadata": {
    "colab": {
      "provenance": [],
      "gpuType": "T4"
    },
    "kernelspec": {
      "name": "python3",
      "display_name": "Python 3"
    },
    "language_info": {
      "name": "python"
    },
    "accelerator": "GPU"
  },
  "cells": [
    {
      "cell_type": "code",
      "source": [
        "# from google.colab import drive\n",
        "# drive.mount('/content/drive')"
      ],
      "metadata": {
        "colab": {
          "base_uri": "https://localhost:8080/"
        },
        "id": "Fuq6CIrfSrbq",
        "outputId": "5429a3fe-2226-4a59-91f0-d484c9e18a72"
      },
      "execution_count": null,
      "outputs": [
        {
          "output_type": "stream",
          "name": "stdout",
          "text": [
            "Drive already mounted at /content/drive; to attempt to forcibly remount, call drive.mount(\"/content/drive\", force_remount=True).\n"
          ]
        }
      ]
    },
    {
      "cell_type": "code",
      "source": [
        "# %cd /content/drive/MyDrive/dataset/klasifikasi_leg_raises/model4"
      ],
      "metadata": {
        "colab": {
          "base_uri": "https://localhost:8080/"
        },
        "id": "GKf38QknTG6Y",
        "outputId": "378c5647-effd-4d07-9a35-d3acce8c5319"
      },
      "execution_count": null,
      "outputs": [
        {
          "output_type": "stream",
          "name": "stdout",
          "text": [
            "/content/drive/MyDrive/dataset/klasifikasi_leg_raises/model4\n"
          ]
        }
      ]
    },
    {
      "cell_type": "code",
      "source": [
        "# ls"
      ],
      "metadata": {
        "colab": {
          "base_uri": "https://localhost:8080/"
        },
        "id": "uGKPq241Ta1F",
        "outputId": "5e4b2f51-746d-412a-9c41-6397b6b1e67c"
      },
      "execution_count": null,
      "outputs": [
        {
          "output_type": "stream",
          "name": "stdout",
          "text": [
            "\u001b[0m\u001b[01;34mexamples\u001b[0m/                          landmark_leg_raises_train_data.csv  weights.best.hdf5\n",
            "landmark_leg_raises_test_data.csv  movenet_thunder.tflite\n"
          ]
        }
      ]
    },
    {
      "cell_type": "code",
      "execution_count": null,
      "metadata": {
        "id": "YNsH6b59kQkn"
      },
      "outputs": [],
      "source": [
        "!pip install -q opencv-python"
      ]
    },
    {
      "cell_type": "code",
      "source": [
        "import csv\n",
        "import cv2\n",
        "import itertools\n",
        "import numpy as np\n",
        "import pandas as pd\n",
        "import os\n",
        "import sys\n",
        "import tempfile\n",
        "import tqdm\n",
        "\n",
        "from matplotlib import pyplot as plt\n",
        "from matplotlib.collections import LineCollection\n",
        "\n",
        "import tensorflow as tf\n",
        "import tensorflow_hub as hub\n",
        "from tensorflow import keras\n",
        "\n",
        "from sklearn.model_selection import train_test_split\n",
        "from sklearn.metrics import accuracy_score, classification_report, confusion_matrix"
      ],
      "metadata": {
        "id": "04Hn1NWakvEq"
      },
      "execution_count": null,
      "outputs": []
    },
    {
      "cell_type": "code",
      "source": [
        "# Download model from TF Hub and check out inference code from GitHub\n",
        "!wget -q -O movenet_thunder.tflite https://tfhub.dev/google/lite-model/movenet/singlepose/thunder/tflite/float16/4?lite-format=tflite\n",
        "!git clone https://github.com/tensorflow/examples.git\n",
        "pose_sample_rpi_path = os.path.join(os.getcwd(), 'examples/lite/examples/pose_estimation/raspberry_pi')\n",
        "sys.path.append(pose_sample_rpi_path)\n",
        "\n",
        "# Load MoveNet Thunder model\n",
        "import utils\n",
        "from data import BodyPart\n",
        "from ml import Movenet\n",
        "movenet = Movenet('movenet_thunder')\n",
        "\n",
        "# Define function to run pose estimation using MoveNet Thunder.\n",
        "# You'll apply MoveNet's cropping algorithm and run inference multiple times on\n",
        "# the input image to improve pose estimation accuracy.\n",
        "def detect(input_tensor, inference_count=3):\n",
        "  image_height, image_width, channel = input_tensor.shape\n",
        "\n",
        "  # Detect pose using the full input image\n",
        "  movenet.detect(input_tensor.numpy(), reset_crop_region=True)\n",
        "\n",
        "  # Repeatedly using previous detection result to identify the region of\n",
        "  # interest and only croping that region to improve detection accuracy\n",
        "  for _ in range(inference_count - 1):\n",
        "    person = movenet.detect(input_tensor.numpy(),\n",
        "                            reset_crop_region=False)\n",
        "\n",
        "  return person"
      ],
      "metadata": {
        "colab": {
          "base_uri": "https://localhost:8080/"
        },
        "id": "SsLNb5GWkxI_",
        "outputId": "500a6e35-fddc-4254-d10f-5c56e3c16f4b"
      },
      "execution_count": null,
      "outputs": [
        {
          "output_type": "stream",
          "name": "stdout",
          "text": [
            "fatal: destination path 'examples' already exists and is not an empty directory.\n"
          ]
        }
      ]
    },
    {
      "cell_type": "code",
      "source": [
        "# def draw_prediction_on_image(\n",
        "#     image, person, crop_region=None, close_figure=True,\n",
        "#     keep_input_size=False):\n",
        "#   # Draw the detection result on top of the image.\n",
        "#   image_np = utils.visualize(image, [person])\n",
        "\n",
        "#   # Plot the image with detection results.\n",
        "#   height, width, channel = image.shape\n",
        "#   aspect_ratio = float(width) / height\n",
        "#   fig, ax = plt.subplots(figsize=(12 * aspect_ratio, 12))\n",
        "#   im = ax.imshow(image_np)\n",
        "\n",
        "#   if close_figure:\n",
        "#     plt.close(fig)\n",
        "\n",
        "#   if not keep_input_size:\n",
        "#     image_np = utils.keep_aspect_ratio_resizer(image_np, (512, 512))\n",
        "\n",
        "#   return image_np"
      ],
      "metadata": {
        "id": "M8wn11LDk-Hd"
      },
      "execution_count": null,
      "outputs": []
    },
    {
      "cell_type": "code",
      "source": [
        "# class MoveNetPreprocessor(object):\n",
        "#   \"\"\"Helper class to preprocess pose sample images for classification.\"\"\"\n",
        "\n",
        "#   def __init__(self,\n",
        "#                images_in_folder,\n",
        "#                images_out_folder,\n",
        "#                csvs_out_path):\n",
        "#     self._images_in_folder = images_in_folder\n",
        "#     self._images_out_folder = images_out_folder\n",
        "#     self._csvs_out_path = csvs_out_path\n",
        "#     self._messages = []\n",
        "\n",
        "#     # Create a temp dir to store the pose CSVs per class\n",
        "#     self._csvs_out_folder_per_class = tempfile.mkdtemp()\n",
        "\n",
        "#     # Get list of pose classes and print image statistics\n",
        "#     self._pose_class_names = sorted(\n",
        "#         [n for n in os.listdir(self._images_in_folder) if not n.startswith('.')]\n",
        "#         )\n",
        "\n",
        "#   def process(self, per_pose_class_limit=None, detection_threshold=0.1):\n",
        "#     # Loop through the classes and preprocess its images\n",
        "#     for pose_class_name in self._pose_class_names:\n",
        "#       print('Preprocessing', pose_class_name, file=sys.stderr)\n",
        "\n",
        "#       # Paths for the pose class.\n",
        "#       images_in_folder = os.path.join(self._images_in_folder, pose_class_name)\n",
        "#       images_out_folder = os.path.join(self._images_out_folder, pose_class_name)\n",
        "#       csv_out_path = os.path.join(self._csvs_out_folder_per_class,\n",
        "#                                   pose_class_name + '.csv')\n",
        "#       if not os.path.exists(images_out_folder):\n",
        "#         os.makedirs(images_out_folder)\n",
        "\n",
        "#       # Detect landmarks in each image and write it to a CSV file\n",
        "#       with open(csv_out_path, 'w') as csv_out_file:\n",
        "#         csv_out_writer = csv.writer(csv_out_file,\n",
        "#                                     delimiter=',',\n",
        "#                                     quoting=csv.QUOTE_MINIMAL)\n",
        "#         # Get list of images\n",
        "#         image_names = sorted(\n",
        "#             [n for n in os.listdir(images_in_folder) if not n.startswith('.')])\n",
        "#         if per_pose_class_limit is not None:\n",
        "#           image_names = image_names[:per_pose_class_limit]\n",
        "\n",
        "#         valid_image_count = 0\n",
        "\n",
        "#         # Detect pose landmarks from each image\n",
        "#         for image_name in tqdm.tqdm(image_names):\n",
        "#           image_path = os.path.join(images_in_folder, image_name)\n",
        "\n",
        "#           try:\n",
        "#             image = tf.io.read_file(image_path)\n",
        "#             image = tf.io.decode_jpeg(image)\n",
        "#           except:\n",
        "#             self._messages.append('Skipped ' + image_path + '. Invalid image.')\n",
        "#             continue\n",
        "#           else:\n",
        "#             image = tf.io.read_file(image_path)\n",
        "#             image = tf.io.decode_jpeg(image)\n",
        "#             image_height, image_width, channel = image.shape\n",
        "\n",
        "#           # Skip images that isn't RGB because Movenet requires RGB images\n",
        "#           if channel != 3:\n",
        "#             self._messages.append('Skipped ' + image_path +\n",
        "#                                   '. Image isn\\'t in RGB format.')\n",
        "#             continue\n",
        "#           person = detect(image)\n",
        "\n",
        "#           # Save landmarks if all landmarks were detected\n",
        "#           min_landmark_score = min(\n",
        "#               [keypoint.score for keypoint in person.keypoints])\n",
        "#           should_keep_image = min_landmark_score >= detection_threshold\n",
        "#           if not should_keep_image:\n",
        "#             self._messages.append('Skipped ' + image_path +\n",
        "#                                   '. No pose was confidentlly detected.')\n",
        "#             continue\n",
        "\n",
        "#           valid_image_count += 1\n",
        "\n",
        "#           # Draw the prediction result on top of the image for debugging later\n",
        "#           output_overlay = draw_prediction_on_image(\n",
        "#               image.numpy().astype(np.uint8), person,\n",
        "#               close_figure=True, keep_input_size=True)\n",
        "\n",
        "#           # Write detection result into an image file\n",
        "#           output_frame = cv2.cvtColor(output_overlay, cv2.COLOR_RGB2BGR)\n",
        "#           cv2.imwrite(os.path.join(images_out_folder, image_name), output_frame)\n",
        "\n",
        "#           # Get landmarks and scale it to the same size as the input image\n",
        "#           pose_landmarks = np.array(\n",
        "#               [[keypoint.coordinate.x, keypoint.coordinate.y, keypoint.score]\n",
        "#                 for keypoint in person.keypoints],\n",
        "#               dtype=np.float32)\n",
        "\n",
        "#           # Write the landmark coordinates to its per-class CSV file\n",
        "#           coordinates = pose_landmarks.flatten().astype(str).tolist()\n",
        "#           csv_out_writer.writerow([image_name] + coordinates)\n",
        "\n",
        "#         if not valid_image_count:\n",
        "#           raise RuntimeError(\n",
        "#               'No valid images found for the \"{}\" class.'\n",
        "#               .format(pose_class_name))\n",
        "\n",
        "#     # Print the error message collected during preprocessing.\n",
        "#     print('\\n'.join(self._messages))\n",
        "\n",
        "#     # Combine all per-class CSVs into a single output file\n",
        "#     all_landmarks_df = self._all_landmarks_as_dataframe()\n",
        "#     all_landmarks_df.to_csv(self._csvs_out_path, index=False)\n",
        "\n",
        "#   def class_names(self):\n",
        "#     \"\"\"List of classes found in the training dataset.\"\"\"\n",
        "#     return self._pose_class_names\n",
        "\n",
        "#   def _all_landmarks_as_dataframe(self):\n",
        "#     \"\"\"Merge all per-class CSVs into a single dataframe.\"\"\"\n",
        "#     total_df = None\n",
        "#     for class_index, class_name in enumerate(self._pose_class_names):\n",
        "#       csv_out_path = os.path.join(self._csvs_out_folder_per_class,\n",
        "#                                   class_name + '.csv')\n",
        "#       per_class_df = pd.read_csv(csv_out_path, header=None)\n",
        "\n",
        "#       # Add the labels\n",
        "#       per_class_df['class_no'] = [class_index]*len(per_class_df)\n",
        "#       per_class_df['class_name'] = [class_name]*len(per_class_df)\n",
        "\n",
        "#       # Append the folder name to the filename column (first column)\n",
        "#       per_class_df[per_class_df.columns[0]] = (os.path.join(class_name, '')\n",
        "#         + per_class_df[per_class_df.columns[0]].astype(str))\n",
        "\n",
        "#       if total_df is None:\n",
        "#         # For the first class, assign its data to the total dataframe\n",
        "#         total_df = per_class_df\n",
        "#       else:\n",
        "#         # Concatenate each class's data into the total dataframe\n",
        "#         total_df = pd.concat([total_df, per_class_df], axis=0)\n",
        "\n",
        "#     list_name = [[bodypart.name + '_x', bodypart.name + '_y',\n",
        "#                   bodypart.name + '_score'] for bodypart in BodyPart]\n",
        "#     header_name = []\n",
        "#     for columns_name in list_name:\n",
        "#       header_name += columns_name\n",
        "#     header_name = ['file_name'] + header_name\n",
        "#     header_map = {total_df.columns[i]: header_name[i]\n",
        "#                   for i in range(len(header_name))}\n",
        "\n",
        "#     total_df.rename(header_map, axis=1, inplace=True)\n",
        "\n",
        "#     return total_df"
      ],
      "metadata": {
        "id": "i2Gc4JhClBvC"
      },
      "execution_count": null,
      "outputs": []
    },
    {
      "cell_type": "code",
      "source": [
        "# use_custom_dataset =  True\n",
        "# is_skip_step_1 = False\n",
        "# dataset_is_split = False"
      ],
      "metadata": {
        "id": "uiPlIwbXlR36"
      },
      "execution_count": null,
      "outputs": []
    },
    {
      "cell_type": "code",
      "source": [
        "# import os\n",
        "# import random\n",
        "# import shutil\n",
        "\n",
        "# def split_into_train_test(images_origin, images_dest, test_split):\n",
        "#   _, dirs, _ = next(os.walk(images_origin))\n",
        "\n",
        "#   TRAIN_DIR = os.path.join(images_dest, 'train')\n",
        "#   TEST_DIR = os.path.join(images_dest, 'test')\n",
        "#   os.makedirs(TRAIN_DIR, exist_ok=True)\n",
        "#   os.makedirs(TEST_DIR, exist_ok=True)\n",
        "\n",
        "#   for dir in dirs:\n",
        "#     # Get all filenames for this dir, filtered by filetype\n",
        "#     filenames = os.listdir(os.path.join(images_origin, dir))\n",
        "#     filenames = [os.path.join(images_origin, dir, f) for f in filenames if (\n",
        "#         f.endswith('.png') or f.endswith('.jpg') or f.endswith('.jpeg') or f.endswith('.bmp'))]\n",
        "#     # Shuffle the files, deterministically\n",
        "#     filenames.sort()\n",
        "#     random.seed(42)\n",
        "#     random.shuffle(filenames)\n",
        "#     # Divide them into train/test dirs\n",
        "#     os.makedirs(os.path.join(TEST_DIR, dir), exist_ok=True)\n",
        "#     os.makedirs(os.path.join(TRAIN_DIR, dir), exist_ok=True)\n",
        "#     test_count = int(len(filenames) * test_split)\n",
        "#     for i, file in enumerate(filenames):\n",
        "#       if i < test_count:\n",
        "#         destination = os.path.join(TEST_DIR, dir, os.path.split(file)[1])\n",
        "#       else:\n",
        "#         destination = os.path.join(TRAIN_DIR, dir, os.path.split(file)[1])\n",
        "#       shutil.copyfile(file, destination)\n",
        "#     print(f'Moved {test_count} of {len(filenames)} from class \"{dir}\" into test.')\n",
        "#   print(f'Your split dataset is in \"{images_dest}\"')"
      ],
      "metadata": {
        "id": "Eo2E0zA_rso_"
      },
      "execution_count": null,
      "outputs": []
    },
    {
      "cell_type": "code",
      "source": [
        "# if use_custom_dataset:\n",
        "#   dataset_in = '/content/drive/MyDrive/leg_raises'\n",
        "\n",
        "#   # You can leave the rest alone:\n",
        "#   if not os.path.isdir(dataset_in):\n",
        "#     raise Exception(\"dataset_in is not a valid directory\")\n",
        "#   if dataset_is_split:\n",
        "#     IMAGES_ROOT = dataset_in\n",
        "#   else:\n",
        "#     dataset_out = 'split'\n",
        "#     split_into_train_test(dataset_in, dataset_out, test_split=0.2)\n",
        "#     IMAGES_ROOT = dataset_out"
      ],
      "metadata": {
        "id": "sXqww_LpquVB"
      },
      "execution_count": null,
      "outputs": []
    },
    {
      "cell_type": "markdown",
      "source": [
        "#Preprocess yang TRAIN dataset"
      ],
      "metadata": {
        "id": "5MSitIL7t8so"
      }
    },
    {
      "cell_type": "code",
      "source": [
        "# import os\n",
        "# import shutil\n",
        "\n",
        "# if not is_skip_step_1:\n",
        "#   images_in_train_folder = os.path.join(IMAGES_ROOT, 'train')\n",
        "#   images_out_train_folder = 'poses_images_out_train'\n",
        "#   csvs_out_train_path = 'leg_raises_train_data.csv'\n",
        "\n",
        "#   preprocessor = MoveNetPreprocessor(\n",
        "#       images_in_folder=images_in_train_folder,\n",
        "#       images_out_folder=images_out_train_folder,\n",
        "#       csvs_out_path=csvs_out_train_path,\n",
        "#   )\n",
        "\n",
        "#   preprocessor.process(per_pose_class_limit=None)\n"
      ],
      "metadata": {
        "id": "pb9-vx41s_rr"
      },
      "execution_count": null,
      "outputs": []
    },
    {
      "cell_type": "markdown",
      "source": [
        "#Preprocess yang TEST dataset"
      ],
      "metadata": {
        "id": "ggg1TujUvtIA"
      }
    },
    {
      "cell_type": "code",
      "source": [
        "# if not is_skip_step_1:\n",
        "#   images_in_test_folder = os.path.join(IMAGES_ROOT, 'test')\n",
        "#   images_out_test_folder = 'poses_images_out_test'\n",
        "#   csvs_out_test_path = 'leg_raises_test_data.csv'\n",
        "\n",
        "#   preprocessor = MoveNetPreprocessor(\n",
        "#       images_in_folder=images_in_test_folder,\n",
        "#       images_out_folder=images_out_test_folder,\n",
        "#       csvs_out_path=csvs_out_test_path,\n",
        "#   )\n",
        "\n",
        "#   preprocessor.process(per_pose_class_limit=None)\n"
      ],
      "metadata": {
        "id": "NKDFaEQougpd"
      },
      "execution_count": null,
      "outputs": []
    },
    {
      "cell_type": "markdown",
      "source": [
        "#Load CSVs preprocessed ke TRAIN dan TEST dataset."
      ],
      "metadata": {
        "id": "7aGkMcxWxAXm"
      }
    },
    {
      "cell_type": "code",
      "source": [
        "csvs_out_test_path = 'landmark_leg_raises_test_data.csv'\n",
        "csvs_out_train_path = 'landmark_leg_raises_train_data.csv'\n",
        "\n",
        "\n",
        "def load_pose_landmarks(csv_path):\n",
        "  # Load the CSV file\n",
        "  dataframe = pd.read_csv(csv_path)\n",
        "  df_to_process = dataframe.copy()\n",
        "\n",
        "  # Drop the file_name columns as you don't need it during training.\n",
        "  df_to_process.drop(columns=['file_name'], inplace=True)\n",
        "\n",
        "  # Extract the list of class names\n",
        "  classes = df_to_process.pop('class_name').unique()\n",
        "\n",
        "  # Extract the labels\n",
        "  y = df_to_process.pop('class_no')\n",
        "\n",
        "  # Convert the input features and labels into the correct format for training.\n",
        "  X = df_to_process.astype('float64')\n",
        "\n",
        "\n",
        "  return X, y, classes, dataframe"
      ],
      "metadata": {
        "id": "C6NH3WC0xBY5"
      },
      "execution_count": null,
      "outputs": []
    },
    {
      "cell_type": "code",
      "source": [
        "# Load the train data\n",
        "X, y, class_names, _ = load_pose_landmarks(csvs_out_train_path)\n",
        "\n",
        "# Split training data (X, y) into (X_train, y_train) and (X_val, y_val)\n",
        "X_train, X_val, y_train, y_val = train_test_split(X, y,\n",
        "                                                  test_size=0.3)"
      ],
      "metadata": {
        "id": "5rKrvZZ_xN8x"
      },
      "execution_count": null,
      "outputs": []
    },
    {
      "cell_type": "code",
      "source": [
        "# Load the test data\n",
        "X_test, y_test, _, df_test = load_pose_landmarks(csvs_out_test_path)"
      ],
      "metadata": {
        "id": "fbUSYA0cxSXQ"
      },
      "execution_count": null,
      "outputs": []
    },
    {
      "cell_type": "code",
      "source": [
        "print(f\"X_train len: {len(X_train)}, ukuran: {X_train.shape}\")\n",
        "print(f\"X_train len: {len(X_test)}, ukuran: {X_test.shape}\")\n"
      ],
      "metadata": {
        "colab": {
          "base_uri": "https://localhost:8080/"
        },
        "id": "TXo1nseScUD-",
        "outputId": "2941dc92-fcd4-46ae-f3a4-008c282d77ab"
      },
      "execution_count": null,
      "outputs": [
        {
          "output_type": "stream",
          "name": "stdout",
          "text": [
            "X_train len: 701, ukuran: (701, 51)\n",
            "X_train len: 248, ukuran: (248, 51)\n"
          ]
        }
      ]
    },
    {
      "cell_type": "markdown",
      "source": [
        "###Define functions to convert the pose landmarks to a pose embedding (a.k.a. feature vector) for pose classification"
      ],
      "metadata": {
        "id": "LezOFn0I3Xwb"
      }
    },
    {
      "cell_type": "code",
      "source": [
        "def get_center_point(landmarks, left_bodypart, right_bodypart):\n",
        "  left = tf.gather(landmarks, left_bodypart.value, axis=1)\n",
        "  right = tf.gather(landmarks, right_bodypart.value, axis=1)\n",
        "  center = left * 0.5 + right * 0.5\n",
        "  return center\n",
        "\n",
        "\n",
        "def get_pose_size(landmarks, torso_size_multiplier=2.5):\n",
        "  # Hips center\n",
        "  hips_center = get_center_point(landmarks, BodyPart.LEFT_HIP,\n",
        "                                 BodyPart.RIGHT_HIP)\n",
        "\n",
        "  # Shoulders center\n",
        "  shoulders_center = get_center_point(landmarks, BodyPart.LEFT_SHOULDER,\n",
        "                                      BodyPart.RIGHT_SHOULDER)\n",
        "\n",
        "  # Torso size as the minimum body size\n",
        "  torso_size = tf.linalg.norm(shoulders_center - hips_center)\n",
        "\n",
        "  # Pose center\n",
        "  pose_center_new = get_center_point(landmarks, BodyPart.LEFT_HIP,\n",
        "                                     BodyPart.RIGHT_HIP)\n",
        "  pose_center_new = tf.expand_dims(pose_center_new, axis=1)\n",
        "  # Broadcast the pose center to the same size as the landmark vector to\n",
        "  # perform substraction\n",
        "  pose_center_new = tf.broadcast_to(pose_center_new,\n",
        "                                    [tf.size(landmarks) // (17*2), 17, 2])\n",
        "\n",
        "  # Dist to pose center\n",
        "  d = tf.gather(landmarks - pose_center_new, 0, axis=0,\n",
        "                name=\"dist_to_pose_center\")\n",
        "  # Max dist to pose center\n",
        "  max_dist = tf.reduce_max(tf.linalg.norm(d, axis=0))\n",
        "\n",
        "  # Normalize scale\n",
        "  pose_size = tf.maximum(torso_size * torso_size_multiplier, max_dist)\n",
        "\n",
        "  return pose_size\n",
        "\n",
        "\n",
        "def normalize_pose_landmarks(landmarks):\n",
        "  # Move landmarks so that the pose center becomes (0,0)\n",
        "  pose_center = get_center_point(landmarks, BodyPart.LEFT_HIP,\n",
        "                                 BodyPart.RIGHT_HIP)\n",
        "  pose_center = tf.expand_dims(pose_center, axis=1)\n",
        "  # Broadcast the pose center to the same size as the landmark vector to perform\n",
        "  # substraction\n",
        "  pose_center = tf.broadcast_to(pose_center,\n",
        "                                [tf.size(landmarks) // (17*2), 17, 2])\n",
        "  landmarks = landmarks - pose_center\n",
        "\n",
        "  # Scale the landmarks to a constant pose size\n",
        "  pose_size = get_pose_size(landmarks)\n",
        "  landmarks /= pose_size\n",
        "\n",
        "  return landmarks\n",
        "\n",
        "\n",
        "def landmarks_to_embedding(landmarks_and_scores):\n",
        "  # Reshape the flat input into a matrix with shape=(17, 3)\n",
        "  reshaped_inputs = keras.layers.Reshape((17, 3))(landmarks_and_scores)\n",
        "\n",
        "  # Normalize landmarks 2D\n",
        "  landmarks = normalize_pose_landmarks(reshaped_inputs[:, :, :2])\n",
        "\n",
        "  # Flatten the normalized landmark coordinates into a vector\n",
        "  embedding = keras.layers.Flatten()(landmarks)\n",
        "\n",
        "  return embedding"
      ],
      "metadata": {
        "id": "L0z82aew3U7L"
      },
      "execution_count": null,
      "outputs": []
    },
    {
      "cell_type": "markdown",
      "source": [
        "# Define the model"
      ],
      "metadata": {
        "id": "9lie1mjk3o_R"
      }
    },
    {
      "cell_type": "code",
      "source": [
        "# Define the model\n",
        "inputs = tf.keras.Input(shape=(51))\n",
        "embedding = landmarks_to_embedding(inputs)\n",
        "\n",
        "layer = keras.layers.Dense(128, activation=tf.nn.relu6)(embedding)\n",
        "layer = keras.layers.Dropout(0.5)(layer)\n",
        "layer = keras.layers.Dense(64, activation=tf.nn.relu6)(layer)\n",
        "layer = keras.layers.Dropout(0.5)(layer)\n",
        "layer = keras.layers.Dense(64, activation=tf.nn.relu6)(layer)\n",
        "layer = keras.layers.Dropout(0.5)(layer)\n",
        "outputs = keras.layers.Dense(1, activation=\"sigmoid\")(layer)\n",
        "\n",
        "model = keras.Model(inputs, outputs)\n",
        "model.summary()"
      ],
      "metadata": {
        "id": "5fgcOiQ43nYF"
      },
      "execution_count": null,
      "outputs": []
    },
    {
      "cell_type": "code",
      "source": [
        "model.compile(\n",
        "    optimizer='adam',\n",
        "    loss='binary_crossentropy',\n",
        "    metrics=['accuracy']\n",
        ")\n",
        "\n",
        "# Add a checkpoint callback to store the checkpoint that has the highest\n",
        "# validation accuracy.\n",
        "checkpoint_path = \"weights.best.hdf5\"\n",
        "checkpoint = keras.callbacks.ModelCheckpoint(checkpoint_path,\n",
        "                             monitor='val_accuracy',\n",
        "                             verbose=1,\n",
        "                             save_best_only=True,\n",
        "                             mode='max')\n",
        "earlystopping = keras.callbacks.EarlyStopping(monitor='val_accuracy',\n",
        "                                              patience=10)\n",
        "\n",
        "# Start training\n",
        "history = model.fit(X_train, y_train,\n",
        "                    epochs=200,\n",
        "                    batch_size=16,\n",
        "                    validation_data=(X_val, y_val),\n",
        "                    callbacks=[checkpoint, earlystopping])"
      ],
      "metadata": {
        "colab": {
          "base_uri": "https://localhost:8080/"
        },
        "id": "ITDbV28Y3sSP",
        "outputId": "a17ba5fc-1b64-4a9c-fd4d-d8a31002173d"
      },
      "execution_count": null,
      "outputs": [
        {
          "output_type": "stream",
          "name": "stdout",
          "text": [
            "Epoch 1/200\n",
            "36/44 [=======================>......] - ETA: 0s - loss: 0.8384 - accuracy: 0.6215\n",
            "Epoch 1: val_accuracy improved from -inf to 0.85714, saving model to weights.best.hdf5\n"
          ]
        },
        {
          "output_type": "stream",
          "name": "stderr",
          "text": [
            "/usr/local/lib/python3.10/dist-packages/keras/src/engine/training.py:3103: UserWarning: You are saving your model as an HDF5 file via `model.save()`. This file format is considered legacy. We recommend using instead the native Keras format, e.g. `model.save('my_model.keras')`.\n",
            "  saving_api.save_model(\n"
          ]
        },
        {
          "output_type": "stream",
          "name": "stdout",
          "text": [
            "\b\b\b\b\b\b\b\b\b\b\b\b\b\b\b\b\b\b\b\b\b\b\b\b\b\b\b\b\b\b\b\b\b\b\b\b\b\b\b\b\b\b\b\b\b\b\b\b\b\b\b\b\b\b\b\b\b\b\b\b\b\b\b\b\b\b\b\b\b\b\b\b\b\b\b\b\b\b\b\b\b\b\r44/44 [==============================] - 3s 20ms/step - loss: 0.8300 - accuracy: 0.6277 - val_loss: 0.7554 - val_accuracy: 0.8571\n",
            "Epoch 2/200\n",
            "40/44 [==========================>...] - ETA: 0s - loss: 0.6902 - accuracy: 0.8406\n",
            "Epoch 2: val_accuracy improved from 0.85714 to 0.94684, saving model to weights.best.hdf5\n",
            "44/44 [==============================] - 0s 5ms/step - loss: 0.6791 - accuracy: 0.8431 - val_loss: 0.4786 - val_accuracy: 0.9468\n",
            "Epoch 3/200\n",
            "36/44 [=======================>......] - ETA: 0s - loss: 0.4110 - accuracy: 0.9410\n",
            "Epoch 3: val_accuracy improved from 0.94684 to 0.99336, saving model to weights.best.hdf5\n",
            "44/44 [==============================] - 0s 7ms/step - loss: 0.3912 - accuracy: 0.9458 - val_loss: 0.2029 - val_accuracy: 0.9934\n",
            "Epoch 4/200\n",
            "35/44 [======================>.......] - ETA: 0s - loss: 0.2466 - accuracy: 0.9732\n",
            "Epoch 4: val_accuracy did not improve from 0.99336\n",
            "44/44 [==============================] - 0s 5ms/step - loss: 0.2425 - accuracy: 0.9700 - val_loss: 0.1572 - val_accuracy: 0.9934\n",
            "Epoch 5/200\n",
            "32/44 [====================>.........] - ETA: 0s - loss: 0.2063 - accuracy: 0.9727\n",
            "Epoch 5: val_accuracy did not improve from 0.99336\n",
            "44/44 [==============================] - 0s 6ms/step - loss: 0.1987 - accuracy: 0.9757 - val_loss: 0.1477 - val_accuracy: 0.9934\n",
            "Epoch 6/200\n",
            "33/44 [=====================>........] - ETA: 0s - loss: 0.1686 - accuracy: 0.9811\n",
            "Epoch 6: val_accuracy did not improve from 0.99336\n",
            "44/44 [==============================] - 0s 6ms/step - loss: 0.1624 - accuracy: 0.9857 - val_loss: 0.1328 - val_accuracy: 0.9934\n",
            "Epoch 7/200\n",
            "38/44 [========================>.....] - ETA: 0s - loss: 0.1471 - accuracy: 0.9934\n",
            "Epoch 7: val_accuracy did not improve from 0.99336\n",
            "44/44 [==============================] - 0s 5ms/step - loss: 0.1489 - accuracy: 0.9929 - val_loss: 0.1306 - val_accuracy: 0.9934\n",
            "Epoch 8/200\n",
            "36/44 [=======================>......] - ETA: 0s - loss: 0.1619 - accuracy: 0.9826\n",
            "Epoch 8: val_accuracy did not improve from 0.99336\n",
            "44/44 [==============================] - 0s 5ms/step - loss: 0.1582 - accuracy: 0.9857 - val_loss: 0.1265 - val_accuracy: 0.9934\n",
            "Epoch 9/200\n",
            "34/44 [======================>.......] - ETA: 0s - loss: 0.1546 - accuracy: 0.9890\n",
            "Epoch 9: val_accuracy did not improve from 0.99336\n",
            "44/44 [==============================] - 0s 6ms/step - loss: 0.1565 - accuracy: 0.9872 - val_loss: 0.1242 - val_accuracy: 0.9934\n",
            "Epoch 10/200\n",
            "40/44 [==========================>...] - ETA: 0s - loss: 0.1357 - accuracy: 0.9922\n",
            "Epoch 10: val_accuracy did not improve from 0.99336\n",
            "44/44 [==============================] - 0s 5ms/step - loss: 0.1335 - accuracy: 0.9929 - val_loss: 0.1197 - val_accuracy: 0.9934\n",
            "Epoch 11/200\n",
            "42/44 [===========================>..] - ETA: 0s - loss: 0.1365 - accuracy: 0.9866\n",
            "Epoch 11: val_accuracy did not improve from 0.99336\n",
            "44/44 [==============================] - 0s 5ms/step - loss: 0.1397 - accuracy: 0.9843 - val_loss: 0.1130 - val_accuracy: 0.9934\n",
            "Epoch 12/200\n",
            "31/44 [====================>.........] - ETA: 0s - loss: 0.1340 - accuracy: 0.9859\n",
            "Epoch 12: val_accuracy did not improve from 0.99336\n",
            "44/44 [==============================] - 0s 5ms/step - loss: 0.1387 - accuracy: 0.9829 - val_loss: 0.1138 - val_accuracy: 0.9934\n",
            "Epoch 13/200\n",
            "34/44 [======================>.......] - ETA: 0s - loss: 0.1288 - accuracy: 0.9853\n",
            "Epoch 13: val_accuracy did not improve from 0.99336\n",
            "44/44 [==============================] - 0s 5ms/step - loss: 0.1265 - accuracy: 0.9872 - val_loss: 0.1148 - val_accuracy: 0.9900\n"
          ]
        }
      ]
    },
    {
      "cell_type": "code",
      "source": [
        "# Plot the learning curves\n",
        "def plot_learning_curve(history):\n",
        "    plt.figure(figsize=(12, 4))\n",
        "\n",
        "    # Plot training & validation accuracy values\n",
        "    plt.subplot(1, 2, 1)\n",
        "    plt.plot(history.history['accuracy'])\n",
        "    plt.plot(history.history['val_accuracy'])\n",
        "    plt.title('Model Accuracy')\n",
        "    plt.xlabel('Epoch')\n",
        "    plt.ylabel('Accuracy')\n",
        "    plt.legend(['Train', 'Validation'], loc='lower right')\n",
        "\n",
        "    # Plot training & validation loss values\n",
        "    plt.subplot(1, 2, 2)\n",
        "    plt.plot(history.history['loss'])\n",
        "    plt.plot(history.history['val_loss'])\n",
        "    plt.title('Model Loss')\n",
        "    plt.xlabel('Epoch')\n",
        "    plt.ylabel('Loss')\n",
        "    plt.legend(['Train', 'Validation'], loc='upper right')\n",
        "\n",
        "    plt.show()\n",
        "\n",
        "# Plot the learning curves\n",
        "plot_learning_curve(history)"
      ],
      "metadata": {
        "colab": {
          "base_uri": "https://localhost:8080/",
          "height": 410
        },
        "id": "j08a9MF-Gf_i",
        "outputId": "a7c6758d-351c-48e9-85cd-8c0506d4c898"
      },
      "execution_count": null,
      "outputs": [
        {
          "output_type": "display_data",
          "data": {
            "text/plain": [
              "<Figure size 1200x400 with 2 Axes>"
            ],
            "image/png": "[encoded data removed]"
          },
          "metadata": {}
        }
      ]
    },
    {
      "cell_type": "code",
      "source": [
        "# # Evaluate the model\n",
        "# # Check if y_test is one-hot encoded and convert if necessary\n",
        "# if y_test.shape[1] == 2:\n",
        "#     y_test = np.argmax(y_test, axis=1)\n",
        "\n",
        "# # Evaluate the model on the test set\n",
        "# loss, accuracy = model.evaluate(X_test, y_test)\n",
        "\n",
        "# print(f\"Test Loss: {loss:.4f}\")\n",
        "# print(f\"Test Accuracy: {accuracy:.4f}\")"
      ],
      "metadata": {
        "id": "9bgjKofTH1Wc"
      },
      "execution_count": null,
      "outputs": []
    },
    {
      "cell_type": "code",
      "source": [
        "# Evaluate the model using the TEST dataset\n",
        "loss, accuracy = model.evaluate(X_test, y_test)"
      ],
      "metadata": {
        "colab": {
          "base_uri": "https://localhost:8080/"
        },
        "id": "Pu5aM-kX3x0U",
        "outputId": "0189e9e1-f234-413d-ef56-66e8421eac7c"
      },
      "execution_count": null,
      "outputs": [
        {
          "output_type": "stream",
          "name": "stdout",
          "text": [
            "8/8 [==============================] - 0s 3ms/step - loss: 0.1307 - accuracy: 0.9960\n"
          ]
        }
      ]
    },
    {
      "cell_type": "code",
      "source": [
        "# def plot_confusion_matrix(cm, classes,\n",
        "#                           normalize=False,\n",
        "#                           title='Confusion matrix',\n",
        "#                           cmap=plt.cm.Blues):\n",
        "#   \"\"\"Plots the confusion matrix.\"\"\"\n",
        "#   if normalize:\n",
        "#     cm = cm.astype('float') / cm.sum(axis=1)[:, np.newaxis]\n",
        "#     print(\"Normalized confusion matrix\")\n",
        "#   else:\n",
        "#     print('Confusion matrix, without normalization')\n",
        "\n",
        "#   plt.imshow(cm, interpolation='nearest', cmap=cmap)\n",
        "#   plt.title(title)\n",
        "#   plt.colorbar()\n",
        "#   tick_marks = np.arange(len(classes))\n",
        "#   plt.xticks(tick_marks, classes, rotation=55)\n",
        "#   plt.yticks(tick_marks, classes)\n",
        "#   fmt = '.2f' if normalize else 'd'\n",
        "#   thresh = cm.max() / 2.\n",
        "#   for i, j in itertools.product(range(cm.shape[0]), range(cm.shape[1])):\n",
        "#     plt.text(j, i, format(cm[i, j], fmt),\n",
        "#               horizontalalignment=\"center\",\n",
        "#               color=\"white\" if cm[i, j] > thresh else \"black\")\n",
        "\n",
        "#   plt.ylabel('True label')\n",
        "#   plt.xlabel('Predicted label')\n",
        "#   plt.tight_layout()\n",
        "\n",
        "# # Classify pose in the TEST dataset using the trained model\n",
        "# y_pred = model.predict(X_test)\n",
        "\n",
        "# # Convert the prediction result to class name\n",
        "# y_pred_label = [class_names[i] for i in np.argmax(y_pred, axis=1)]\n",
        "# y_true_label = [class_names[i] for i in np.argmax(y_test, axis=1)]\n",
        "\n",
        "# # Plot the confusion matrix\n",
        "# cm = confusion_matrix(np.argmax(y_test, axis=1), np.argmax(y_pred, axis=1))\n",
        "# plot_confusion_matrix(cm,\n",
        "#                       class_names,\n",
        "#                       title ='Confusion Matrix of Pose Classification Model')\n",
        "\n",
        "# # Print the classification report\n",
        "# print('\\nClassification Report:\\n', classification_report(y_true_label,\n",
        "#                                                           y_pred_label))"
      ],
      "metadata": {
        "id": "7MKvoA-HK6xr"
      },
      "execution_count": null,
      "outputs": []
    },
    {
      "cell_type": "markdown",
      "source": [
        "#Convert the pose classification model to TensorFlow Lite"
      ],
      "metadata": {
        "id": "tSigfYLZzqHO"
      }
    },
    {
      "cell_type": "code",
      "source": [
        "converter = tf.lite.TFLiteConverter.from_keras_model(model)\n",
        "converter.optimizations = [tf.lite.Optimize.DEFAULT]\n",
        "tflite_model = converter.convert()\n",
        "\n",
        "print('Model size: %dKB' % (len(tflite_model) / 1024))\n",
        "\n",
        "with open('leg_raises.tflite', 'wb') as f:\n",
        "  f.write(tflite_model)"
      ],
      "metadata": {
        "colab": {
          "base_uri": "https://localhost:8080/"
        },
        "id": "FDl0T5bfzhn2",
        "outputId": "06541f30-b6de-48bc-bfc5-2079e0eba280"
      },
      "execution_count": null,
      "outputs": [
        {
          "output_type": "stream",
          "name": "stdout",
          "text": [
            "Model size: 28KB\n"
          ]
        }
      ]
    },
    {
      "cell_type": "code",
      "source": [
        "with open('leg_raises_labels.txt', 'w') as f:\n",
        "  f.write('\\n'.join(class_names))"
      ],
      "metadata": {
        "id": "26ueBxg2zsfX"
      },
      "execution_count": null,
      "outputs": []
    },
    {
      "cell_type": "code",
      "source": [
        "# def evaluate_model(interpreter, X, y_true):\n",
        "#   # \"\"\"Evaluates the given TFLite model and return its accuracy.\"\"\"\n",
        "#   input_index = interpreter.get_input_details()[0][\"index\"]\n",
        "#   output_index = interpreter.get_output_details()[0][\"index\"]\n",
        "\n",
        "#   # Run predictions on all given poses.\n",
        "#   y_pred = []\n",
        "#   for i in range(len(y_true)):\n",
        "#     # Pre-processing: add batch dimension and convert to float32 to match with\n",
        "#     # the model's input data format.\n",
        "#     test_image = X[i: i + 1].astype('float32')\n",
        "#     interpreter.set_tensor(input_index, test_image)\n",
        "\n",
        "#     # Run inference.\n",
        "#     interpreter.invoke()\n",
        "\n",
        "#     # Post-processing: remove batch dimension and find the class with highest\n",
        "#     # probability.\n",
        "#     output = interpreter.tensor(output_index)\n",
        "#     predicted_label = np.argmax(output()[0])\n",
        "#     y_pred.append(predicted_label)\n",
        "\n",
        "#   # Compare prediction results with ground truth labels to calculate accuracy.\n",
        "#   y_pred = keras.utils.to_categorical(y_pred)\n",
        "#   return accuracy_score(y_true, y_pred)\n",
        "\n",
        "# # Evaluate the accuracy of the converted TFLite model\n",
        "# classifier_interpreter = tf.lite.Interpreter(model_content=tflite_model)\n",
        "# classifier_interpreter.allocate_tensors()\n",
        "# print('Accuracy of TFLite model: %s' %\n",
        "#       evaluate_model(classifier_interpreter, X_test, y_test))"
      ],
      "metadata": {
        "colab": {
          "base_uri": "https://localhost:8080/"
        },
        "id": "HC7FmZtnz4uX",
        "outputId": "7aed1271-c452-4dd3-82ad-459572bbd765"
      },
      "execution_count": null,
      "outputs": [
        {
          "output_type": "stream",
          "name": "stdout",
          "text": [
            "Accuracy of TFLite model: 0.5725806451612904\n"
          ]
        }
      ]
    },
    {
      "cell_type": "code",
      "source": [
        "from sklearn.metrics import accuracy_score\n",
        "\n",
        "def evaluate_model(interpreter, X, y_true):\n",
        "    input_details = interpreter.get_input_details()\n",
        "    output_details = interpreter.get_output_details()\n",
        "\n",
        "    input_index = input_details[0][\"index\"]\n",
        "    output_index = output_details[0][\"index\"]\n",
        "\n",
        "    y_pred = []\n",
        "    for i in range(len(y_true)):\n",
        "        # Pre-processing: add batch dimension and convert to float32\n",
        "        test_image = X[i:i + 1].astype('float32')\n",
        "        interpreter.set_tensor(input_index, test_image)\n",
        "\n",
        "        # Run inference\n",
        "        interpreter.invoke()\n",
        "\n",
        "        # Post-processing: get the output tensor\n",
        "        output = interpreter.tensor(output_index)\n",
        "        predicted_label = np.argmax(output()[0])\n",
        "\n",
        "        y_pred.append(predicted_label)\n",
        "\n",
        "    # Calculate accuracy\n",
        "    accuracy = accuracy_score(y_true, y_pred)\n",
        "    return accuracy\n",
        "\n",
        "# Evaluate the accuracy of the converted TFLite model\n",
        "classifier_interpreter = tf.lite.Interpreter(model_content=tflite_model)\n",
        "classifier_interpreter.allocate_tensors()\n",
        "\n",
        "# Assuming X_test and y_test are already defined\n",
        "accuracy = evaluate_model(classifier_interpreter, X_train, y_train)\n",
        "print('Accuracy of TFLite model: {:.2f}%'.format(accuracy * 100))\n"
      ],
      "metadata": {
        "id": "HXE2WgV1OkZf"
      },
      "execution_count": null,
      "outputs": []
    },
    {
      "cell_type": "markdown",
      "source": [
        "###Install TensorFlow Lite Metadata Writer"
      ],
      "metadata": {
        "id": "uXNWTZh3d5XA"
      }
    },
    {
      "cell_type": "code",
      "source": [
        "!pip install tflite-support"
      ],
      "metadata": {
        "id": "ARHulq0jd65H"
      },
      "execution_count": null,
      "outputs": []
    },
    {
      "cell_type": "code",
      "source": [
        "import os\n",
        "import numpy as np\n",
        "from tflite_support.metadata_writers import writer_utils\n",
        "from tflite_support.metadata_writers import image_classifier\n",
        "from tflite_support.metadata_writers import metadata_info"
      ],
      "metadata": {
        "id": "Z004ddZXeoRN"
      },
      "execution_count": null,
      "outputs": []
    },
    {
      "cell_type": "code",
      "source": [
        "# Define paths for the TFLite model and the metadata output\n",
        "model_path = 'leg_raises.tflite'\n",
        "model_with_metadata_path = 'leg_raises_with_metadata.tflite'\n",
        "label_file = 'leg_raises_labels.txt'\n",
        "\n",
        "# Create the ImageClassifierWriter\n",
        "writer = image_classifier.MetadataWriter.create_for_inference(\n",
        "    writer_utils.load_file(model_path),\n",
        "    input_norm_mean=[127.5],\n",
        "    input_norm_std=[127.5],\n",
        "    label_file_paths=[label_file]\n",
        ")\n",
        "\n",
        "# Populate the metadata buffer\n",
        "metadata_buf = writer.populate()\n",
        "\n",
        "# Save the metadata to the model\n",
        "# First save the original model bytes\n",
        "with open(model_with_metadata_path, 'wb') as f:\n",
        "    f.write(writer_utils.load_file(model_path))\n",
        "\n",
        "# Then attach the metadata to the model\n",
        "# Using writer_utils to update the model file\n",
        "model_with_metadata = writer_utils.load_file(model_with_metadata_path)\n",
        "with open(model_with_metadata_path, 'wb') as f:\n",
        "    f.write(model_with_metadata + metadata_buf)\n",
        "\n",
        "print(\"Metadata added to the model\")"
      ],
      "metadata": {
        "id": "dt638Aa4d8uP"
      },
      "execution_count": null,
      "outputs": []
    },
    {
      "cell_type": "code",
      "source": [
        "# import tensorflow as tf\n",
        "# from sklearn.metrics import accuracy_score\n",
        "# import numpy as np\n",
        "# from tensorflow import keras\n",
        "\n",
        "# def evaluate_model(interpreter, X, y_true):\n",
        "#   input_index = interpreter.get_input_details()[0][\"index\"]\n",
        "#   output_index = interpreter.get_output_details()[0][\"index\"]\n",
        "\n",
        "#   y_pred = []\n",
        "#   for i in range(len(y_true)):\n",
        "#     test_image = X[i: i + 1].astype('float32')\n",
        "#     interpreter.set_tensor(input_index, test_image)\n",
        "#     interpreter.invoke()\n",
        "#     output = interpreter.tensor(output_index)\n",
        "#     predicted_label = np.argmax(output()[0])\n",
        "#     y_pred.append(predicted_label)\n",
        "\n",
        "#   y_pred = keras.utils.to_categorical(y_pred, num_classes=len(class_names))\n",
        "#   return accuracy_score(y_true, y_pred)\n",
        "\n",
        "# # Evaluate the accuracy of the TFLite model with metadata\n",
        "# classifier_interpreter = tf.lite.Interpreter(model_path=model_with_metadata_path)\n",
        "# classifier_interpreter.allocate_tensors()\n",
        "# print('Accuracy of TFLite model with metadata: %s' %\n",
        "#       evaluate_model(classifier_interpreter, X_test, y_test))\n"
      ],
      "metadata": {
        "id": "PkRYyUPuesat"
      },
      "execution_count": null,
      "outputs": []
    },
    {
      "cell_type": "code",
      "source": [],
      "metadata": {
        "id": "ua1-sN8iPsXt"
      },
      "execution_count": null,
      "outputs": []
    }
  ]
}