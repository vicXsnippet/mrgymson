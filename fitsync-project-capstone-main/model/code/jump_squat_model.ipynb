{
  "nbformat": 4,
  "nbformat_minor": 0,
  "metadata": {
    "colab": {
      "provenance": [],
      "gpuType": "T4"
    },
    "kernelspec": {
      "name": "python3",
      "display_name": "Python 3"
    },
    "language_info": {
      "name": "python"
    },
    "accelerator": "GPU"
  },
  "cells": [
    {
      "cell_type": "code",
      "source": [
        "from google.colab import drive\n",
        "drive.mount('/content/drive')"
      ],
      "metadata": {
        "colab": {
          "base_uri": "https://localhost:8080/"
        },
        "id": "Fuq6CIrfSrbq",
        "outputId": "5f9db22c-caca-47b8-da5c-961ba9ad0a1d"
      },
      "execution_count": null,
      "outputs": [
        {
          "output_type": "stream",
          "name": "stdout",
          "text": [
            "Drive already mounted at /content/drive; to attempt to forcibly remount, call drive.mount(\"/content/drive\", force_remount=True).\n"
          ]
        }
      ]
    },
    {
      "cell_type": "code",
      "source": [
        "%cd /content/drive/MyDrive/dataset/klasifikasi_jump_squat/model3"
      ],
      "metadata": {
        "colab": {
          "base_uri": "https://localhost:8080/"
        },
        "id": "GKf38QknTG6Y",
        "outputId": "6acec1d2-5413-4b34-ddd8-72bb0f0cbad6"
      },
      "execution_count": null,
      "outputs": [
        {
          "output_type": "stream",
          "name": "stdout",
          "text": [
            "/content/drive/MyDrive/dataset/klasifikasi_jump_squat/model3\n"
          ]
        }
      ]
    },
    {
      "cell_type": "code",
      "source": [
        "ls"
      ],
      "metadata": {
        "colab": {
          "base_uri": "https://localhost:8080/"
        },
        "id": "uGKPq241Ta1F",
        "outputId": "e78d46ce-e857-49d4-81b6-95a8f230a546"
      },
      "execution_count": null,
      "outputs": [
        {
          "output_type": "stream",
          "name": "stdout",
          "text": [
            "landmark_jump_squat_test_data.csv  landmark_jump_squat_train_data.csv\n"
          ]
        }
      ]
    },
    {
      "cell_type": "code",
      "execution_count": null,
      "metadata": {
        "id": "YNsH6b59kQkn"
      },
      "outputs": [],
      "source": [
        "!pip install -q opencv-python"
      ]
    },
    {
      "cell_type": "code",
      "source": [
        "import csv\n",
        "import cv2\n",
        "import itertools\n",
        "import numpy as np\n",
        "import pandas as pd\n",
        "import os\n",
        "import sys\n",
        "import tempfile\n",
        "import tqdm\n",
        "\n",
        "from matplotlib import pyplot as plt\n",
        "from matplotlib.collections import LineCollection\n",
        "\n",
        "import tensorflow as tf\n",
        "import tensorflow_hub as hub\n",
        "from tensorflow import keras\n",
        "\n",
        "from sklearn.model_selection import train_test_split\n",
        "from sklearn.metrics import accuracy_score, classification_report, confusion_matrix"
      ],
      "metadata": {
        "id": "04Hn1NWakvEq"
      },
      "execution_count": null,
      "outputs": []
    },
    {
      "cell_type": "code",
      "source": [
        "# Download model from TF Hub and check out inference code from GitHub\n",
        "!wget -q -O movenet_thunder.tflite https://tfhub.dev/google/lite-model/movenet/singlepose/thunder/tflite/float16/4?lite-format=tflite\n",
        "!git clone https://github.com/tensorflow/examples.git\n",
        "pose_sample_rpi_path = os.path.join(os.getcwd(), 'examples/lite/examples/pose_estimation/raspberry_pi')\n",
        "sys.path.append(pose_sample_rpi_path)\n",
        "\n",
        "# Load MoveNet Thunder model\n",
        "import utils\n",
        "from data import BodyPart\n",
        "from ml import Movenet\n",
        "movenet = Movenet('movenet_thunder')\n",
        "\n",
        "# Define function to run pose estimation using MoveNet Thunder.\n",
        "# You'll apply MoveNet's cropping algorithm and run inference multiple times on\n",
        "# the input image to improve pose estimation accuracy.\n",
        "def detect(input_tensor, inference_count=3):\n",
        "  image_height, image_width, channel = input_tensor.shape\n",
        "\n",
        "  # Detect pose using the full input image\n",
        "  movenet.detect(input_tensor.numpy(), reset_crop_region=True)\n",
        "\n",
        "  # Repeatedly using previous detection result to identify the region of\n",
        "  # interest and only croping that region to improve detection accuracy\n",
        "  for _ in range(inference_count - 1):\n",
        "    person = movenet.detect(input_tensor.numpy(),\n",
        "                            reset_crop_region=False)\n",
        "\n",
        "  return person"
      ],
      "metadata": {
        "colab": {
          "base_uri": "https://localhost:8080/"
        },
        "id": "SsLNb5GWkxI_",
        "outputId": "3cc796e5-ed78-4a74-c27d-0160cf3c0624"
      },
      "execution_count": null,
      "outputs": [
        {
          "output_type": "stream",
          "name": "stdout",
          "text": [
            "Cloning into 'examples'...\n",
            "remote: Enumerating objects: 23745, done.\u001b[K\n",
            "remote: Total 23745 (delta 0), reused 0 (delta 0), pack-reused 23745\u001b[K\n",
            "Receiving objects: 100% (23745/23745), 44.08 MiB | 13.95 MiB/s, done.\n",
            "Resolving deltas: 100% (12942/12942), done.\n",
            "Updating files: 100% (2850/2850), done.\n"
          ]
        }
      ]
    },
    {
      "cell_type": "markdown",
      "source": [
        "#Load CSVs preprocessed ke TRAIN dan TEST dataset."
      ],
      "metadata": {
        "id": "7aGkMcxWxAXm"
      }
    },
    {
      "cell_type": "code",
      "source": [
        "csvs_out_test_path = 'landmark_jump_squat_test_data.csv'\n",
        "csvs_out_train_path = 'landmark_jump_squat_train_data.csv'\n",
        "\n",
        "\n",
        "def load_pose_landmarks(csv_path):\n",
        "  # Load the CSV file\n",
        "  dataframe = pd.read_csv(csv_path)\n",
        "  df_to_process = dataframe.copy()\n",
        "\n",
        "  # Drop the file_name columns as you don't need it during training.\n",
        "  df_to_process.drop(columns=['file_name'], inplace=True)\n",
        "\n",
        "  # Extract the list of class names\n",
        "  classes = df_to_process.pop('class_name').unique()\n",
        "\n",
        "  # Extract the labels\n",
        "  y = df_to_process.pop('class_no')\n",
        "\n",
        "  # Convert the input features and labels into the correct format for training.\n",
        "  X = df_to_process.astype('float64')\n",
        "\n",
        "\n",
        "  return X, y, classes, dataframe"
      ],
      "metadata": {
        "id": "iR1L4In5dB_C"
      },
      "execution_count": null,
      "outputs": []
    },
    {
      "cell_type": "code",
      "source": [
        "# csvs_out_test_path = 'landmark_jump_squat_test_data.csv'\n",
        "# csvs_out_train_path = 'landmark_jump_squat_train_data.csv'\n",
        "\n",
        "\n",
        "# def load_pose_landmarks(csv_path):\n",
        "#   # Load the CSV file\n",
        "#   dataframe = pd.read_csv(csv_path)\n",
        "#   df_to_process = dataframe.copy()\n",
        "\n",
        "#   # Drop the file_name columns as you don't need it during training.\n",
        "#   df_to_process.drop(columns=['file_name'], inplace=True)\n",
        "\n",
        "#   # Extract the list of class names\n",
        "#   classes = df_to_process.pop('class_name').unique()\n",
        "\n",
        "#   # Extract the labels\n",
        "#   y = df_to_process.pop('class_no')\n",
        "\n",
        "#   # Convert the input features and labels into the correct format for training.\n",
        "#   X = df_to_process.astype('float64')\n",
        "#   y = keras.utils.to_categorical(y)\n",
        "\n",
        "#   return X, y, classes, dataframe"
      ],
      "metadata": {
        "id": "C6NH3WC0xBY5"
      },
      "execution_count": null,
      "outputs": []
    },
    {
      "cell_type": "code",
      "source": [
        "# Load the train data\n",
        "X, y, class_names, _ = load_pose_landmarks(csvs_out_train_path)\n",
        "\n",
        "# Split training data (X, y) into (X_train, y_train) and (X_val, y_val)\n",
        "X_train, X_val, y_train, y_val = train_test_split(X, y,\n",
        "                                                  test_size=0.15)"
      ],
      "metadata": {
        "id": "5rKrvZZ_xN8x"
      },
      "execution_count": null,
      "outputs": []
    },
    {
      "cell_type": "code",
      "source": [
        "# Load the test data\n",
        "X_test, y_test, _, df_test = load_pose_landmarks(csvs_out_test_path)"
      ],
      "metadata": {
        "id": "fbUSYA0cxSXQ"
      },
      "execution_count": null,
      "outputs": []
    },
    {
      "cell_type": "markdown",
      "source": [
        "###Define functions to convert the pose landmarks to a pose embedding (a.k.a. feature vector) for pose classification"
      ],
      "metadata": {
        "id": "LezOFn0I3Xwb"
      }
    },
    {
      "cell_type": "code",
      "source": [
        "def get_center_point(landmarks, left_bodypart, right_bodypart):\n",
        "  left = tf.gather(landmarks, left_bodypart.value, axis=1)\n",
        "  right = tf.gather(landmarks, right_bodypart.value, axis=1)\n",
        "  center = left * 0.5 + right * 0.5\n",
        "  return center\n",
        "\n",
        "\n",
        "def get_pose_size(landmarks, torso_size_multiplier=2.5):\n",
        "  # Hips center\n",
        "  hips_center = get_center_point(landmarks, BodyPart.LEFT_HIP,\n",
        "                                 BodyPart.RIGHT_HIP)\n",
        "\n",
        "  # Shoulders center\n",
        "  shoulders_center = get_center_point(landmarks, BodyPart.LEFT_SHOULDER,\n",
        "                                      BodyPart.RIGHT_SHOULDER)\n",
        "\n",
        "  # Torso size as the minimum body size\n",
        "  torso_size = tf.linalg.norm(shoulders_center - hips_center)\n",
        "\n",
        "  # Pose center\n",
        "  pose_center_new = get_center_point(landmarks, BodyPart.LEFT_HIP,\n",
        "                                     BodyPart.RIGHT_HIP)\n",
        "  pose_center_new = tf.expand_dims(pose_center_new, axis=1)\n",
        "  # Broadcast the pose center to the same size as the landmark vector to\n",
        "  # perform substraction\n",
        "  pose_center_new = tf.broadcast_to(pose_center_new,\n",
        "                                    [tf.size(landmarks) // (17*2), 17, 2])\n",
        "\n",
        "  # Dist to pose center\n",
        "  d = tf.gather(landmarks - pose_center_new, 0, axis=0,\n",
        "                name=\"dist_to_pose_center\")\n",
        "  # Max dist to pose center\n",
        "  max_dist = tf.reduce_max(tf.linalg.norm(d, axis=0))\n",
        "\n",
        "  # Normalize scale\n",
        "  pose_size = tf.maximum(torso_size * torso_size_multiplier, max_dist)\n",
        "\n",
        "  return pose_size\n",
        "\n",
        "\n",
        "def normalize_pose_landmarks(landmarks):\n",
        "  # Move landmarks so that the pose center becomes (0,0)\n",
        "  pose_center = get_center_point(landmarks, BodyPart.LEFT_HIP,\n",
        "                                 BodyPart.RIGHT_HIP)\n",
        "  pose_center = tf.expand_dims(pose_center, axis=1)\n",
        "  # Broadcast the pose center to the same size as the landmark vector to perform\n",
        "  # substraction\n",
        "  pose_center = tf.broadcast_to(pose_center,\n",
        "                                [tf.size(landmarks) // (17*2), 17, 2])\n",
        "  landmarks = landmarks - pose_center\n",
        "\n",
        "  # Scale the landmarks to a constant pose size\n",
        "  pose_size = get_pose_size(landmarks)\n",
        "  landmarks /= pose_size\n",
        "\n",
        "  return landmarks\n",
        "\n",
        "\n",
        "def landmarks_to_embedding(landmarks_and_scores):\n",
        "  # Reshape the flat input into a matrix with shape=(17, 3)\n",
        "  reshaped_inputs = keras.layers.Reshape((17, 3))(landmarks_and_scores)\n",
        "\n",
        "  # Normalize landmarks 2D\n",
        "  landmarks = normalize_pose_landmarks(reshaped_inputs[:, :, :2])\n",
        "\n",
        "  # Flatten the normalized landmark coordinates into a vector\n",
        "  embedding = keras.layers.Flatten()(landmarks)\n",
        "\n",
        "  return embedding"
      ],
      "metadata": {
        "id": "L0z82aew3U7L"
      },
      "execution_count": null,
      "outputs": []
    },
    {
      "cell_type": "markdown",
      "source": [
        "# Define the model"
      ],
      "metadata": {
        "id": "9lie1mjk3o_R"
      }
    },
    {
      "cell_type": "code",
      "source": [
        "# Define the model\n",
        "inputs = tf.keras.Input(shape=(51))\n",
        "embedding = landmarks_to_embedding(inputs)\n",
        "\n",
        "layer = keras.layers.Dense(128, activation=tf.nn.relu6)(embedding)\n",
        "layer = keras.layers.Dropout(0.5)(layer)\n",
        "layer = keras.layers.Dense(64, activation=tf.nn.relu6)(layer)\n",
        "layer = keras.layers.Dropout(0.5)(layer)\n",
        "outputs = keras.layers.Dense(1, activation=\"sigmoid\")(layer)\n",
        "\n",
        "model = keras.Model(inputs, outputs)\n",
        "model.summary()"
      ],
      "metadata": {
        "colab": {
          "base_uri": "https://localhost:8080/"
        },
        "id": "YjxAUs5JdMNk",
        "outputId": "74e1cb9c-980f-4a77-85a4-bb09b786c412"
      },
      "execution_count": null,
      "outputs": [
        {
          "output_type": "stream",
          "name": "stdout",
          "text": [
            "Model: \"model\"\n",
            "__________________________________________________________________________________________________\n",
            " Layer (type)                Output Shape                 Param #   Connected to                  \n",
            "==================================================================================================\n",
            " input_1 (InputLayer)        [(None, 51)]                 0         []                            \n",
            "                                                                                                  \n",
            " reshape (Reshape)           (None, 17, 3)                0         ['input_1[0][0]']             \n",
            "                                                                                                  \n",
            " tf.__operators__.getitem (  (None, 17, 2)                0         ['reshape[0][0]']             \n",
            " SlicingOpLambda)                                                                                 \n",
            "                                                                                                  \n",
            " tf.compat.v1.gather (TFOpL  (None, 2)                    0         ['tf.__operators__.getitem[0][\n",
            " ambda)                                                             0]']                          \n",
            "                                                                                                  \n",
            " tf.compat.v1.gather_1 (TFO  (None, 2)                    0         ['tf.__operators__.getitem[0][\n",
            " pLambda)                                                           0]']                          \n",
            "                                                                                                  \n",
            " tf.math.multiply (TFOpLamb  (None, 2)                    0         ['tf.compat.v1.gather[0][0]'] \n",
            " da)                                                                                              \n",
            "                                                                                                  \n",
            " tf.math.multiply_1 (TFOpLa  (None, 2)                    0         ['tf.compat.v1.gather_1[0][0]'\n",
            " mbda)                                                              ]                             \n",
            "                                                                                                  \n",
            " tf.__operators__.add (TFOp  (None, 2)                    0         ['tf.math.multiply[0][0]',    \n",
            " Lambda)                                                             'tf.math.multiply_1[0][0]']  \n",
            "                                                                                                  \n",
            " tf.compat.v1.size (TFOpLam  ()                           0         ['tf.__operators__.getitem[0][\n",
            " bda)                                                               0]']                          \n",
            "                                                                                                  \n",
            " tf.expand_dims (TFOpLambda  (None, 1, 2)                 0         ['tf.__operators__.add[0][0]']\n",
            " )                                                                                                \n",
            "                                                                                                  \n",
            " tf.compat.v1.floor_div (TF  ()                           0         ['tf.compat.v1.size[0][0]']   \n",
            " OpLambda)                                                                                        \n",
            "                                                                                                  \n",
            " tf.broadcast_to (TFOpLambd  (None, 17, 2)                0         ['tf.expand_dims[0][0]',      \n",
            " a)                                                                  'tf.compat.v1.floor_div[0][0]\n",
            "                                                                    ']                            \n",
            "                                                                                                  \n",
            " tf.math.subtract (TFOpLamb  (None, 17, 2)                0         ['tf.__operators__.getitem[0][\n",
            " da)                                                                0]',                          \n",
            "                                                                     'tf.broadcast_to[0][0]']     \n",
            "                                                                                                  \n",
            " tf.compat.v1.gather_6 (TFO  (None, 2)                    0         ['tf.math.subtract[0][0]']    \n",
            " pLambda)                                                                                         \n",
            "                                                                                                  \n",
            " tf.compat.v1.gather_7 (TFO  (None, 2)                    0         ['tf.math.subtract[0][0]']    \n",
            " pLambda)                                                                                         \n",
            "                                                                                                  \n",
            " tf.math.multiply_6 (TFOpLa  (None, 2)                    0         ['tf.compat.v1.gather_6[0][0]'\n",
            " mbda)                                                              ]                             \n",
            "                                                                                                  \n",
            " tf.math.multiply_7 (TFOpLa  (None, 2)                    0         ['tf.compat.v1.gather_7[0][0]'\n",
            " mbda)                                                              ]                             \n",
            "                                                                                                  \n",
            " tf.__operators__.add_3 (TF  (None, 2)                    0         ['tf.math.multiply_6[0][0]',  \n",
            " OpLambda)                                                           'tf.math.multiply_7[0][0]']  \n",
            "                                                                                                  \n",
            " tf.compat.v1.size_1 (TFOpL  ()                           0         ['tf.math.subtract[0][0]']    \n",
            " ambda)                                                                                           \n",
            "                                                                                                  \n",
            " tf.compat.v1.gather_4 (TFO  (None, 2)                    0         ['tf.math.subtract[0][0]']    \n",
            " pLambda)                                                                                         \n",
            "                                                                                                  \n",
            " tf.compat.v1.gather_5 (TFO  (None, 2)                    0         ['tf.math.subtract[0][0]']    \n",
            " pLambda)                                                                                         \n",
            "                                                                                                  \n",
            " tf.compat.v1.gather_2 (TFO  (None, 2)                    0         ['tf.math.subtract[0][0]']    \n",
            " pLambda)                                                                                         \n",
            "                                                                                                  \n",
            " tf.compat.v1.gather_3 (TFO  (None, 2)                    0         ['tf.math.subtract[0][0]']    \n",
            " pLambda)                                                                                         \n",
            "                                                                                                  \n",
            " tf.expand_dims_1 (TFOpLamb  (None, 1, 2)                 0         ['tf.__operators__.add_3[0][0]\n",
            " da)                                                                ']                            \n",
            "                                                                                                  \n",
            " tf.compat.v1.floor_div_1 (  ()                           0         ['tf.compat.v1.size_1[0][0]'] \n",
            " TFOpLambda)                                                                                      \n",
            "                                                                                                  \n",
            " tf.math.multiply_4 (TFOpLa  (None, 2)                    0         ['tf.compat.v1.gather_4[0][0]'\n",
            " mbda)                                                              ]                             \n",
            "                                                                                                  \n",
            " tf.math.multiply_5 (TFOpLa  (None, 2)                    0         ['tf.compat.v1.gather_5[0][0]'\n",
            " mbda)                                                              ]                             \n",
            "                                                                                                  \n",
            " tf.math.multiply_2 (TFOpLa  (None, 2)                    0         ['tf.compat.v1.gather_2[0][0]'\n",
            " mbda)                                                              ]                             \n",
            "                                                                                                  \n",
            " tf.math.multiply_3 (TFOpLa  (None, 2)                    0         ['tf.compat.v1.gather_3[0][0]'\n",
            " mbda)                                                              ]                             \n",
            "                                                                                                  \n",
            " tf.broadcast_to_1 (TFOpLam  (None, 17, 2)                0         ['tf.expand_dims_1[0][0]',    \n",
            " bda)                                                                'tf.compat.v1.floor_div_1[0][\n",
            "                                                                    0]']                          \n",
            "                                                                                                  \n",
            " tf.__operators__.add_2 (TF  (None, 2)                    0         ['tf.math.multiply_4[0][0]',  \n",
            " OpLambda)                                                           'tf.math.multiply_5[0][0]']  \n",
            "                                                                                                  \n",
            " tf.__operators__.add_1 (TF  (None, 2)                    0         ['tf.math.multiply_2[0][0]',  \n",
            " OpLambda)                                                           'tf.math.multiply_3[0][0]']  \n",
            "                                                                                                  \n",
            " tf.math.subtract_2 (TFOpLa  (None, 17, 2)                0         ['tf.math.subtract[0][0]',    \n",
            " mbda)                                                               'tf.broadcast_to_1[0][0]']   \n",
            "                                                                                                  \n",
            " tf.math.subtract_1 (TFOpLa  (None, 2)                    0         ['tf.__operators__.add_2[0][0]\n",
            " mbda)                                                              ',                            \n",
            "                                                                     'tf.__operators__.add_1[0][0]\n",
            "                                                                    ']                            \n",
            "                                                                                                  \n",
            " tf.compat.v1.gather_8 (TFO  (17, 2)                      0         ['tf.math.subtract_2[0][0]']  \n",
            " pLambda)                                                                                         \n",
            "                                                                                                  \n",
            " tf.compat.v1.norm (TFOpLam  ()                           0         ['tf.math.subtract_1[0][0]']  \n",
            " bda)                                                                                             \n",
            "                                                                                                  \n",
            " tf.compat.v1.norm_1 (TFOpL  (2,)                         0         ['tf.compat.v1.gather_8[0][0]'\n",
            " ambda)                                                             ]                             \n",
            "                                                                                                  \n",
            " tf.math.multiply_8 (TFOpLa  ()                           0         ['tf.compat.v1.norm[0][0]']   \n",
            " mbda)                                                                                            \n",
            "                                                                                                  \n",
            " tf.math.reduce_max (TFOpLa  ()                           0         ['tf.compat.v1.norm_1[0][0]'] \n",
            " mbda)                                                                                            \n",
            "                                                                                                  \n",
            " tf.math.maximum (TFOpLambd  ()                           0         ['tf.math.multiply_8[0][0]',  \n",
            " a)                                                                  'tf.math.reduce_max[0][0]']  \n",
            "                                                                                                  \n",
            " tf.math.truediv (TFOpLambd  (None, 17, 2)                0         ['tf.math.subtract[0][0]',    \n",
            " a)                                                                  'tf.math.maximum[0][0]']     \n",
            "                                                                                                  \n",
            " flatten (Flatten)           (None, 34)                   0         ['tf.math.truediv[0][0]']     \n",
            "                                                                                                  \n",
            " dense (Dense)               (None, 128)                  4480      ['flatten[0][0]']             \n",
            "                                                                                                  \n",
            " dropout (Dropout)           (None, 128)                  0         ['dense[0][0]']               \n",
            "                                                                                                  \n",
            " dense_1 (Dense)             (None, 64)                   8256      ['dropout[0][0]']             \n",
            "                                                                                                  \n",
            " dropout_1 (Dropout)         (None, 64)                   0         ['dense_1[0][0]']             \n",
            "                                                                                                  \n",
            " dense_2 (Dense)             (None, 1)                    65        ['dropout_1[0][0]']           \n",
            "                                                                                                  \n",
            "==================================================================================================\n",
            "Total params: 12801 (50.00 KB)\n",
            "Trainable params: 12801 (50.00 KB)\n",
            "Non-trainable params: 0 (0.00 Byte)\n",
            "__________________________________________________________________________________________________\n"
          ]
        }
      ]
    },
    {
      "cell_type": "code",
      "source": [
        "# # Define the model\n",
        "# inputs = tf.keras.Input(shape=(51))\n",
        "# embedding = landmarks_to_embedding(inputs)\n",
        "\n",
        "# layer = keras.layers.Dense(128, activation=tf.nn.relu6)(embedding)\n",
        "# layer = keras.layers.Dropout(0.5)(layer)\n",
        "# layer = keras.layers.Dense(64, activation=tf.nn.relu6)(layer)\n",
        "# layer = keras.layers.Dropout(0.5)(layer)\n",
        "# outputs = keras.layers.Dense(len(class_names), activation=\"sigmoid\")(layer)\n",
        "\n",
        "# model = keras.Model(inputs, outputs)\n",
        "# model.summary()"
      ],
      "metadata": {
        "colab": {
          "base_uri": "https://localhost:8080/"
        },
        "id": "5fgcOiQ43nYF",
        "outputId": "b585acac-f30f-4c38-fc47-6348f3396bf6"
      },
      "execution_count": null,
      "outputs": [
        {
          "output_type": "stream",
          "name": "stdout",
          "text": [
            "Model: \"model\"\n",
            "__________________________________________________________________________________________________\n",
            " Layer (type)                Output Shape                 Param #   Connected to                  \n",
            "==================================================================================================\n",
            " input_1 (InputLayer)        [(None, 51)]                 0         []                            \n",
            "                                                                                                  \n",
            " reshape (Reshape)           (None, 17, 3)                0         ['input_1[0][0]']             \n",
            "                                                                                                  \n",
            " tf.__operators__.getitem (  (None, 17, 2)                0         ['reshape[0][0]']             \n",
            " SlicingOpLambda)                                                                                 \n",
            "                                                                                                  \n",
            " tf.compat.v1.gather (TFOpL  (None, 2)                    0         ['tf.__operators__.getitem[0][\n",
            " ambda)                                                             0]']                          \n",
            "                                                                                                  \n",
            " tf.compat.v1.gather_1 (TFO  (None, 2)                    0         ['tf.__operators__.getitem[0][\n",
            " pLambda)                                                           0]']                          \n",
            "                                                                                                  \n",
            " tf.math.multiply (TFOpLamb  (None, 2)                    0         ['tf.compat.v1.gather[0][0]'] \n",
            " da)                                                                                              \n",
            "                                                                                                  \n",
            " tf.math.multiply_1 (TFOpLa  (None, 2)                    0         ['tf.compat.v1.gather_1[0][0]'\n",
            " mbda)                                                              ]                             \n",
            "                                                                                                  \n",
            " tf.__operators__.add (TFOp  (None, 2)                    0         ['tf.math.multiply[0][0]',    \n",
            " Lambda)                                                             'tf.math.multiply_1[0][0]']  \n",
            "                                                                                                  \n",
            " tf.compat.v1.size (TFOpLam  ()                           0         ['tf.__operators__.getitem[0][\n",
            " bda)                                                               0]']                          \n",
            "                                                                                                  \n",
            " tf.expand_dims (TFOpLambda  (None, 1, 2)                 0         ['tf.__operators__.add[0][0]']\n",
            " )                                                                                                \n",
            "                                                                                                  \n",
            " tf.compat.v1.floor_div (TF  ()                           0         ['tf.compat.v1.size[0][0]']   \n",
            " OpLambda)                                                                                        \n",
            "                                                                                                  \n",
            " tf.broadcast_to (TFOpLambd  (None, 17, 2)                0         ['tf.expand_dims[0][0]',      \n",
            " a)                                                                  'tf.compat.v1.floor_div[0][0]\n",
            "                                                                    ']                            \n",
            "                                                                                                  \n",
            " tf.math.subtract (TFOpLamb  (None, 17, 2)                0         ['tf.__operators__.getitem[0][\n",
            " da)                                                                0]',                          \n",
            "                                                                     'tf.broadcast_to[0][0]']     \n",
            "                                                                                                  \n",
            " tf.compat.v1.gather_6 (TFO  (None, 2)                    0         ['tf.math.subtract[0][0]']    \n",
            " pLambda)                                                                                         \n",
            "                                                                                                  \n",
            " tf.compat.v1.gather_7 (TFO  (None, 2)                    0         ['tf.math.subtract[0][0]']    \n",
            " pLambda)                                                                                         \n",
            "                                                                                                  \n",
            " tf.math.multiply_6 (TFOpLa  (None, 2)                    0         ['tf.compat.v1.gather_6[0][0]'\n",
            " mbda)                                                              ]                             \n",
            "                                                                                                  \n",
            " tf.math.multiply_7 (TFOpLa  (None, 2)                    0         ['tf.compat.v1.gather_7[0][0]'\n",
            " mbda)                                                              ]                             \n",
            "                                                                                                  \n",
            " tf.__operators__.add_3 (TF  (None, 2)                    0         ['tf.math.multiply_6[0][0]',  \n",
            " OpLambda)                                                           'tf.math.multiply_7[0][0]']  \n",
            "                                                                                                  \n",
            " tf.compat.v1.size_1 (TFOpL  ()                           0         ['tf.math.subtract[0][0]']    \n",
            " ambda)                                                                                           \n",
            "                                                                                                  \n",
            " tf.compat.v1.gather_4 (TFO  (None, 2)                    0         ['tf.math.subtract[0][0]']    \n",
            " pLambda)                                                                                         \n",
            "                                                                                                  \n",
            " tf.compat.v1.gather_5 (TFO  (None, 2)                    0         ['tf.math.subtract[0][0]']    \n",
            " pLambda)                                                                                         \n",
            "                                                                                                  \n",
            " tf.compat.v1.gather_2 (TFO  (None, 2)                    0         ['tf.math.subtract[0][0]']    \n",
            " pLambda)                                                                                         \n",
            "                                                                                                  \n",
            " tf.compat.v1.gather_3 (TFO  (None, 2)                    0         ['tf.math.subtract[0][0]']    \n",
            " pLambda)                                                                                         \n",
            "                                                                                                  \n",
            " tf.expand_dims_1 (TFOpLamb  (None, 1, 2)                 0         ['tf.__operators__.add_3[0][0]\n",
            " da)                                                                ']                            \n",
            "                                                                                                  \n",
            " tf.compat.v1.floor_div_1 (  ()                           0         ['tf.compat.v1.size_1[0][0]'] \n",
            " TFOpLambda)                                                                                      \n",
            "                                                                                                  \n",
            " tf.math.multiply_4 (TFOpLa  (None, 2)                    0         ['tf.compat.v1.gather_4[0][0]'\n",
            " mbda)                                                              ]                             \n",
            "                                                                                                  \n",
            " tf.math.multiply_5 (TFOpLa  (None, 2)                    0         ['tf.compat.v1.gather_5[0][0]'\n",
            " mbda)                                                              ]                             \n",
            "                                                                                                  \n",
            " tf.math.multiply_2 (TFOpLa  (None, 2)                    0         ['tf.compat.v1.gather_2[0][0]'\n",
            " mbda)                                                              ]                             \n",
            "                                                                                                  \n",
            " tf.math.multiply_3 (TFOpLa  (None, 2)                    0         ['tf.compat.v1.gather_3[0][0]'\n",
            " mbda)                                                              ]                             \n",
            "                                                                                                  \n",
            " tf.broadcast_to_1 (TFOpLam  (None, 17, 2)                0         ['tf.expand_dims_1[0][0]',    \n",
            " bda)                                                                'tf.compat.v1.floor_div_1[0][\n",
            "                                                                    0]']                          \n",
            "                                                                                                  \n",
            " tf.__operators__.add_2 (TF  (None, 2)                    0         ['tf.math.multiply_4[0][0]',  \n",
            " OpLambda)                                                           'tf.math.multiply_5[0][0]']  \n",
            "                                                                                                  \n",
            " tf.__operators__.add_1 (TF  (None, 2)                    0         ['tf.math.multiply_2[0][0]',  \n",
            " OpLambda)                                                           'tf.math.multiply_3[0][0]']  \n",
            "                                                                                                  \n",
            " tf.math.subtract_2 (TFOpLa  (None, 17, 2)                0         ['tf.math.subtract[0][0]',    \n",
            " mbda)                                                               'tf.broadcast_to_1[0][0]']   \n",
            "                                                                                                  \n",
            " tf.math.subtract_1 (TFOpLa  (None, 2)                    0         ['tf.__operators__.add_2[0][0]\n",
            " mbda)                                                              ',                            \n",
            "                                                                     'tf.__operators__.add_1[0][0]\n",
            "                                                                    ']                            \n",
            "                                                                                                  \n",
            " tf.compat.v1.gather_8 (TFO  (17, 2)                      0         ['tf.math.subtract_2[0][0]']  \n",
            " pLambda)                                                                                         \n",
            "                                                                                                  \n",
            " tf.compat.v1.norm (TFOpLam  ()                           0         ['tf.math.subtract_1[0][0]']  \n",
            " bda)                                                                                             \n",
            "                                                                                                  \n",
            " tf.compat.v1.norm_1 (TFOpL  (2,)                         0         ['tf.compat.v1.gather_8[0][0]'\n",
            " ambda)                                                             ]                             \n",
            "                                                                                                  \n",
            " tf.math.multiply_8 (TFOpLa  ()                           0         ['tf.compat.v1.norm[0][0]']   \n",
            " mbda)                                                                                            \n",
            "                                                                                                  \n",
            " tf.math.reduce_max (TFOpLa  ()                           0         ['tf.compat.v1.norm_1[0][0]'] \n",
            " mbda)                                                                                            \n",
            "                                                                                                  \n",
            " tf.math.maximum (TFOpLambd  ()                           0         ['tf.math.multiply_8[0][0]',  \n",
            " a)                                                                  'tf.math.reduce_max[0][0]']  \n",
            "                                                                                                  \n",
            " tf.math.truediv (TFOpLambd  (None, 17, 2)                0         ['tf.math.subtract[0][0]',    \n",
            " a)                                                                  'tf.math.maximum[0][0]']     \n",
            "                                                                                                  \n",
            " flatten (Flatten)           (None, 34)                   0         ['tf.math.truediv[0][0]']     \n",
            "                                                                                                  \n",
            " dense (Dense)               (None, 128)                  4480      ['flatten[0][0]']             \n",
            "                                                                                                  \n",
            " dropout (Dropout)           (None, 128)                  0         ['dense[0][0]']               \n",
            "                                                                                                  \n",
            " dense_1 (Dense)             (None, 64)                   8256      ['dropout[0][0]']             \n",
            "                                                                                                  \n",
            " dropout_1 (Dropout)         (None, 64)                   0         ['dense_1[0][0]']             \n",
            "                                                                                                  \n",
            " dense_2 (Dense)             (None, 2)                    130       ['dropout_1[0][0]']           \n",
            "                                                                                                  \n",
            "==================================================================================================\n",
            "Total params: 12866 (50.26 KB)\n",
            "Trainable params: 12866 (50.26 KB)\n",
            "Non-trainable params: 0 (0.00 Byte)\n",
            "__________________________________________________________________________________________________\n"
          ]
        }
      ]
    },
    {
      "cell_type": "code",
      "source": [
        "model.compile(\n",
        "    optimizer='adam',\n",
        "    loss='binary_crossentropy',\n",
        "    metrics=['accuracy']\n",
        ")\n",
        "\n",
        "# Add a checkpoint callback to store the checkpoint that has the highest\n",
        "# validation accuracy.\n",
        "checkpoint_path = \"weights.best.hdf5\"\n",
        "checkpoint = keras.callbacks.ModelCheckpoint(checkpoint_path,\n",
        "                             monitor='val_accuracy',\n",
        "                             verbose=1,\n",
        "                             save_best_only=True,\n",
        "                             mode='max')\n",
        "earlystopping = keras.callbacks.EarlyStopping(monitor='val_accuracy',\n",
        "                                              patience=10)\n",
        "\n",
        "# Start training\n",
        "history = model.fit(X_train, y_train,\n",
        "                    epochs=200,\n",
        "                    batch_size=64,\n",
        "                    validation_data=(X_val, y_val),\n",
        "                    callbacks=[checkpoint, earlystopping])"
      ],
      "metadata": {
        "colab": {
          "base_uri": "https://localhost:8080/"
        },
        "id": "ITDbV28Y3sSP",
        "outputId": "a3714434-8056-404e-efe7-57c830ba4a3d"
      },
      "execution_count": null,
      "outputs": [
        {
          "output_type": "stream",
          "name": "stdout",
          "text": [
            "Epoch 1/200\n",
            "17/19 [=========================>....] - ETA: 0s - loss: 0.6557 - accuracy: 0.7518 \n",
            "Epoch 1: val_accuracy improved from -inf to 0.85294, saving model to weights.best.hdf5\n",
            "19/19 [==============================] - 2s 28ms/step - loss: 0.6515 - accuracy: 0.7578 - val_loss: 0.5739 - val_accuracy: 0.8529\n",
            "Epoch 2/200\n",
            "16/19 [========================>.....] - ETA: 0s - loss: 0.5516 - accuracy: 0.8096\n",
            "Epoch 2: val_accuracy did not improve from 0.85294\n",
            "19/19 [==============================] - 0s 6ms/step - loss: 0.5446 - accuracy: 0.8106 - val_loss: 0.4369 - val_accuracy: 0.8529\n",
            "Epoch 3/200\n",
            " 1/19 [>.............................] - ETA: 0s - loss: 0.4397 - accuracy: 0.8594"
          ]
        },
        {
          "output_type": "stream",
          "name": "stderr",
          "text": [
            "/usr/local/lib/python3.10/dist-packages/keras/src/engine/training.py:3103: UserWarning: You are saving your model as an HDF5 file via `model.save()`. This file format is considered legacy. We recommend using instead the native Keras format, e.g. `model.save('my_model.keras')`.\n",
            "  saving_api.save_model(\n"
          ]
        },
        {
          "output_type": "stream",
          "name": "stdout",
          "text": [
            "\n",
            "Epoch 3: val_accuracy did not improve from 0.85294\n",
            "19/19 [==============================] - 0s 5ms/step - loss: 0.4747 - accuracy: 0.8106 - val_loss: 0.3872 - val_accuracy: 0.8529\n",
            "Epoch 4/200\n",
            "18/19 [===========================>..] - ETA: 0s - loss: 0.4522 - accuracy: 0.8108\n",
            "Epoch 4: val_accuracy did not improve from 0.85294\n",
            "19/19 [==============================] - 0s 5ms/step - loss: 0.4525 - accuracy: 0.8106 - val_loss: 0.3663 - val_accuracy: 0.8529\n",
            "Epoch 5/200\n",
            " 1/19 [>.............................] - ETA: 0s - loss: 0.4286 - accuracy: 0.8125\n",
            "Epoch 5: val_accuracy did not improve from 0.85294\n",
            "19/19 [==============================] - 0s 6ms/step - loss: 0.4232 - accuracy: 0.8114 - val_loss: 0.3369 - val_accuracy: 0.8529\n",
            "Epoch 6/200\n",
            "13/19 [===================>..........] - ETA: 0s - loss: 0.3975 - accuracy: 0.8185\n",
            "Epoch 6: val_accuracy improved from 0.85294 to 0.86275, saving model to weights.best.hdf5\n",
            "19/19 [==============================] - 0s 10ms/step - loss: 0.3948 - accuracy: 0.8183 - val_loss: 0.3056 - val_accuracy: 0.8627\n",
            "Epoch 7/200\n",
            "13/19 [===================>..........] - ETA: 0s - loss: 0.3822 - accuracy: 0.8353\n",
            "Epoch 7: val_accuracy improved from 0.86275 to 0.89216, saving model to weights.best.hdf5\n",
            "19/19 [==============================] - 0s 9ms/step - loss: 0.3813 - accuracy: 0.8391 - val_loss: 0.2794 - val_accuracy: 0.8922\n",
            "Epoch 8/200\n",
            " 1/19 [>.............................] - ETA: 0s - loss: 0.4332 - accuracy: 0.7812\n",
            "Epoch 8: val_accuracy improved from 0.89216 to 0.94608, saving model to weights.best.hdf5\n",
            "19/19 [==============================] - 0s 9ms/step - loss: 0.3549 - accuracy: 0.8599 - val_loss: 0.2500 - val_accuracy: 0.9461\n",
            "Epoch 9/200\n",
            " 1/19 [>.............................] - ETA: 0s - loss: 0.4817 - accuracy: 0.8125\n",
            "Epoch 9: val_accuracy improved from 0.94608 to 0.95098, saving model to weights.best.hdf5\n",
            "19/19 [==============================] - 0s 8ms/step - loss: 0.3327 - accuracy: 0.8832 - val_loss: 0.2309 - val_accuracy: 0.9510\n",
            "Epoch 10/200\n",
            "18/19 [===========================>..] - ETA: 0s - loss: 0.3072 - accuracy: 0.9062\n",
            "Epoch 10: val_accuracy improved from 0.95098 to 0.95588, saving model to weights.best.hdf5\n",
            "19/19 [==============================] - 0s 10ms/step - loss: 0.3062 - accuracy: 0.9066 - val_loss: 0.2129 - val_accuracy: 0.9559\n",
            "Epoch 11/200\n",
            " 1/19 [>.............................] - ETA: 0s - loss: 0.3356 - accuracy: 0.8750\n",
            "Epoch 11: val_accuracy did not improve from 0.95588\n",
            "19/19 [==============================] - 0s 5ms/step - loss: 0.2908 - accuracy: 0.9031 - val_loss: 0.1914 - val_accuracy: 0.9559\n",
            "Epoch 12/200\n",
            "15/19 [======================>.......] - ETA: 0s - loss: 0.2692 - accuracy: 0.9156\n",
            "Epoch 12: val_accuracy did not improve from 0.95588\n",
            "19/19 [==============================] - 0s 6ms/step - loss: 0.2752 - accuracy: 0.9092 - val_loss: 0.1824 - val_accuracy: 0.9510\n",
            "Epoch 13/200\n",
            "15/19 [======================>.......] - ETA: 0s - loss: 0.2684 - accuracy: 0.9125\n",
            "Epoch 13: val_accuracy did not improve from 0.95588\n",
            "19/19 [==============================] - 0s 7ms/step - loss: 0.2610 - accuracy: 0.9178 - val_loss: 0.1752 - val_accuracy: 0.9559\n",
            "Epoch 14/200\n",
            "18/19 [===========================>..] - ETA: 0s - loss: 0.2638 - accuracy: 0.9193\n",
            "Epoch 14: val_accuracy did not improve from 0.95588\n",
            "19/19 [==============================] - 0s 6ms/step - loss: 0.2629 - accuracy: 0.9196 - val_loss: 0.1641 - val_accuracy: 0.9559\n",
            "Epoch 15/200\n",
            " 1/19 [>.............................] - ETA: 0s - loss: 0.2601 - accuracy: 0.9219\n",
            "Epoch 15: val_accuracy did not improve from 0.95588\n",
            "19/19 [==============================] - 0s 5ms/step - loss: 0.2473 - accuracy: 0.9256 - val_loss: 0.1545 - val_accuracy: 0.9559\n",
            "Epoch 16/200\n",
            "19/19 [==============================] - ETA: 0s - loss: 0.2372 - accuracy: 0.9178\n",
            "Epoch 16: val_accuracy improved from 0.95588 to 0.96078, saving model to weights.best.hdf5\n",
            "19/19 [==============================] - 0s 8ms/step - loss: 0.2372 - accuracy: 0.9178 - val_loss: 0.1508 - val_accuracy: 0.9608\n",
            "Epoch 17/200\n",
            "19/19 [==============================] - ETA: 0s - loss: 0.2211 - accuracy: 0.9299\n",
            "Epoch 17: val_accuracy did not improve from 0.96078\n",
            "19/19 [==============================] - 0s 5ms/step - loss: 0.2211 - accuracy: 0.9299 - val_loss: 0.1440 - val_accuracy: 0.9608\n",
            "Epoch 18/200\n",
            " 1/19 [>.............................] - ETA: 0s - loss: 0.2403 - accuracy: 0.8906\n",
            "Epoch 18: val_accuracy did not improve from 0.96078\n",
            "19/19 [==============================] - 0s 4ms/step - loss: 0.2204 - accuracy: 0.9273 - val_loss: 0.1370 - val_accuracy: 0.9608\n",
            "Epoch 19/200\n",
            " 1/19 [>.............................] - ETA: 0s - loss: 0.1847 - accuracy: 0.9531\n",
            "Epoch 19: val_accuracy improved from 0.96078 to 0.96569, saving model to weights.best.hdf5\n",
            "19/19 [==============================] - 0s 9ms/step - loss: 0.2189 - accuracy: 0.9291 - val_loss: 0.1364 - val_accuracy: 0.9657\n",
            "Epoch 20/200\n",
            "12/19 [=================>............] - ETA: 0s - loss: 0.2273 - accuracy: 0.9232\n",
            "Epoch 20: val_accuracy did not improve from 0.96569\n",
            "19/19 [==============================] - 0s 8ms/step - loss: 0.2242 - accuracy: 0.9273 - val_loss: 0.1339 - val_accuracy: 0.9608\n",
            "Epoch 21/200\n",
            "18/19 [===========================>..] - ETA: 0s - loss: 0.2015 - accuracy: 0.9358\n",
            "Epoch 21: val_accuracy did not improve from 0.96569\n",
            "19/19 [==============================] - 0s 5ms/step - loss: 0.2008 - accuracy: 0.9360 - val_loss: 0.1344 - val_accuracy: 0.9657\n",
            "Epoch 22/200\n",
            "19/19 [==============================] - ETA: 0s - loss: 0.2075 - accuracy: 0.9299\n",
            "Epoch 22: val_accuracy did not improve from 0.96569\n",
            "19/19 [==============================] - 0s 5ms/step - loss: 0.2075 - accuracy: 0.9299 - val_loss: 0.1278 - val_accuracy: 0.9657\n",
            "Epoch 23/200\n",
            "19/19 [==============================] - ETA: 0s - loss: 0.1992 - accuracy: 0.9377\n",
            "Epoch 23: val_accuracy did not improve from 0.96569\n",
            "19/19 [==============================] - 0s 6ms/step - loss: 0.1992 - accuracy: 0.9377 - val_loss: 0.1232 - val_accuracy: 0.9657\n",
            "Epoch 24/200\n",
            " 1/19 [>.............................] - ETA: 0s - loss: 0.2246 - accuracy: 0.9375\n",
            "Epoch 24: val_accuracy did not improve from 0.96569\n",
            "19/19 [==============================] - 0s 5ms/step - loss: 0.1864 - accuracy: 0.9386 - val_loss: 0.1173 - val_accuracy: 0.9608\n",
            "Epoch 25/200\n",
            " 1/19 [>.............................] - ETA: 0s - loss: 0.2274 - accuracy: 0.9375\n",
            "Epoch 25: val_accuracy did not improve from 0.96569\n",
            "19/19 [==============================] - 0s 4ms/step - loss: 0.1955 - accuracy: 0.9317 - val_loss: 0.1177 - val_accuracy: 0.9657\n",
            "Epoch 26/200\n",
            " 1/19 [>.............................] - ETA: 0s - loss: 0.2019 - accuracy: 0.9531\n",
            "Epoch 26: val_accuracy did not improve from 0.96569\n",
            "19/19 [==============================] - 0s 4ms/step - loss: 0.1862 - accuracy: 0.9403 - val_loss: 0.1187 - val_accuracy: 0.9657\n",
            "Epoch 27/200\n",
            " 1/19 [>.............................] - ETA: 0s - loss: 0.2595 - accuracy: 0.9219\n",
            "Epoch 27: val_accuracy did not improve from 0.96569\n",
            "19/19 [==============================] - 0s 5ms/step - loss: 0.1903 - accuracy: 0.9394 - val_loss: 0.1143 - val_accuracy: 0.9657\n",
            "Epoch 28/200\n",
            " 1/19 [>.............................] - ETA: 0s - loss: 0.1054 - accuracy: 0.9844\n",
            "Epoch 28: val_accuracy did not improve from 0.96569\n",
            "19/19 [==============================] - 0s 5ms/step - loss: 0.1820 - accuracy: 0.9386 - val_loss: 0.1130 - val_accuracy: 0.9657\n",
            "Epoch 29/200\n",
            "13/19 [===================>..........] - ETA: 0s - loss: 0.1663 - accuracy: 0.9483\n",
            "Epoch 29: val_accuracy did not improve from 0.96569\n",
            "19/19 [==============================] - 0s 7ms/step - loss: 0.1753 - accuracy: 0.9455 - val_loss: 0.1062 - val_accuracy: 0.9657\n"
          ]
        }
      ]
    },
    {
      "cell_type": "code",
      "source": [
        "# Plot the learning curves\n",
        "def plot_learning_curve(history):\n",
        "    plt.figure(figsize=(12, 4))\n",
        "\n",
        "    # Plot training & validation accuracy values\n",
        "    plt.subplot(1, 2, 1)\n",
        "    plt.plot(history.history['accuracy'])\n",
        "    plt.plot(history.history['val_accuracy'])\n",
        "    plt.title('Model Accuracy')\n",
        "    plt.xlabel('Epoch')\n",
        "    plt.ylabel('Accuracy')\n",
        "    plt.legend(['Train', 'Validation'], loc='lower right')\n",
        "\n",
        "    # Plot training & validation loss values\n",
        "    plt.subplot(1, 2, 2)\n",
        "    plt.plot(history.history['loss'])\n",
        "    plt.plot(history.history['val_loss'])\n",
        "    plt.title('Model Loss')\n",
        "    plt.xlabel('Epoch')\n",
        "    plt.ylabel('Loss')\n",
        "    plt.legend(['Train', 'Validation'], loc='upper right')\n",
        "\n",
        "    plt.show()\n",
        "\n",
        "# Plot the learning curves\n",
        "plot_learning_curve(history)"
      ],
      "metadata": {
        "colab": {
          "base_uri": "https://localhost:8080/",
          "height": 262
        },
        "id": "j08a9MF-Gf_i",
        "outputId": "27a12fbf-5d19-4fa9-f405-b89d8a4743f6"
      },
      "execution_count": null,
      "outputs": [
        {
          "output_type": "display_data",
          "data": {
            "text/plain": [
              "<Figure size 1200x400 with 2 Axes>"
            ],
            "image/png": "[encoded data removed]"
          },
          "metadata": {}
        }
      ]
    },
    {
      "cell_type": "code",
      "source": [
        "# Evaluate the model using the TEST dataset\n",
        "loss, accuracy = model.evaluate(X_test, y_test)"
      ],
      "metadata": {
        "colab": {
          "base_uri": "https://localhost:8080/"
        },
        "id": "Pu5aM-kX3x0U",
        "outputId": "da1bdecc-dfa6-416f-aa09-bd779243ce3e"
      },
      "execution_count": null,
      "outputs": [
        {
          "output_type": "stream",
          "name": "stdout",
          "text": [
            "11/11 [==============================] - 0s 2ms/step - loss: 0.0792 - accuracy: 0.9673\n"
          ]
        }
      ]
    },
    {
      "cell_type": "code",
      "source": [
        "# def plot_confusion_matrix(cm, classes,\n",
        "#                           normalize=False,\n",
        "#                           title='Confusion matrix',\n",
        "#                           cmap=plt.cm.Blues):\n",
        "#   \"\"\"Plots the confusion matrix.\"\"\"\n",
        "#   if normalize:\n",
        "#     cm = cm.astype('float') / cm.sum(axis=1)[:, np.newaxis]\n",
        "#     print(\"Normalized confusion matrix\")\n",
        "#   else:\n",
        "#     print('Confusion matrix, without normalization')\n",
        "\n",
        "#   plt.imshow(cm, interpolation='nearest', cmap=cmap)\n",
        "#   plt.title(title)\n",
        "#   plt.colorbar()\n",
        "#   tick_marks = np.arange(len(classes))\n",
        "#   plt.xticks(tick_marks, classes, rotation=55)\n",
        "#   plt.yticks(tick_marks, classes)\n",
        "#   fmt = '.2f' if normalize else 'd'\n",
        "#   thresh = cm.max() / 2.\n",
        "#   for i, j in itertools.product(range(cm.shape[0]), range(cm.shape[1])):\n",
        "#     plt.text(j, i, format(cm[i, j], fmt),\n",
        "#               horizontalalignment=\"center\",\n",
        "#               color=\"white\" if cm[i, j] > thresh else \"black\")\n",
        "\n",
        "#   plt.ylabel('True label')\n",
        "#   plt.xlabel('Predicted label')\n",
        "#   plt.tight_layout()\n",
        "\n",
        "# # Classify pose in the TEST dataset using the trained model\n",
        "# y_pred = model.predict(X_test)\n",
        "\n",
        "# # Convert the prediction result to class name\n",
        "# y_pred_label = [class_names[i] for i in np.argmax(y_pred, axis=1)]\n",
        "# y_true_label = [class_names[i] for i in np.argmax(y_test, axis=1)]\n",
        "\n",
        "# # Plot the confusion matrix\n",
        "# cm = confusion_matrix(np.argmax(y_test, axis=1), np.argmax(y_pred, axis=1))\n",
        "# plot_confusion_matrix(cm,\n",
        "#                       class_names,\n",
        "#                       title ='Confusion Matrix of Pose Classification Model')\n",
        "\n",
        "# # Print the classification report\n",
        "# print('\\nClassification Report:\\n', classification_report(y_true_label,\n",
        "#                                                           y_pred_label))"
      ],
      "metadata": {
        "colab": {
          "base_uri": "https://localhost:8080/",
          "height": 713
        },
        "id": "7MKvoA-HK6xr",
        "outputId": "9464bceb-80bf-4a5b-eb92-f43ac876f0bd"
      },
      "execution_count": null,
      "outputs": [
        {
          "output_type": "stream",
          "name": "stdout",
          "text": [
            "11/11 [==============================] - 0s 3ms/step\n",
            "Confusion matrix, without normalization\n",
            "\n",
            "Classification Report:\n",
            "               precision    recall  f1-score   support\n",
            "\n",
            "        down       1.00      0.89      0.94        62\n",
            "    standing       0.98      1.00      0.99       274\n",
            "\n",
            "    accuracy                           0.98       336\n",
            "   macro avg       0.99      0.94      0.96       336\n",
            "weighted avg       0.98      0.98      0.98       336\n",
            "\n"
          ]
        },
        {
          "output_type": "display_data",
          "data": {
            "text/plain": [
              "<Figure size 640x480 with 2 Axes>"
            ],
            "image/png": "[encoded data removed]"
          },
          "metadata": {}
        }
      ]
    },
    {
      "cell_type": "markdown",
      "source": [
        "#Convert the pose classification model to TensorFlow Lite"
      ],
      "metadata": {
        "id": "tSigfYLZzqHO"
      }
    },
    {
      "cell_type": "code",
      "source": [
        "converter = tf.lite.TFLiteConverter.from_keras_model(model)\n",
        "converter.optimizations = [tf.lite.Optimize.DEFAULT]\n",
        "tflite_model = converter.convert()\n",
        "\n",
        "print('Model size: %dKB' % (len(tflite_model) / 1024))\n",
        "\n",
        "with open('jump_squat.tflite', 'wb') as f:\n",
        "  f.write(tflite_model)"
      ],
      "metadata": {
        "colab": {
          "base_uri": "https://localhost:8080/"
        },
        "id": "FDl0T5bfzhn2",
        "outputId": "ea61821d-4d76-4a63-d55d-8ffb3b813a89"
      },
      "execution_count": null,
      "outputs": [
        {
          "output_type": "stream",
          "name": "stdout",
          "text": [
            "Model size: 25KB\n"
          ]
        }
      ]
    },
    {
      "cell_type": "code",
      "source": [
        "with open('jump_squat_labels.txt', 'w') as f:\n",
        "  f.write('\\n'.join(class_names))"
      ],
      "metadata": {
        "id": "26ueBxg2zsfX"
      },
      "execution_count": null,
      "outputs": []
    },
    {
      "cell_type": "code",
      "source": [
        "def evaluate_model(interpreter, X, y_true):\n",
        "  \"\"\"Evaluates the given TFLite model and return its accuracy.\"\"\"\n",
        "  input_index = interpreter.get_input_details()[0][\"index\"]\n",
        "  output_index = interpreter.get_output_details()[0][\"index\"]\n",
        "\n",
        "  # Run predictions on all given poses.\n",
        "  y_pred = []\n",
        "  for i in range(len(y_true)):\n",
        "    # Pre-processing: add batch dimension and convert to float32 to match with\n",
        "    # the model's input data format.\n",
        "    test_image = X[i: i + 1].astype('float32')\n",
        "    interpreter.set_tensor(input_index, test_image)\n",
        "\n",
        "    # Run inference.\n",
        "    interpreter.invoke()\n",
        "\n",
        "    # Post-processing: remove batch dimension and find the class with highest\n",
        "    # probability.\n",
        "    output = interpreter.tensor(output_index)\n",
        "    predicted_label = np.argmax(output()[0])\n",
        "    y_pred.append(predicted_label)\n",
        "\n",
        "  # Compare prediction results with ground truth labels to calculate accuracy.\n",
        "  y_pred = keras.utils.to_categorical(y_pred)\n",
        "  return accuracy_score(y_true, y_pred)\n",
        "\n",
        "# Evaluate the accuracy of the converted TFLite model\n",
        "classifier_interpreter = tf.lite.Interpreter(model_content=tflite_model)\n",
        "classifier_interpreter.allocate_tensors()\n",
        "print('Accuracy of TFLite model: %s' %\n",
        "      evaluate_model(classifier_interpreter, X_test, y_test))"
      ],
      "metadata": {
        "colab": {
          "base_uri": "https://localhost:8080/"
        },
        "id": "HC7FmZtnz4uX",
        "outputId": "cfca30fd-abc6-41c5-9f02-20ebfeebe416"
      },
      "execution_count": null,
      "outputs": [
        {
          "output_type": "stream",
          "name": "stdout",
          "text": [
            "Accuracy of TFLite model: 0.8154761904761905\n"
          ]
        }
      ]
    },
    {
      "cell_type": "markdown",
      "source": [
        "###Install TensorFlow Lite Metadata Writer"
      ],
      "metadata": {
        "id": "uXNWTZh3d5XA"
      }
    },
    {
      "cell_type": "code",
      "source": [
        "!pip install tflite-support"
      ],
      "metadata": {
        "colab": {
          "base_uri": "https://localhost:8080/"
        },
        "id": "ARHulq0jd65H",
        "outputId": "c24dfb17-8208-4358-f34c-d42c965dbcfd"
      },
      "execution_count": null,
      "outputs": [
        {
          "output_type": "stream",
          "name": "stdout",
          "text": [
            "Collecting tflite-support\n",
            "  Downloading tflite_support-0.4.4-cp310-cp310-manylinux2014_x86_64.whl (60.8 MB)\n",
            "\u001b[2K     \u001b[90m━━━━━━━━━━━━━━━━━━━━━━━━━━━━━━━━━━━━━━━━\u001b[0m \u001b[32m60.8/60.8 MB\u001b[0m \u001b[31m10.6 MB/s\u001b[0m eta \u001b[36m0:00:00\u001b[0m\n",
            "\u001b[?25hRequirement already satisfied: absl-py>=0.7.0 in /usr/local/lib/python3.10/dist-packages (from tflite-support) (1.4.0)\n",
            "Requirement already satisfied: numpy>=1.20.0 in /usr/local/lib/python3.10/dist-packages (from tflite-support) (1.25.2)\n",
            "Requirement already satisfied: flatbuffers>=2.0 in /usr/local/lib/python3.10/dist-packages (from tflite-support) (24.3.25)\n",
            "Requirement already satisfied: protobuf<4,>=3.18.0 in /usr/local/lib/python3.10/dist-packages (from tflite-support) (3.20.3)\n",
            "Collecting sounddevice>=0.4.4 (from tflite-support)\n",
            "  Downloading sounddevice-0.4.7-py3-none-any.whl (32 kB)\n",
            "Collecting pybind11>=2.6.0 (from tflite-support)\n",
            "  Downloading pybind11-2.12.0-py3-none-any.whl (234 kB)\n",
            "\u001b[2K     \u001b[90m━━━━━━━━━━━━━━━━━━━━━━━━━━━━━━━━━━━━━━━━\u001b[0m \u001b[32m235.0/235.0 kB\u001b[0m \u001b[31m17.0 MB/s\u001b[0m eta \u001b[36m0:00:00\u001b[0m\n",
            "\u001b[?25hRequirement already satisfied: CFFI>=1.0 in /usr/local/lib/python3.10/dist-packages (from sounddevice>=0.4.4->tflite-support) (1.16.0)\n",
            "Requirement already satisfied: pycparser in /usr/local/lib/python3.10/dist-packages (from CFFI>=1.0->sounddevice>=0.4.4->tflite-support) (2.22)\n",
            "Installing collected packages: pybind11, sounddevice, tflite-support\n",
            "Successfully installed pybind11-2.12.0 sounddevice-0.4.7 tflite-support-0.4.4\n"
          ]
        }
      ]
    },
    {
      "cell_type": "code",
      "source": [
        "import os\n",
        "import numpy as np\n",
        "from tflite_support.metadata_writers import writer_utils\n",
        "from tflite_support.metadata_writers import image_classifier\n",
        "from tflite_support.metadata_writers import metadata_info"
      ],
      "metadata": {
        "id": "Z004ddZXeoRN"
      },
      "execution_count": null,
      "outputs": []
    },
    {
      "cell_type": "code",
      "source": [
        "# Define paths for the TFLite model and the metadata output\n",
        "model_path = 'jump_squat.tflite'\n",
        "model_with_metadata_path = 'jump_squat_with_metadata.tflite'\n",
        "label_file = 'jump_squat_labels.txt'\n",
        "\n",
        "# Create the ImageClassifierWriter\n",
        "writer = image_classifier.MetadataWriter.create_for_inference(\n",
        "    writer_utils.load_file(model_path),\n",
        "    input_norm_mean=[127.5],\n",
        "    input_norm_std=[127.5],\n",
        "    label_file_paths=[label_file]\n",
        ")\n",
        "\n",
        "# Populate the metadata buffer\n",
        "metadata_buf = writer.populate()\n",
        "\n",
        "# Save the metadata to the model\n",
        "# First save the original model bytes\n",
        "with open(model_with_metadata_path, 'wb') as f:\n",
        "    f.write(writer_utils.load_file(model_path))\n",
        "\n",
        "# Then attach the metadata to the model\n",
        "# Using writer_utils to update the model file\n",
        "model_with_metadata = writer_utils.load_file(model_with_metadata_path)\n",
        "with open(model_with_metadata_path, 'wb') as f:\n",
        "    f.write(model_with_metadata + metadata_buf)\n",
        "\n",
        "print(\"Metadata added to the model\")"
      ],
      "metadata": {
        "colab": {
          "base_uri": "https://localhost:8080/"
        },
        "id": "dt638Aa4d8uP",
        "outputId": "ac9f1b32-9393-4f40-f8b4-5fa305b3b830"
      },
      "execution_count": null,
      "outputs": [
        {
          "output_type": "stream",
          "name": "stdout",
          "text": [
            "Metadata added to the model\n"
          ]
        }
      ]
    },
    {
      "cell_type": "code",
      "source": [],
      "metadata": {
        "id": "kIzkPX7YdwST"
      },
      "execution_count": null,
      "outputs": []
    }
  ]
}