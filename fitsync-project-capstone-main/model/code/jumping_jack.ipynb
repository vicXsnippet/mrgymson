{
  "cells": [
    {
      "cell_type": "code",
      "execution_count": null,
      "metadata": {
        "id": "GmOTezXTtQbb"
      },
      "outputs": [],
      "source": [
        "import csv\n",
        "import cv2\n",
        "import numpy as np\n",
        "import pandas as pd\n",
        "import os\n",
        "import sys\n",
        "import tempfile\n",
        "import tqdm\n",
        "import itertools\n",
        "from matplotlib import pyplot as plt\n",
        "from math import atan2, degrees, sqrt\n",
        "import tensorflow as tf\n",
        "import tensorflow_hub as hub\n",
        "from tensorflow import keras\n",
        "from sklearn.model_selection import train_test_split\n",
        "from sklearn.metrics import accuracy_score, classification_report, confusion_matrix\n",
        "from tensorflow.keras.preprocessing.image import ImageDataGenerator, array_to_img"
      ]
    },
    {
      "cell_type": "code",
      "execution_count": null,
      "metadata": {
        "id": "pw9K7pSN25-5",
        "colab": {
          "base_uri": "https://localhost:8080/"
        },
        "outputId": "8905fc8f-07de-4aa3-c2e9-491938db39ab"
      },
      "outputs": [
        {
          "output_type": "stream",
          "name": "stdout",
          "text": [
            "Mounted at /content/drive\n"
          ]
        }
      ],
      "source": [
        "from google.colab import drive\n",
        "drive.mount('/content/drive')"
      ]
    },
    {
      "cell_type": "code",
      "execution_count": null,
      "metadata": {
        "id": "6IGCwiBePmTj"
      },
      "outputs": [],
      "source": [
        "# Path of the folder that contains the entire dataset\n",
        "dataset_path = '/content/drive/MyDrive/capstone/jumping jack/dataset'\n",
        "\n",
        "# Path of the folder to store the split dataset\n",
        "train_dir = dataset_path + '/train'\n",
        "val_dir = dataset_path + '/val'\n",
        "test_dir = dataset_path + '/test'\n",
        "\n",
        "# Path for each class jumping jack position\n",
        "up_position_path = dataset_path + '/jumping_jack_up'\n",
        "down_position_path = dataset_path + '/jumping_jack_down'"
      ]
    },
    {
      "cell_type": "code",
      "execution_count": null,
      "metadata": {
        "id": "2PgdY3CGyw-h"
      },
      "outputs": [],
      "source": [
        "def split_dataset(position_path, train_dir, val_dir, test_dir):\n",
        "  # Split the dataset into train and test subsets\n",
        "  train_images, test_images = train_test_split(os.listdir(position_path), test_size=0.2)\n",
        "\n",
        "  # Split the remaining train subset into train and val subsets\n",
        "  train_images, val_images = train_test_split(train_images, test_size=0.25)\n",
        "\n",
        "  # Move the images to the train, validation, and test folders\n",
        "  def move_images(path_dir, images):\n",
        "      for image in images:\n",
        "          os.rename(os.path.join(position_path, image), os.path.join(path_dir, image))\n",
        "\n",
        "  move_images(train_dir, train_images)\n",
        "  move_images(val_dir, val_images)\n",
        "  move_images(test_dir, test_images)\n",
        "\n",
        "# Run the split_dataset function to split the dataset of each push up position.\n",
        "split_dataset(up_position_path, train_dir+'/up', val_dir+'/up', test_dir+'/up')\n",
        "split_dataset(down_position_path, train_dir+'/down', val_dir+'/down', test_dir+'/down')"
      ]
    },
    {
      "cell_type": "code",
      "execution_count": null,
      "metadata": {
        "id": "zoqX-_0Pt8zw",
        "colab": {
          "base_uri": "https://localhost:8080/"
        },
        "outputId": "883b0278-b698-4eae-870f-4dc4dd5b42bf"
      },
      "outputs": [
        {
          "output_type": "stream",
          "name": "stdout",
          "text": [
            "Cloning into 'examples'...\n",
            "remote: Enumerating objects: 23745, done.\u001b[K\n",
            "remote: Total 23745 (delta 0), reused 0 (delta 0), pack-reused 23745\u001b[K\n",
            "Receiving objects: 100% (23745/23745), 44.08 MiB | 22.48 MiB/s, done.\n",
            "Resolving deltas: 100% (12948/12948), done.\n"
          ]
        }
      ],
      "source": [
        "# Download model from TF Hub and check out inference code from GitHub\n",
        "!wget -q -O movenet_thunder.tflite https://tfhub.dev/google/lite-model/movenet/singlepose/thunder/tflite/float16/4?lite-format=tflite\n",
        "!git clone https://github.com/tensorflow/examples.git\n",
        "pose_sample_rpi_path = os.path.join(os.getcwd(), 'examples/lite/examples/pose_estimation/raspberry_pi')\n",
        "sys.path.append(pose_sample_rpi_path)\n",
        "\n",
        "# Load MoveNet Thunder model\n",
        "import utils\n",
        "from data import BodyPart\n",
        "from ml import Movenet\n",
        "movenet = Movenet('movenet_thunder')\n",
        "\n",
        "# Define function to run pose estimation using MoveNet Thunder.\n",
        "# Apply MoveNet's cropping algorithm and run inference multiple times on the input image to improve pose estimation accuracy.\n",
        "def detect(input_tensor, inference_count=3):\n",
        "  image_height, image_width, channel = input_tensor.shape\n",
        "\n",
        "  # Detect pose using the full input image\n",
        "  movenet.detect(input_tensor.numpy(), reset_crop_region=True)\n",
        "\n",
        "  # Repeatedly using previous detection result to identify the region of interest and only croping that region to improve detection accuracy\n",
        "  for _ in range(inference_count - 1):\n",
        "    person = movenet.detect(input_tensor.numpy(),\n",
        "                            reset_crop_region=False)\n",
        "\n",
        "  return person"
      ]
    },
    {
      "cell_type": "code",
      "execution_count": null,
      "metadata": {
        "id": "kkNFaGtN6px1"
      },
      "outputs": [],
      "source": [
        "def draw_prediction_on_image(image, person, crop_region=None, close_figure=True, keep_input_size=False):\n",
        "  # Draw the detection result on top of the image.\n",
        "  image_np = utils.visualize(image, [person])\n",
        "\n",
        "  # Plot the image with detection results.\n",
        "  height, width, channel = image.shape\n",
        "  aspect_ratio = float(width) / height\n",
        "  fig, ax = plt.subplots(figsize=(12 * aspect_ratio, 12))\n",
        "  im = ax.imshow(image_np)\n",
        "\n",
        "  if close_figure:\n",
        "    plt.close(fig)\n",
        "\n",
        "  if not keep_input_size:\n",
        "    image_np = utils.keep_aspect_ratio_resizer(image_np, (512, 512))\n",
        "\n",
        "  return image_np"
      ]
    },
    {
      "cell_type": "code",
      "source": [
        "class MoveNetPreprocessor(object):\n",
        "  def __init__(self,\n",
        "               images_in_folder,\n",
        "               images_out_folder,\n",
        "               csvs_out_path):\n",
        "    self._images_in_folder = images_in_folder\n",
        "    self._images_out_folder = images_out_folder\n",
        "    self._csvs_out_path = csvs_out_path\n",
        "    self._messages = []\n",
        "\n",
        "    # Create a temp dir to store the pose CSVs per class\n",
        "    self._csvs_out_folder_per_class = tempfile.mkdtemp()\n",
        "\n",
        "    # Get list of pose classes and print image statistics\n",
        "    self._pose_class_names = sorted(\n",
        "        [n for n in os.listdir(self._images_in_folder) if not n.startswith('.')]\n",
        "        )\n",
        "\n",
        "  def process(self, per_pose_class_limit=None, detection_threshold=0.1):\n",
        "    # Loop through the classes and preprocess its images\n",
        "    for pose_class_name in self._pose_class_names:\n",
        "      print('Preprocessing', pose_class_name, file=sys.stderr)\n",
        "\n",
        "      # Paths for the pose class.\n",
        "      images_in_folder = os.path.join(self._images_in_folder, pose_class_name)\n",
        "      images_out_folder = os.path.join(self._images_out_folder, pose_class_name)\n",
        "      csv_out_path = os.path.join(self._csvs_out_folder_per_class,\n",
        "                                  pose_class_name + '.csv')\n",
        "      if not os.path.exists(images_out_folder):\n",
        "        os.makedirs(images_out_folder)\n",
        "\n",
        "      # Detect landmarks in each image and write it to a CSV file\n",
        "      with open(csv_out_path, 'w') as csv_out_file:\n",
        "        csv_out_writer = csv.writer(csv_out_file,\n",
        "                                    delimiter=',',\n",
        "                                    quoting=csv.QUOTE_MINIMAL)\n",
        "        # Get list of images\n",
        "        image_names = sorted(\n",
        "            [n for n in os.listdir(images_in_folder) if not n.startswith('.')])\n",
        "        if per_pose_class_limit is not None:\n",
        "          image_names = image_names[:per_pose_class_limit]\n",
        "\n",
        "        valid_image_count = 0\n",
        "\n",
        "        # Detect pose landmarks from each image\n",
        "        for image_name in tqdm.tqdm(image_names):\n",
        "          image_path = os.path.join(images_in_folder, image_name)\n",
        "\n",
        "          try:\n",
        "            image = tf.io.read_file(image_path)\n",
        "            image = tf.io.decode_jpeg(image)\n",
        "          except:\n",
        "            self._messages.append('Skipped ' + image_path + '. Invalid image.')\n",
        "            continue\n",
        "          else:\n",
        "            image = tf.io.read_file(image_path)\n",
        "            image = tf.io.decode_jpeg(image)\n",
        "            image_height, image_width, channel = image.shape\n",
        "\n",
        "          # Skip images that isn't RGB because Movenet requires RGB images\n",
        "          if channel != 3:\n",
        "            self._messages.append('Skipped ' + image_path +\n",
        "                                  '. Image isn\\'t in RGB format.')\n",
        "            continue\n",
        "          person = detect(image)\n",
        "\n",
        "          # Save landmarks if all landmarks were detected\n",
        "          min_landmark_score = min(\n",
        "              [keypoint.score for keypoint in person.keypoints])\n",
        "          should_keep_image = min_landmark_score >= detection_threshold\n",
        "          if not should_keep_image:\n",
        "            self._messages.append('Skipped ' + image_path +\n",
        "                                  '. No pose was confidentlly detected.')\n",
        "            continue\n",
        "\n",
        "          valid_image_count += 1\n",
        "\n",
        "          # Draw the prediction result on top of the image for debugging later\n",
        "          output_overlay = draw_prediction_on_image(\n",
        "              image.numpy().astype(np.uint8), person,\n",
        "              close_figure=True, keep_input_size=True)\n",
        "\n",
        "          # Write detection result into an image file\n",
        "          output_frame = cv2.cvtColor(output_overlay, cv2.COLOR_RGB2BGR)\n",
        "          cv2.imwrite(os.path.join(images_out_folder, image_name), output_frame)\n",
        "\n",
        "          # Get landmarks and scale it to the same size as the input image\n",
        "          pose_landmarks = np.array(\n",
        "              [[keypoint.coordinate.x, keypoint.coordinate.y, keypoint.score]\n",
        "                for keypoint in person.keypoints],\n",
        "              dtype=np.float32)\n",
        "\n",
        "          # Write the landmark coordinates to its per-class CSV file\n",
        "          coordinates = pose_landmarks.flatten().astype(str).tolist()\n",
        "          csv_out_writer.writerow([image_name] + coordinates)\n",
        "\n",
        "        if not valid_image_count:\n",
        "          raise RuntimeError(\n",
        "              'No valid images found for the \"{}\" class.'\n",
        "              .format(pose_class_name))\n",
        "\n",
        "    # Print the error message collected during preprocessing.\n",
        "    print('\\n'.join(self._messages))\n",
        "\n",
        "    # Combine all per-class CSVs into a single output file\n",
        "    all_landmarks_df = self._all_landmarks_as_dataframe()\n",
        "    all_landmarks_df.to_csv(self._csvs_out_path, index=False)\n",
        "\n",
        "  def class_names(self):\n",
        "    \"\"\"List of classes found in the training dataset.\"\"\"\n",
        "    return self._pose_class_names\n",
        "\n",
        "  def _all_landmarks_as_dataframe(self):\n",
        "    \"\"\"Merge all per-class CSVs into a single dataframe.\"\"\"\n",
        "    total_df = None\n",
        "    for class_index, class_name in enumerate(self._pose_class_names):\n",
        "      csv_out_path = os.path.join(self._csvs_out_folder_per_class,\n",
        "                                  class_name + '.csv')\n",
        "      per_class_df = pd.read_csv(csv_out_path, header=None)\n",
        "\n",
        "      # Add the labels\n",
        "      per_class_df['class_no'] = [class_index]*len(per_class_df)\n",
        "      per_class_df['class_name'] = [class_name]*len(per_class_df)\n",
        "\n",
        "      # Append the folder name to the filename column (first column)\n",
        "      per_class_df[per_class_df.columns[0]] = (os.path.join(class_name, '')\n",
        "        + per_class_df[per_class_df.columns[0]].astype(str))\n",
        "\n",
        "      if total_df is None:\n",
        "        # For the first class, assign its data to the total dataframe\n",
        "        total_df = per_class_df\n",
        "      else:\n",
        "        # Concatenate each class's data into the total dataframe\n",
        "        total_df = pd.concat([total_df, per_class_df], axis=0)\n",
        "\n",
        "    list_name = [[bodypart.name + '_x', bodypart.name + '_y',\n",
        "                  bodypart.name + '_score'] for bodypart in BodyPart]\n",
        "    header_name = []\n",
        "    for columns_name in list_name:\n",
        "      header_name += columns_name\n",
        "    header_name = ['file_name'] + header_name\n",
        "    header_map = {total_df.columns[i]: header_name[i]\n",
        "                  for i in range(len(header_name))}\n",
        "\n",
        "    total_df.rename(header_map, axis=1, inplace=True)\n",
        "\n",
        "    return total_df"
      ],
      "metadata": {
        "id": "ybKB2vr_nkVi"
      },
      "execution_count": null,
      "outputs": []
    },
    {
      "cell_type": "code",
      "execution_count": null,
      "metadata": {
        "id": "Zr6V-W8Y5S6J"
      },
      "outputs": [],
      "source": [
        "def preprocess_data(path_dir, out_dir):\n",
        "    images_in_folder = path_dir\n",
        "    images_out_folder = out_dir\n",
        "    csvs_out_path = path_dir+'/_landmark.csv'\n",
        "\n",
        "    preprocessor = MoveNetPreprocessor(\n",
        "        images_in_folder=images_in_folder,\n",
        "        images_out_folder=images_out_folder,\n",
        "        csvs_out_path=csvs_out_path,)\n",
        "    preprocessor.process()\n",
        "\n",
        "preprocess_data(train_dir, dataset_path+'/output_train')\n",
        "preprocess_data(val_dir, dataset_path+'/output_val')\n",
        "preprocess_data(test_dir, dataset_path+'/output_test')"
      ]
    },
    {
      "cell_type": "code",
      "source": [
        "# Path file _landmark.csv tiap dataset\n",
        "TRAINING_FILE = train_dir + '/_landmark.csv'\n",
        "VALIDATION_FILE = val_dir + '/_landmark.csv'\n",
        "TESTING_FILE = test_dir + '/_landmark.csv'"
      ],
      "metadata": {
        "id": "-ht2z156zkce"
      },
      "execution_count": null,
      "outputs": []
    },
    {
      "cell_type": "code",
      "source": [
        "# Fungsi untuk memuat data dari file CSV dan mengabaikan kolom pertama dan terakhir\n",
        "def load_data(file_path):\n",
        "    dataframe = pd.read_csv(file_path)\n",
        "    df_to_process = dataframe.copy()\n",
        "\n",
        "    # Drop the file_name columns as you don't need it during training.\n",
        "    df_to_process.drop(columns=['file_name'], inplace=True)\n",
        "\n",
        "    # Extract the list of class names\n",
        "    classes = df_to_process.pop('class_name').unique()\n",
        "\n",
        "    # Extract the labels\n",
        "    y = df_to_process.pop('class_no')\n",
        "\n",
        "    # Convert the input features and labels into the correct format for training.\n",
        "    X = df_to_process.astype('float64').values\n",
        "    y = keras.utils.to_categorical(y)\n",
        "\n",
        "    return X, y, classes, dataframe\n",
        "\n",
        "# Load train, validation, and test data\n",
        "try:\n",
        "    X_train, y_train, class_names, _ = load_data(TRAINING_FILE)\n",
        "    X_val, y_val, class_names, _ = load_data(VALIDATION_FILE)\n",
        "    X_test, y_test, class_names, _ = load_data(TESTING_FILE)\n",
        "except Exception as e:\n",
        "    print(f\"Error loading data: {e}\")\n",
        "\n",
        "print(f\"Length X_train: {len(X_train)}, X_train Shape: {X_train.shape}, Length y_train: {len(y_train)}, y_train Shape: {y_train.shape}\")\n",
        "print(f\"Length X_val: {len(X_val)}, X_val Shape: {X_val.shape}, Length y_val: {len(y_val)}, y_val Shape: {y_val.shape}\")\n",
        "print(f\"Length X_test: {len(X_test)}, X_test Shape: {X_test.shape}, Length y_test: {len(y_test)}, y_test Shape: {y_test.shape}\")"
      ],
      "metadata": {
        "id": "H6MGkEMux0vy",
        "colab": {
          "base_uri": "https://localhost:8080/"
        },
        "outputId": "acc5be4f-f014-4f14-94b4-d08581de6ed1"
      },
      "execution_count": 22,
      "outputs": [
        {
          "output_type": "stream",
          "name": "stdout",
          "text": [
            "Length X_train: 122, X_train Shape: (122, 51), Length y_train: 122, y_train Shape: (122, 2)\n",
            "Length X_val: 41, X_val Shape: (41, 51), Length y_val: 41, y_val Shape: (41, 2)\n",
            "Length X_test: 41, X_test Shape: (41, 51), Length y_test: 41, y_test Shape: (41, 2)\n"
          ]
        }
      ]
    },
    {
      "cell_type": "code",
      "source": [
        "def get_center_point(landmarks, left_bodypart, right_bodypart):\n",
        "  \"\"\"Calculates the center point of the two given landmarks.\"\"\"\n",
        "\n",
        "  left = tf.gather(landmarks, left_bodypart.value, axis=1)\n",
        "  right = tf.gather(landmarks, right_bodypart.value, axis=1)\n",
        "  center = left * 0.5 + right * 0.5\n",
        "  return center\n",
        "\n",
        "\n",
        "def get_pose_size(landmarks, torso_size_multiplier=2.5):\n",
        "  \"\"\"Calculates pose size.\n",
        "\n",
        "  It is the maximum of two values:\n",
        "    * Torso size multiplied by `torso_size_multiplier`\n",
        "    * Maximum distance from pose center to any pose landmark\n",
        "  \"\"\"\n",
        "  # Hips center\n",
        "  hips_center = get_center_point(landmarks, BodyPart.LEFT_HIP,\n",
        "                                 BodyPart.RIGHT_HIP)\n",
        "\n",
        "  # Shoulders center\n",
        "  shoulders_center = get_center_point(landmarks, BodyPart.LEFT_SHOULDER,\n",
        "                                      BodyPart.RIGHT_SHOULDER)\n",
        "\n",
        "  # Torso size as the minimum body size\n",
        "  torso_size = tf.linalg.norm(shoulders_center - hips_center)\n",
        "\n",
        "  # Pose center\n",
        "  pose_center_new = get_center_point(landmarks, BodyPart.LEFT_HIP,\n",
        "                                     BodyPart.RIGHT_HIP)\n",
        "  pose_center_new = tf.expand_dims(pose_center_new, axis=1)\n",
        "  # Broadcast the pose center to the same size as the landmark vector to\n",
        "  # perform substraction\n",
        "  pose_center_new = tf.broadcast_to(pose_center_new,\n",
        "                                    [tf.size(landmarks) // (17*2), 17, 2])\n",
        "\n",
        "  # Dist to pose center\n",
        "  d = tf.gather(landmarks - pose_center_new, 0, axis=0,\n",
        "                name=\"dist_to_pose_center\")\n",
        "  # Max dist to pose center\n",
        "  max_dist = tf.reduce_max(tf.linalg.norm(d, axis=0))\n",
        "\n",
        "  # Normalize scale\n",
        "  pose_size = tf.maximum(torso_size * torso_size_multiplier, max_dist)\n",
        "\n",
        "  return pose_size\n",
        "\n",
        "\n",
        "def normalize_pose_landmarks(landmarks):\n",
        "  \"\"\"Normalizes the landmarks translation by moving the pose center to (0,0) and\n",
        "  scaling it to a constant pose size.\n",
        "  \"\"\"\n",
        "  # Move landmarks so that the pose center becomes (0,0)\n",
        "  pose_center = get_center_point(landmarks, BodyPart.LEFT_HIP,\n",
        "                                 BodyPart.RIGHT_HIP)\n",
        "  pose_center = tf.expand_dims(pose_center, axis=1)\n",
        "  # Broadcast the pose center to the same size as the landmark vector to perform\n",
        "  # substraction\n",
        "  pose_center = tf.broadcast_to(pose_center,\n",
        "                                [tf.size(landmarks) // (17*2), 17, 2])\n",
        "  landmarks = landmarks - pose_center\n",
        "\n",
        "  # Scale the landmarks to a constant pose size\n",
        "  pose_size = get_pose_size(landmarks)\n",
        "  landmarks /= pose_size\n",
        "\n",
        "  return landmarks\n",
        "\n",
        "\n",
        "def landmarks_to_embedding(landmarks_and_scores):\n",
        "  \"\"\"Converts the input landmarks into a pose embedding.\"\"\"\n",
        "  # Reshape the flat input into a matrix with shape=(17, 3)\n",
        "  reshaped_inputs = keras.layers.Reshape((17, 3))(landmarks_and_scores)\n",
        "\n",
        "  # Normalize landmarks 2D\n",
        "  landmarks = normalize_pose_landmarks(reshaped_inputs[:, :, :2])\n",
        "\n",
        "  # Flatten the normalized landmark coordinates into a vector\n",
        "  embedding = keras.layers.Flatten()(landmarks)\n",
        "\n",
        "  return embedding"
      ],
      "metadata": {
        "id": "Havj7hEcmyRT"
      },
      "execution_count": null,
      "outputs": []
    },
    {
      "cell_type": "code",
      "source": [
        "# Define the model\n",
        "\n",
        "model = tf.keras.models.Sequential([\n",
        "    tf.keras.layers.Input(shape=(51,)),\n",
        "    tf.keras.layers.Lambda(landmarks_to_embedding),\n",
        "    tf.keras.layers.Dense(128, activation=tf.nn.relu6),\n",
        "    tf.keras.layers.Dropout(0.5),\n",
        "    tf.keras.layers.Dense(64, activation=tf.nn.relu6),\n",
        "    tf.keras.layers.Dropout(0.5),\n",
        "    tf.keras.layers.Dense(2, activation=\"softmax\")\n",
        "])\n",
        "model.summary()"
      ],
      "metadata": {
        "id": "HbBvfUChm0FQ",
        "colab": {
          "base_uri": "https://localhost:8080/"
        },
        "outputId": "af25eb14-0182-4522-bdcd-f823d8efad26"
      },
      "execution_count": 31,
      "outputs": [
        {
          "output_type": "stream",
          "name": "stdout",
          "text": [
            "Model: \"sequential_2\"\n",
            "_________________________________________________________________\n",
            " Layer (type)                Output Shape              Param #   \n",
            "=================================================================\n",
            " lambda_2 (Lambda)           (None, 34)                0         \n",
            "                                                                 \n",
            " dense_6 (Dense)             (None, 128)               4480      \n",
            "                                                                 \n",
            " dropout_4 (Dropout)         (None, 128)               0         \n",
            "                                                                 \n",
            " dense_7 (Dense)             (None, 64)                8256      \n",
            "                                                                 \n",
            " dropout_5 (Dropout)         (None, 64)                0         \n",
            "                                                                 \n",
            " dense_8 (Dense)             (None, 2)                 130       \n",
            "                                                                 \n",
            "=================================================================\n",
            "Total params: 12866 (50.26 KB)\n",
            "Trainable params: 12866 (50.26 KB)\n",
            "Non-trainable params: 0 (0.00 Byte)\n",
            "_________________________________________________________________\n"
          ]
        }
      ]
    },
    {
      "cell_type": "code",
      "source": [
        "model.compile(\n",
        "    optimizer='adam',\n",
        "    loss='categorical_crossentropy',\n",
        "    metrics=['accuracy']\n",
        ")\n",
        "\n",
        "# Add a checkpoint callback to store the checkpoint that has the highest validation accuracy.\n",
        "checkpoint_path = \"weights.best.hdf5\"\n",
        "checkpoint = keras.callbacks.ModelCheckpoint(checkpoint_path,\n",
        "                             monitor='val_accuracy',\n",
        "                             verbose=1,\n",
        "                             save_best_only=True,\n",
        "                             mode='max')\n",
        "earlystopping = keras.callbacks.EarlyStopping(monitor='val_accuracy',\n",
        "                                              patience=20)\n",
        "\n",
        "# Start training\n",
        "history = model.fit(X_train, y_train,\n",
        "                    epochs=200,\n",
        "                    batch_size=8,\n",
        "                    validation_data=(X_val, y_val),\n",
        "                    callbacks=[checkpoint, earlystopping])"
      ],
      "metadata": {
        "id": "_vA8xbGgm_SB",
        "colab": {
          "base_uri": "https://localhost:8080/"
        },
        "outputId": "40c099ec-8cb4-4610-aee4-f738ed384e3c"
      },
      "execution_count": 32,
      "outputs": [
        {
          "output_type": "stream",
          "name": "stdout",
          "text": [
            "Epoch 1/200\n",
            " 1/16 [>.............................] - ETA: 14s - loss: 0.6694 - accuracy: 0.6250\n",
            "Epoch 1: val_accuracy improved from -inf to 0.56098, saving model to weights.best.hdf5\n",
            "16/16 [==============================] - 1s 25ms/step - loss: 0.6972 - accuracy: 0.4344 - val_loss: 0.6631 - val_accuracy: 0.5610\n",
            "Epoch 2/200\n",
            " 1/16 [>.............................] - ETA: 0s - loss: 0.6754 - accuracy: 0.7500\n",
            "Epoch 2: val_accuracy improved from 0.56098 to 0.75610, saving model to weights.best.hdf5\n",
            "16/16 [==============================] - 0s 6ms/step - loss: 0.6630 - accuracy: 0.6721 - val_loss: 0.6375 - val_accuracy: 0.7561\n",
            "Epoch 3/200\n",
            " 1/16 [>.............................] - ETA: 0s - loss: 0.6554 - accuracy: 0.5000"
          ]
        },
        {
          "output_type": "stream",
          "name": "stderr",
          "text": [
            "/usr/local/lib/python3.10/dist-packages/keras/src/engine/training.py:3103: UserWarning: You are saving your model as an HDF5 file via `model.save()`. This file format is considered legacy. We recommend using instead the native Keras format, e.g. `model.save('my_model.keras')`.\n",
            "  saving_api.save_model(\n"
          ]
        },
        {
          "output_type": "stream",
          "name": "stdout",
          "text": [
            "\n",
            "Epoch 3: val_accuracy improved from 0.75610 to 0.78049, saving model to weights.best.hdf5\n",
            "16/16 [==============================] - 0s 6ms/step - loss: 0.6348 - accuracy: 0.6803 - val_loss: 0.6100 - val_accuracy: 0.7805\n",
            "Epoch 4/200\n",
            " 1/16 [>.............................] - ETA: 0s - loss: 0.5630 - accuracy: 1.0000\n",
            "Epoch 4: val_accuracy improved from 0.78049 to 0.95122, saving model to weights.best.hdf5\n",
            "16/16 [==============================] - 0s 5ms/step - loss: 0.5994 - accuracy: 0.7459 - val_loss: 0.5575 - val_accuracy: 0.9512\n",
            "Epoch 5/200\n",
            " 1/16 [>.............................] - ETA: 0s - loss: 0.5534 - accuracy: 0.7500\n",
            "Epoch 5: val_accuracy improved from 0.95122 to 0.97561, saving model to weights.best.hdf5\n",
            "16/16 [==============================] - 0s 8ms/step - loss: 0.5513 - accuracy: 0.8689 - val_loss: 0.4879 - val_accuracy: 0.9756\n",
            "Epoch 6/200\n",
            " 1/16 [>.............................] - ETA: 0s - loss: 0.5557 - accuracy: 0.8750\n",
            "Epoch 6: val_accuracy did not improve from 0.97561\n",
            "16/16 [==============================] - 0s 5ms/step - loss: 0.4906 - accuracy: 0.9426 - val_loss: 0.4151 - val_accuracy: 0.9756\n",
            "Epoch 7/200\n",
            " 1/16 [>.............................] - ETA: 0s - loss: 0.4817 - accuracy: 0.8750\n",
            "Epoch 7: val_accuracy did not improve from 0.97561\n",
            "16/16 [==============================] - 0s 4ms/step - loss: 0.4272 - accuracy: 0.8934 - val_loss: 0.3379 - val_accuracy: 0.9512\n",
            "Epoch 8/200\n",
            " 1/16 [>.............................] - ETA: 0s - loss: 0.3427 - accuracy: 1.0000\n",
            "Epoch 8: val_accuracy did not improve from 0.97561\n",
            "16/16 [==============================] - 0s 5ms/step - loss: 0.3448 - accuracy: 0.9426 - val_loss: 0.2812 - val_accuracy: 0.9512\n",
            "Epoch 9/200\n",
            " 1/16 [>.............................] - ETA: 0s - loss: 0.3977 - accuracy: 0.7500\n",
            "Epoch 9: val_accuracy did not improve from 0.97561\n",
            "16/16 [==============================] - 0s 6ms/step - loss: 0.3211 - accuracy: 0.9344 - val_loss: 0.2324 - val_accuracy: 0.9512\n",
            "Epoch 10/200\n",
            " 1/16 [>.............................] - ETA: 0s - loss: 0.1967 - accuracy: 1.0000\n",
            "Epoch 10: val_accuracy did not improve from 0.97561\n",
            "16/16 [==============================] - 0s 5ms/step - loss: 0.2808 - accuracy: 0.9590 - val_loss: 0.2012 - val_accuracy: 0.9512\n",
            "Epoch 11/200\n",
            " 1/16 [>.............................] - ETA: 0s - loss: 0.3186 - accuracy: 1.0000\n",
            "Epoch 11: val_accuracy did not improve from 0.97561\n",
            "16/16 [==============================] - 0s 5ms/step - loss: 0.2505 - accuracy: 0.9508 - val_loss: 0.1678 - val_accuracy: 0.9756\n",
            "Epoch 12/200\n",
            " 1/16 [>.............................] - ETA: 0s - loss: 0.2289 - accuracy: 1.0000\n",
            "Epoch 12: val_accuracy did not improve from 0.97561\n",
            "16/16 [==============================] - 0s 5ms/step - loss: 0.1837 - accuracy: 0.9836 - val_loss: 0.1716 - val_accuracy: 0.9512\n",
            "Epoch 13/200\n",
            " 1/16 [>.............................] - ETA: 0s - loss: 0.1482 - accuracy: 1.0000\n",
            "Epoch 13: val_accuracy did not improve from 0.97561\n",
            "16/16 [==============================] - 0s 6ms/step - loss: 0.1490 - accuracy: 0.9836 - val_loss: 0.1354 - val_accuracy: 0.9512\n",
            "Epoch 14/200\n",
            " 1/16 [>.............................] - ETA: 0s - loss: 0.1285 - accuracy: 1.0000\n",
            "Epoch 14: val_accuracy did not improve from 0.97561\n",
            "16/16 [==============================] - 0s 4ms/step - loss: 0.1434 - accuracy: 0.9590 - val_loss: 0.1180 - val_accuracy: 0.9756\n",
            "Epoch 15/200\n",
            " 1/16 [>.............................] - ETA: 0s - loss: 0.1519 - accuracy: 1.0000\n",
            "Epoch 15: val_accuracy did not improve from 0.97561\n",
            "16/16 [==============================] - 0s 5ms/step - loss: 0.1238 - accuracy: 0.9836 - val_loss: 0.1202 - val_accuracy: 0.9512\n",
            "Epoch 16/200\n",
            " 1/16 [>.............................] - ETA: 0s - loss: 0.0597 - accuracy: 1.0000\n",
            "Epoch 16: val_accuracy did not improve from 0.97561\n",
            "16/16 [==============================] - 0s 6ms/step - loss: 0.1221 - accuracy: 0.9672 - val_loss: 0.0897 - val_accuracy: 0.9756\n",
            "Epoch 17/200\n",
            " 1/16 [>.............................] - ETA: 0s - loss: 0.1009 - accuracy: 1.0000\n",
            "Epoch 17: val_accuracy did not improve from 0.97561\n",
            "16/16 [==============================] - 0s 5ms/step - loss: 0.1084 - accuracy: 0.9918 - val_loss: 0.1006 - val_accuracy: 0.9756\n",
            "Epoch 18/200\n",
            " 1/16 [>.............................] - ETA: 0s - loss: 0.0711 - accuracy: 1.0000\n",
            "Epoch 18: val_accuracy did not improve from 0.97561\n",
            "16/16 [==============================] - 0s 5ms/step - loss: 0.0652 - accuracy: 1.0000 - val_loss: 0.0991 - val_accuracy: 0.9512\n",
            "Epoch 19/200\n",
            " 1/16 [>.............................] - ETA: 0s - loss: 0.0565 - accuracy: 1.0000\n",
            "Epoch 19: val_accuracy did not improve from 0.97561\n",
            "16/16 [==============================] - 0s 5ms/step - loss: 0.1084 - accuracy: 0.9836 - val_loss: 0.0671 - val_accuracy: 0.9756\n",
            "Epoch 20/200\n",
            " 1/16 [>.............................] - ETA: 0s - loss: 0.0351 - accuracy: 1.0000\n",
            "Epoch 20: val_accuracy did not improve from 0.97561\n",
            "16/16 [==============================] - 0s 6ms/step - loss: 0.0777 - accuracy: 0.9918 - val_loss: 0.0802 - val_accuracy: 0.9756\n",
            "Epoch 21/200\n",
            " 1/16 [>.............................] - ETA: 0s - loss: 0.0423 - accuracy: 1.0000\n",
            "Epoch 21: val_accuracy did not improve from 0.97561\n",
            "16/16 [==============================] - 0s 6ms/step - loss: 0.0908 - accuracy: 0.9918 - val_loss: 0.0579 - val_accuracy: 0.9756\n",
            "Epoch 22/200\n",
            " 1/16 [>.............................] - ETA: 0s - loss: 0.1011 - accuracy: 1.0000\n",
            "Epoch 22: val_accuracy did not improve from 0.97561\n",
            "16/16 [==============================] - 0s 6ms/step - loss: 0.0716 - accuracy: 0.9918 - val_loss: 0.0762 - val_accuracy: 0.9756\n",
            "Epoch 23/200\n",
            " 1/16 [>.............................] - ETA: 0s - loss: 0.0448 - accuracy: 1.0000\n",
            "Epoch 23: val_accuracy did not improve from 0.97561\n",
            "16/16 [==============================] - 0s 5ms/step - loss: 0.0635 - accuracy: 0.9836 - val_loss: 0.0568 - val_accuracy: 0.9756\n",
            "Epoch 24/200\n",
            " 1/16 [>.............................] - ETA: 0s - loss: 0.0013 - accuracy: 1.0000\n",
            "Epoch 24: val_accuracy did not improve from 0.97561\n",
            "16/16 [==============================] - 0s 5ms/step - loss: 0.0520 - accuracy: 0.9836 - val_loss: 0.0630 - val_accuracy: 0.9756\n",
            "Epoch 25/200\n",
            " 1/16 [>.............................] - ETA: 0s - loss: 0.1036 - accuracy: 0.8750\n",
            "Epoch 25: val_accuracy did not improve from 0.97561\n",
            "16/16 [==============================] - 0s 4ms/step - loss: 0.0658 - accuracy: 0.9754 - val_loss: 0.0785 - val_accuracy: 0.9756\n"
          ]
        }
      ]
    },
    {
      "cell_type": "code",
      "source": [
        "plt.figure(figsize=(12, 4))\n",
        "plt.subplot(1, 2, 1)\n",
        "plt.plot(history.history['accuracy'], label='Training Accuracy')\n",
        "plt.plot(history.history['val_accuracy'], label='Validation Accuracy')\n",
        "plt.title('Accuracy')\n",
        "plt.xlabel('Epoch')\n",
        "plt.ylabel('Accuracy')\n",
        "plt.legend()\n",
        "\n",
        "plt.subplot(1, 2, 2)\n",
        "plt.plot(history.history['loss'], label='Training Loss')\n",
        "plt.plot(history.history['val_loss'], label='Validation Loss')\n",
        "plt.title('Loss')\n",
        "plt.xlabel('Epoch')\n",
        "plt.ylabel('Loss')\n",
        "plt.legend()\n",
        "\n",
        "plt.show()"
      ],
      "metadata": {
        "id": "DK254u8Z0TP7",
        "colab": {
          "base_uri": "https://localhost:8080/",
          "height": 410
        },
        "outputId": "0dc4e6fa-2399-4bed-f5fc-94747ac173fd"
      },
      "execution_count": 33,
      "outputs": [
        {
          "output_type": "display_data",
          "data": {
            "text/plain": [
              "<Figure size 1200x400 with 2 Axes>"
            ],
            "image/png": "[encoded data removed]"
          },
          "metadata": {}
        }
      ]
    },
    {
      "cell_type": "code",
      "source": [
        "# Evaluate the model using the TEST dataset\n",
        "loss, accuracy = model.evaluate(X_test, y_test)"
      ],
      "metadata": {
        "colab": {
          "base_uri": "https://localhost:8080/"
        },
        "id": "wDVX2SLQr5SZ",
        "outputId": "030e7cce-922a-46f8-f8f5-308760f5ebf0"
      },
      "execution_count": 34,
      "outputs": [
        {
          "output_type": "stream",
          "name": "stdout",
          "text": [
            "2/2 [==============================] - 0s 21ms/step - loss: 0.0645 - accuracy: 1.0000\n"
          ]
        }
      ]
    },
    {
      "cell_type": "code",
      "source": [
        "def plot_confusion_matrix(cm, classes,\n",
        "                          normalize=False,\n",
        "                          title='Confusion matrix',\n",
        "                          cmap=plt.cm.Blues):\n",
        "  \"\"\"Plots the confusion matrix.\"\"\"\n",
        "  if normalize:\n",
        "    cm = cm.astype('float') / cm.sum(axis=1)[:, np.newaxis]\n",
        "    print(\"Normalized confusion matrix\")\n",
        "  else:\n",
        "    print('Confusion matrix, without normalization')\n",
        "\n",
        "  plt.imshow(cm, interpolation='nearest', cmap=cmap)\n",
        "  plt.title(title)\n",
        "  plt.colorbar()\n",
        "  tick_marks = np.arange(len(classes))\n",
        "  plt.xticks(tick_marks, classes, rotation=55)\n",
        "  plt.yticks(tick_marks, classes)\n",
        "  fmt = '.2f' if normalize else 'd'\n",
        "  thresh = cm.max() / 2.\n",
        "  for i, j in itertools.product(range(cm.shape[0]), range(cm.shape[1])):\n",
        "    plt.text(j, i, format(cm[i, j], fmt),\n",
        "              horizontalalignment=\"center\",\n",
        "              color=\"white\" if cm[i, j] > thresh else \"black\")\n",
        "\n",
        "  plt.ylabel('True label')\n",
        "  plt.xlabel('Predicted label')\n",
        "  plt.tight_layout()\n",
        "\n",
        "# Classify pose in the TEST dataset using the trained model\n",
        "y_pred = model.predict(X_test)\n",
        "\n",
        "# Convert the prediction result to class name\n",
        "y_pred_label = [class_names[i] for i in np.argmax(y_pred, axis=1)]\n",
        "y_true_label = [class_names[i] for i in np.argmax(y_test, axis=1)]\n",
        "\n",
        "# Plot the confusion matrix\n",
        "cm = confusion_matrix(np.argmax(y_test, axis=1), np.argmax(y_pred, axis=1))\n",
        "plot_confusion_matrix(cm,\n",
        "                      class_names,\n",
        "                      title ='Confusion Matrix of Pose Classification Model')\n",
        "\n",
        "# Print the classification report\n",
        "print('\\nClassification Report:\\n', classification_report(y_true_label,\n",
        "                                                          y_pred_label))"
      ],
      "metadata": {
        "colab": {
          "base_uri": "https://localhost:8080/",
          "height": 722
        },
        "id": "kc18BAfMnJwP",
        "outputId": "9934c12a-2988-4318-c773-47336f14ed0f"
      },
      "execution_count": 35,
      "outputs": [
        {
          "output_type": "stream",
          "name": "stdout",
          "text": [
            "2/2 [==============================] - 0s 5ms/step\n",
            "Confusion matrix, without normalization\n",
            "\n",
            "Classification Report:\n",
            "               precision    recall  f1-score   support\n",
            "\n",
            "        down       1.00      1.00      1.00        18\n",
            "          up       1.00      1.00      1.00        23\n",
            "\n",
            "    accuracy                           1.00        41\n",
            "   macro avg       1.00      1.00      1.00        41\n",
            "weighted avg       1.00      1.00      1.00        41\n",
            "\n"
          ]
        },
        {
          "output_type": "display_data",
          "data": {
            "text/plain": [
              "<Figure size 640x480 with 2 Axes>"
            ],
            "image/png": "[encoded data removed]"
          },
          "metadata": {}
        }
      ]
    },
    {
      "cell_type": "markdown",
      "source": [
        "**Save Model**"
      ],
      "metadata": {
        "id": "XFnQd2Gu1dNp"
      }
    },
    {
      "cell_type": "code",
      "source": [
        "converter = tf.lite.TFLiteConverter.from_keras_model(model)\n",
        "converter.optimizations = [tf.lite.Optimize.DEFAULT]\n",
        "tflite_model = converter.convert()\n",
        "\n",
        "print('Model size: %dKB' % (len(tflite_model) / 1024))\n",
        "\n",
        "with open('jumping_jack_softmax.tflite', 'wb') as f:\n",
        "  f.write(tflite_model)"
      ],
      "metadata": {
        "id": "kbKw1xpt_Bya"
      },
      "execution_count": null,
      "outputs": []
    }
  ],
  "metadata": {
    "colab": {
      "provenance": [],
      "gpuType": "T4"
    },
    "kernelspec": {
      "display_name": "Python 3",
      "name": "python3"
    },
    "language_info": {
      "name": "python"
    },
    "accelerator": "GPU"
  },
  "nbformat": 4,
  "nbformat_minor": 0
}